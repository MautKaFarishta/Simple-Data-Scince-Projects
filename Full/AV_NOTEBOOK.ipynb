{
  "nbformat": 4,
  "nbformat_minor": 0,
  "metadata": {
    "colab": {
      "name": "AV_NOTEBOOK",
      "provenance": [],
      "collapsed_sections": [
        "lX1mjZoQoPrj",
        "wyStMLG7wXM-",
        "nwcBPZkoXDBJ",
        "tdla58AuXk1a",
        "pkqP2eWqXxe-",
        "78W25UcohXwR",
        "YQK80pqwkvr7",
        "Njmj8hMwuME1"
      ],
      "authorship_tag": "ABX9TyOKCMmsp9wxHmi9MuQSfyvU",
      "include_colab_link": true
    },
    "kernelspec": {
      "name": "python3",
      "display_name": "Python 3"
    },
    "language_info": {
      "name": "python"
    }
  },
  "cells": [
    {
      "cell_type": "markdown",
      "metadata": {
        "id": "view-in-github",
        "colab_type": "text"
      },
      "source": [
        "<a href=\"https://colab.research.google.com/github/MautKaFarishta/Simple-Data-Scince-Projects/blob/master/Full/AV_NOTEBOOK.ipynb\" target=\"_parent\"><img src=\"https://colab.research.google.com/assets/colab-badge.svg\" alt=\"Open In Colab\"/></a>"
      ]
    },
    {
      "cell_type": "code",
      "metadata": {
        "id": "GIPB-JTpnU99"
      },
      "source": [
        "import pandas as pd\n",
        "import numpy as np\n",
        "import matplotlib.pyplot as plt\n",
        "import seaborn as sns\n",
        "import warnings\n",
        "warnings.filterwarnings(\"ignore\")\n",
        "from sklearn.utils import resample\n",
        "from sklearn.linear_model import LogisticRegression\n",
        "from sklearn.model_selection import GridSearchCV,train_test_split,RandomizedSearchCV\n",
        "from sklearn.metrics import accuracy_score,roc_auc_score,roc_curve\n",
        "from sklearn.tree import DecisionTreeClassifier\n",
        "from sklearn.ensemble import RandomForestClassifier,GradientBoostingClassifier\n",
        "import xgboost as xgb"
      ],
      "execution_count": 120,
      "outputs": []
    },
    {
      "cell_type": "markdown",
      "metadata": {
        "id": "lX1mjZoQoPrj"
      },
      "source": [
        "# ***`Understanding the Data`***\n",
        "\n",
        "\n",
        "*   Basic Stuff\n",
        "*   Dealing with Null Values\n",
        "\n"
      ]
    },
    {
      "cell_type": "code",
      "metadata": {
        "colab": {
          "base_uri": "https://localhost:8080/",
          "height": 218
        },
        "id": "d7sUTDMXoBjc",
        "outputId": "a4fdafb8-a4ad-4a96-a4cc-95d18bd4ee00"
      },
      "source": [
        "data = pd.read_csv('train.csv')\n",
        "data.head()"
      ],
      "execution_count": 204,
      "outputs": [
        {
          "output_type": "execute_result",
          "data": {
            "text/html": [
              "<div>\n",
              "<style scoped>\n",
              "    .dataframe tbody tr th:only-of-type {\n",
              "        vertical-align: middle;\n",
              "    }\n",
              "\n",
              "    .dataframe tbody tr th {\n",
              "        vertical-align: top;\n",
              "    }\n",
              "\n",
              "    .dataframe thead th {\n",
              "        text-align: right;\n",
              "    }\n",
              "</style>\n",
              "<table border=\"1\" class=\"dataframe\">\n",
              "  <thead>\n",
              "    <tr style=\"text-align: right;\">\n",
              "      <th></th>\n",
              "      <th>ID</th>\n",
              "      <th>Gender</th>\n",
              "      <th>Age</th>\n",
              "      <th>Region_Code</th>\n",
              "      <th>Occupation</th>\n",
              "      <th>Channel_Code</th>\n",
              "      <th>Vintage</th>\n",
              "      <th>Credit_Product</th>\n",
              "      <th>Avg_Account_Balance</th>\n",
              "      <th>Is_Active</th>\n",
              "      <th>Is_Lead</th>\n",
              "    </tr>\n",
              "  </thead>\n",
              "  <tbody>\n",
              "    <tr>\n",
              "      <th>0</th>\n",
              "      <td>NNVBBKZB</td>\n",
              "      <td>Female</td>\n",
              "      <td>73</td>\n",
              "      <td>RG268</td>\n",
              "      <td>Other</td>\n",
              "      <td>X3</td>\n",
              "      <td>43</td>\n",
              "      <td>No</td>\n",
              "      <td>1045696</td>\n",
              "      <td>No</td>\n",
              "      <td>0</td>\n",
              "    </tr>\n",
              "    <tr>\n",
              "      <th>1</th>\n",
              "      <td>IDD62UNG</td>\n",
              "      <td>Female</td>\n",
              "      <td>30</td>\n",
              "      <td>RG277</td>\n",
              "      <td>Salaried</td>\n",
              "      <td>X1</td>\n",
              "      <td>32</td>\n",
              "      <td>No</td>\n",
              "      <td>581988</td>\n",
              "      <td>No</td>\n",
              "      <td>0</td>\n",
              "    </tr>\n",
              "    <tr>\n",
              "      <th>2</th>\n",
              "      <td>HD3DSEMC</td>\n",
              "      <td>Female</td>\n",
              "      <td>56</td>\n",
              "      <td>RG268</td>\n",
              "      <td>Self_Employed</td>\n",
              "      <td>X3</td>\n",
              "      <td>26</td>\n",
              "      <td>No</td>\n",
              "      <td>1484315</td>\n",
              "      <td>Yes</td>\n",
              "      <td>0</td>\n",
              "    </tr>\n",
              "    <tr>\n",
              "      <th>3</th>\n",
              "      <td>BF3NC7KV</td>\n",
              "      <td>Male</td>\n",
              "      <td>34</td>\n",
              "      <td>RG270</td>\n",
              "      <td>Salaried</td>\n",
              "      <td>X1</td>\n",
              "      <td>19</td>\n",
              "      <td>No</td>\n",
              "      <td>470454</td>\n",
              "      <td>No</td>\n",
              "      <td>0</td>\n",
              "    </tr>\n",
              "    <tr>\n",
              "      <th>4</th>\n",
              "      <td>TEASRWXV</td>\n",
              "      <td>Female</td>\n",
              "      <td>30</td>\n",
              "      <td>RG282</td>\n",
              "      <td>Salaried</td>\n",
              "      <td>X1</td>\n",
              "      <td>33</td>\n",
              "      <td>No</td>\n",
              "      <td>886787</td>\n",
              "      <td>No</td>\n",
              "      <td>0</td>\n",
              "    </tr>\n",
              "  </tbody>\n",
              "</table>\n",
              "</div>"
            ],
            "text/plain": [
              "         ID  Gender  Age  ... Avg_Account_Balance Is_Active Is_Lead\n",
              "0  NNVBBKZB  Female   73  ...             1045696        No       0\n",
              "1  IDD62UNG  Female   30  ...              581988        No       0\n",
              "2  HD3DSEMC  Female   56  ...             1484315       Yes       0\n",
              "3  BF3NC7KV    Male   34  ...              470454        No       0\n",
              "4  TEASRWXV  Female   30  ...              886787        No       0\n",
              "\n",
              "[5 rows x 11 columns]"
            ]
          },
          "metadata": {
            "tags": []
          },
          "execution_count": 204
        }
      ]
    },
    {
      "cell_type": "code",
      "metadata": {
        "colab": {
          "base_uri": "https://localhost:8080/"
        },
        "id": "YyYmrFgmo-_S",
        "outputId": "01421590-d20a-4816-e516-b8cdce13fc80"
      },
      "source": [
        "data.info()"
      ],
      "execution_count": 205,
      "outputs": [
        {
          "output_type": "stream",
          "text": [
            "<class 'pandas.core.frame.DataFrame'>\n",
            "RangeIndex: 245725 entries, 0 to 245724\n",
            "Data columns (total 11 columns):\n",
            " #   Column               Non-Null Count   Dtype \n",
            "---  ------               --------------   ----- \n",
            " 0   ID                   245725 non-null  object\n",
            " 1   Gender               245725 non-null  object\n",
            " 2   Age                  245725 non-null  int64 \n",
            " 3   Region_Code          245725 non-null  object\n",
            " 4   Occupation           245725 non-null  object\n",
            " 5   Channel_Code         245725 non-null  object\n",
            " 6   Vintage              245725 non-null  int64 \n",
            " 7   Credit_Product       216400 non-null  object\n",
            " 8   Avg_Account_Balance  245725 non-null  int64 \n",
            " 9   Is_Active            245725 non-null  object\n",
            " 10  Is_Lead              245725 non-null  int64 \n",
            "dtypes: int64(4), object(7)\n",
            "memory usage: 20.6+ MB\n"
          ],
          "name": "stdout"
        }
      ]
    },
    {
      "cell_type": "markdown",
      "metadata": {
        "id": "X3aja10lpQev"
      },
      "source": [
        "From info() we came to know that there are null values in [Vintage,Credit_Product,Credit_Product,Avg_Account_Balance,Is_Active,Is_Lead]"
      ]
    },
    {
      "cell_type": "code",
      "metadata": {
        "colab": {
          "base_uri": "https://localhost:8080/",
          "height": 288
        },
        "id": "qTo9mzM8oV7Q",
        "outputId": "ca44b80c-f5cb-4001-e66c-268e421d022e"
      },
      "source": [
        "data.describe()"
      ],
      "execution_count": 206,
      "outputs": [
        {
          "output_type": "execute_result",
          "data": {
            "text/html": [
              "<div>\n",
              "<style scoped>\n",
              "    .dataframe tbody tr th:only-of-type {\n",
              "        vertical-align: middle;\n",
              "    }\n",
              "\n",
              "    .dataframe tbody tr th {\n",
              "        vertical-align: top;\n",
              "    }\n",
              "\n",
              "    .dataframe thead th {\n",
              "        text-align: right;\n",
              "    }\n",
              "</style>\n",
              "<table border=\"1\" class=\"dataframe\">\n",
              "  <thead>\n",
              "    <tr style=\"text-align: right;\">\n",
              "      <th></th>\n",
              "      <th>Age</th>\n",
              "      <th>Vintage</th>\n",
              "      <th>Avg_Account_Balance</th>\n",
              "      <th>Is_Lead</th>\n",
              "    </tr>\n",
              "  </thead>\n",
              "  <tbody>\n",
              "    <tr>\n",
              "      <th>count</th>\n",
              "      <td>245725.000000</td>\n",
              "      <td>245725.000000</td>\n",
              "      <td>2.457250e+05</td>\n",
              "      <td>245725.000000</td>\n",
              "    </tr>\n",
              "    <tr>\n",
              "      <th>mean</th>\n",
              "      <td>43.856307</td>\n",
              "      <td>46.959141</td>\n",
              "      <td>1.128403e+06</td>\n",
              "      <td>0.237208</td>\n",
              "    </tr>\n",
              "    <tr>\n",
              "      <th>std</th>\n",
              "      <td>14.828672</td>\n",
              "      <td>32.353136</td>\n",
              "      <td>8.529364e+05</td>\n",
              "      <td>0.425372</td>\n",
              "    </tr>\n",
              "    <tr>\n",
              "      <th>min</th>\n",
              "      <td>23.000000</td>\n",
              "      <td>7.000000</td>\n",
              "      <td>2.079000e+04</td>\n",
              "      <td>0.000000</td>\n",
              "    </tr>\n",
              "    <tr>\n",
              "      <th>25%</th>\n",
              "      <td>30.000000</td>\n",
              "      <td>20.000000</td>\n",
              "      <td>6.043100e+05</td>\n",
              "      <td>0.000000</td>\n",
              "    </tr>\n",
              "    <tr>\n",
              "      <th>50%</th>\n",
              "      <td>43.000000</td>\n",
              "      <td>32.000000</td>\n",
              "      <td>8.946010e+05</td>\n",
              "      <td>0.000000</td>\n",
              "    </tr>\n",
              "    <tr>\n",
              "      <th>75%</th>\n",
              "      <td>54.000000</td>\n",
              "      <td>73.000000</td>\n",
              "      <td>1.366666e+06</td>\n",
              "      <td>0.000000</td>\n",
              "    </tr>\n",
              "    <tr>\n",
              "      <th>max</th>\n",
              "      <td>85.000000</td>\n",
              "      <td>135.000000</td>\n",
              "      <td>1.035201e+07</td>\n",
              "      <td>1.000000</td>\n",
              "    </tr>\n",
              "  </tbody>\n",
              "</table>\n",
              "</div>"
            ],
            "text/plain": [
              "                 Age        Vintage  Avg_Account_Balance        Is_Lead\n",
              "count  245725.000000  245725.000000         2.457250e+05  245725.000000\n",
              "mean       43.856307      46.959141         1.128403e+06       0.237208\n",
              "std        14.828672      32.353136         8.529364e+05       0.425372\n",
              "min        23.000000       7.000000         2.079000e+04       0.000000\n",
              "25%        30.000000      20.000000         6.043100e+05       0.000000\n",
              "50%        43.000000      32.000000         8.946010e+05       0.000000\n",
              "75%        54.000000      73.000000         1.366666e+06       0.000000\n",
              "max        85.000000     135.000000         1.035201e+07       1.000000"
            ]
          },
          "metadata": {
            "tags": []
          },
          "execution_count": 206
        }
      ]
    },
    {
      "cell_type": "markdown",
      "metadata": {
        "id": "ItKpGs4Aqp-k"
      },
      "source": [
        "from describe we can Understand the statistical information of numerical variables.\n",
        "\n",
        "\n",
        "---\n",
        "\n"
      ]
    },
    {
      "cell_type": "code",
      "metadata": {
        "colab": {
          "base_uri": "https://localhost:8080/",
          "height": 218
        },
        "id": "AWEw3KoPrXAI",
        "outputId": "7f3033a9-2fac-409c-b76a-4d8acd229805"
      },
      "source": [
        "data.tail() "
      ],
      "execution_count": 207,
      "outputs": [
        {
          "output_type": "execute_result",
          "data": {
            "text/html": [
              "<div>\n",
              "<style scoped>\n",
              "    .dataframe tbody tr th:only-of-type {\n",
              "        vertical-align: middle;\n",
              "    }\n",
              "\n",
              "    .dataframe tbody tr th {\n",
              "        vertical-align: top;\n",
              "    }\n",
              "\n",
              "    .dataframe thead th {\n",
              "        text-align: right;\n",
              "    }\n",
              "</style>\n",
              "<table border=\"1\" class=\"dataframe\">\n",
              "  <thead>\n",
              "    <tr style=\"text-align: right;\">\n",
              "      <th></th>\n",
              "      <th>ID</th>\n",
              "      <th>Gender</th>\n",
              "      <th>Age</th>\n",
              "      <th>Region_Code</th>\n",
              "      <th>Occupation</th>\n",
              "      <th>Channel_Code</th>\n",
              "      <th>Vintage</th>\n",
              "      <th>Credit_Product</th>\n",
              "      <th>Avg_Account_Balance</th>\n",
              "      <th>Is_Active</th>\n",
              "      <th>Is_Lead</th>\n",
              "    </tr>\n",
              "  </thead>\n",
              "  <tbody>\n",
              "    <tr>\n",
              "      <th>245720</th>\n",
              "      <td>BPAWWXZN</td>\n",
              "      <td>Male</td>\n",
              "      <td>51</td>\n",
              "      <td>RG284</td>\n",
              "      <td>Self_Employed</td>\n",
              "      <td>X3</td>\n",
              "      <td>109</td>\n",
              "      <td>NaN</td>\n",
              "      <td>1925586</td>\n",
              "      <td>No</td>\n",
              "      <td>0</td>\n",
              "    </tr>\n",
              "    <tr>\n",
              "      <th>245721</th>\n",
              "      <td>HFNB7JY8</td>\n",
              "      <td>Male</td>\n",
              "      <td>27</td>\n",
              "      <td>RG268</td>\n",
              "      <td>Salaried</td>\n",
              "      <td>X1</td>\n",
              "      <td>15</td>\n",
              "      <td>No</td>\n",
              "      <td>862952</td>\n",
              "      <td>Yes</td>\n",
              "      <td>0</td>\n",
              "    </tr>\n",
              "    <tr>\n",
              "      <th>245722</th>\n",
              "      <td>GEHAUCWT</td>\n",
              "      <td>Female</td>\n",
              "      <td>26</td>\n",
              "      <td>RG281</td>\n",
              "      <td>Salaried</td>\n",
              "      <td>X1</td>\n",
              "      <td>13</td>\n",
              "      <td>No</td>\n",
              "      <td>670659</td>\n",
              "      <td>No</td>\n",
              "      <td>0</td>\n",
              "    </tr>\n",
              "    <tr>\n",
              "      <th>245723</th>\n",
              "      <td>GE7V8SAH</td>\n",
              "      <td>Female</td>\n",
              "      <td>28</td>\n",
              "      <td>RG273</td>\n",
              "      <td>Salaried</td>\n",
              "      <td>X1</td>\n",
              "      <td>31</td>\n",
              "      <td>No</td>\n",
              "      <td>407504</td>\n",
              "      <td>No</td>\n",
              "      <td>0</td>\n",
              "    </tr>\n",
              "    <tr>\n",
              "      <th>245724</th>\n",
              "      <td>BOCZSWLJ</td>\n",
              "      <td>Male</td>\n",
              "      <td>29</td>\n",
              "      <td>RG269</td>\n",
              "      <td>Salaried</td>\n",
              "      <td>X1</td>\n",
              "      <td>21</td>\n",
              "      <td>No</td>\n",
              "      <td>1129276</td>\n",
              "      <td>No</td>\n",
              "      <td>0</td>\n",
              "    </tr>\n",
              "  </tbody>\n",
              "</table>\n",
              "</div>"
            ],
            "text/plain": [
              "              ID  Gender  Age  ... Avg_Account_Balance Is_Active Is_Lead\n",
              "245720  BPAWWXZN    Male   51  ...             1925586        No       0\n",
              "245721  HFNB7JY8    Male   27  ...              862952       Yes       0\n",
              "245722  GEHAUCWT  Female   26  ...              670659        No       0\n",
              "245723  GE7V8SAH  Female   28  ...              407504        No       0\n",
              "245724  BOCZSWLJ    Male   29  ...             1129276        No       0\n",
              "\n",
              "[5 rows x 11 columns]"
            ]
          },
          "metadata": {
            "tags": []
          },
          "execution_count": 207
        }
      ]
    },
    {
      "cell_type": "code",
      "metadata": {
        "colab": {
          "base_uri": "https://localhost:8080/"
        },
        "id": "gMdqnHb6sIkV",
        "outputId": "0ca87c16-c8b1-4e33-81d3-d8612695322a"
      },
      "source": [
        "data.info()"
      ],
      "execution_count": 208,
      "outputs": [
        {
          "output_type": "stream",
          "text": [
            "<class 'pandas.core.frame.DataFrame'>\n",
            "RangeIndex: 245725 entries, 0 to 245724\n",
            "Data columns (total 11 columns):\n",
            " #   Column               Non-Null Count   Dtype \n",
            "---  ------               --------------   ----- \n",
            " 0   ID                   245725 non-null  object\n",
            " 1   Gender               245725 non-null  object\n",
            " 2   Age                  245725 non-null  int64 \n",
            " 3   Region_Code          245725 non-null  object\n",
            " 4   Occupation           245725 non-null  object\n",
            " 5   Channel_Code         245725 non-null  object\n",
            " 6   Vintage              245725 non-null  int64 \n",
            " 7   Credit_Product       216400 non-null  object\n",
            " 8   Avg_Account_Balance  245725 non-null  int64 \n",
            " 9   Is_Active            245725 non-null  object\n",
            " 10  Is_Lead              245725 non-null  int64 \n",
            "dtypes: int64(4), object(7)\n",
            "memory usage: 20.6+ MB\n"
          ],
          "name": "stdout"
        }
      ]
    },
    {
      "cell_type": "markdown",
      "metadata": {
        "id": "B0ixHY10scYB"
      },
      "source": [
        "Now Only 'Credit_Product' is having Null Value"
      ]
    },
    {
      "cell_type": "code",
      "metadata": {
        "colab": {
          "base_uri": "https://localhost:8080/"
        },
        "id": "Cg_pYUYxsZ6u",
        "outputId": "77ef7e33-361d-4cd9-a58e-c57e21412386"
      },
      "source": [
        "print(data['Credit_Product'].unique())\n",
        "data.isnull().sum(axis = 0)"
      ],
      "execution_count": 209,
      "outputs": [
        {
          "output_type": "stream",
          "text": [
            "['No' nan 'Yes']\n"
          ],
          "name": "stdout"
        },
        {
          "output_type": "execute_result",
          "data": {
            "text/plain": [
              "ID                         0\n",
              "Gender                     0\n",
              "Age                        0\n",
              "Region_Code                0\n",
              "Occupation                 0\n",
              "Channel_Code               0\n",
              "Vintage                    0\n",
              "Credit_Product         29325\n",
              "Avg_Account_Balance        0\n",
              "Is_Active                  0\n",
              "Is_Lead                    0\n",
              "dtype: int64"
            ]
          },
          "metadata": {
            "tags": []
          },
          "execution_count": 209
        }
      ]
    },
    {
      "cell_type": "markdown",
      "metadata": {
        "id": "ToeCSWPntI12"
      },
      "source": [
        "\n",
        "\n",
        "*   There are 29325 null values in 'Credit_Product' \n",
        "*   Can't remove this much of data because it is roughly more than 10% of data\n",
        "* Let's Create a new catagory i.e 'Unknown'\n",
        "\n"
      ]
    },
    {
      "cell_type": "code",
      "metadata": {
        "colab": {
          "base_uri": "https://localhost:8080/"
        },
        "id": "9-798CwBsn9E",
        "outputId": "582c962c-fbe5-4e88-bd13-b841921d7aec"
      },
      "source": [
        "data['Credit_Product'].fillna('Unknown',inplace = True)\n",
        "data['Credit_Product'].value_counts()"
      ],
      "execution_count": 210,
      "outputs": [
        {
          "output_type": "execute_result",
          "data": {
            "text/plain": [
              "No         144357\n",
              "Yes         72043\n",
              "Unknown     29325\n",
              "Name: Credit_Product, dtype: int64"
            ]
          },
          "metadata": {
            "tags": []
          },
          "execution_count": 210
        }
      ]
    },
    {
      "cell_type": "code",
      "metadata": {
        "colab": {
          "base_uri": "https://localhost:8080/"
        },
        "id": "b_cnj8PxwU2i",
        "outputId": "4bcd8133-5523-41a2-bef3-e1952077069b"
      },
      "source": [
        "data.isnull().sum(axis = 0)"
      ],
      "execution_count": 211,
      "outputs": [
        {
          "output_type": "execute_result",
          "data": {
            "text/plain": [
              "ID                     0\n",
              "Gender                 0\n",
              "Age                    0\n",
              "Region_Code            0\n",
              "Occupation             0\n",
              "Channel_Code           0\n",
              "Vintage                0\n",
              "Credit_Product         0\n",
              "Avg_Account_Balance    0\n",
              "Is_Active              0\n",
              "Is_Lead                0\n",
              "dtype: int64"
            ]
          },
          "metadata": {
            "tags": []
          },
          "execution_count": 211
        }
      ]
    },
    {
      "cell_type": "markdown",
      "metadata": {
        "id": "wyStMLG7wXM-"
      },
      "source": [
        "# ***`EDA`***\n",
        "\n",
        "\n",
        "*   Visualizing Data\n",
        "\n"
      ]
    },
    {
      "cell_type": "code",
      "metadata": {
        "colab": {
          "base_uri": "https://localhost:8080/",
          "height": 0
        },
        "id": "t1WYoBh5tAfC",
        "outputId": "7baf9bf6-d199-4e03-d2d1-0392a4d74c97"
      },
      "source": [
        "data.head()"
      ],
      "execution_count": 212,
      "outputs": [
        {
          "output_type": "execute_result",
          "data": {
            "text/html": [
              "<div>\n",
              "<style scoped>\n",
              "    .dataframe tbody tr th:only-of-type {\n",
              "        vertical-align: middle;\n",
              "    }\n",
              "\n",
              "    .dataframe tbody tr th {\n",
              "        vertical-align: top;\n",
              "    }\n",
              "\n",
              "    .dataframe thead th {\n",
              "        text-align: right;\n",
              "    }\n",
              "</style>\n",
              "<table border=\"1\" class=\"dataframe\">\n",
              "  <thead>\n",
              "    <tr style=\"text-align: right;\">\n",
              "      <th></th>\n",
              "      <th>ID</th>\n",
              "      <th>Gender</th>\n",
              "      <th>Age</th>\n",
              "      <th>Region_Code</th>\n",
              "      <th>Occupation</th>\n",
              "      <th>Channel_Code</th>\n",
              "      <th>Vintage</th>\n",
              "      <th>Credit_Product</th>\n",
              "      <th>Avg_Account_Balance</th>\n",
              "      <th>Is_Active</th>\n",
              "      <th>Is_Lead</th>\n",
              "    </tr>\n",
              "  </thead>\n",
              "  <tbody>\n",
              "    <tr>\n",
              "      <th>0</th>\n",
              "      <td>NNVBBKZB</td>\n",
              "      <td>Female</td>\n",
              "      <td>73</td>\n",
              "      <td>RG268</td>\n",
              "      <td>Other</td>\n",
              "      <td>X3</td>\n",
              "      <td>43</td>\n",
              "      <td>No</td>\n",
              "      <td>1045696</td>\n",
              "      <td>No</td>\n",
              "      <td>0</td>\n",
              "    </tr>\n",
              "    <tr>\n",
              "      <th>1</th>\n",
              "      <td>IDD62UNG</td>\n",
              "      <td>Female</td>\n",
              "      <td>30</td>\n",
              "      <td>RG277</td>\n",
              "      <td>Salaried</td>\n",
              "      <td>X1</td>\n",
              "      <td>32</td>\n",
              "      <td>No</td>\n",
              "      <td>581988</td>\n",
              "      <td>No</td>\n",
              "      <td>0</td>\n",
              "    </tr>\n",
              "    <tr>\n",
              "      <th>2</th>\n",
              "      <td>HD3DSEMC</td>\n",
              "      <td>Female</td>\n",
              "      <td>56</td>\n",
              "      <td>RG268</td>\n",
              "      <td>Self_Employed</td>\n",
              "      <td>X3</td>\n",
              "      <td>26</td>\n",
              "      <td>No</td>\n",
              "      <td>1484315</td>\n",
              "      <td>Yes</td>\n",
              "      <td>0</td>\n",
              "    </tr>\n",
              "    <tr>\n",
              "      <th>3</th>\n",
              "      <td>BF3NC7KV</td>\n",
              "      <td>Male</td>\n",
              "      <td>34</td>\n",
              "      <td>RG270</td>\n",
              "      <td>Salaried</td>\n",
              "      <td>X1</td>\n",
              "      <td>19</td>\n",
              "      <td>No</td>\n",
              "      <td>470454</td>\n",
              "      <td>No</td>\n",
              "      <td>0</td>\n",
              "    </tr>\n",
              "    <tr>\n",
              "      <th>4</th>\n",
              "      <td>TEASRWXV</td>\n",
              "      <td>Female</td>\n",
              "      <td>30</td>\n",
              "      <td>RG282</td>\n",
              "      <td>Salaried</td>\n",
              "      <td>X1</td>\n",
              "      <td>33</td>\n",
              "      <td>No</td>\n",
              "      <td>886787</td>\n",
              "      <td>No</td>\n",
              "      <td>0</td>\n",
              "    </tr>\n",
              "  </tbody>\n",
              "</table>\n",
              "</div>"
            ],
            "text/plain": [
              "         ID  Gender  Age  ... Avg_Account_Balance Is_Active Is_Lead\n",
              "0  NNVBBKZB  Female   73  ...             1045696        No       0\n",
              "1  IDD62UNG  Female   30  ...              581988        No       0\n",
              "2  HD3DSEMC  Female   56  ...             1484315       Yes       0\n",
              "3  BF3NC7KV    Male   34  ...              470454        No       0\n",
              "4  TEASRWXV  Female   30  ...              886787        No       0\n",
              "\n",
              "[5 rows x 11 columns]"
            ]
          },
          "metadata": {
            "tags": []
          },
          "execution_count": 212
        }
      ]
    },
    {
      "cell_type": "markdown",
      "metadata": {
        "id": "b-oribRYWbbX"
      },
      "source": [
        "**Distribution of 'Age', 'Vintage', 'Avg_Account_Balance'**\n",
        "\n",
        "---\n",
        "\n"
      ]
    },
    {
      "cell_type": "code",
      "metadata": {
        "colab": {
          "base_uri": "https://localhost:8080/",
          "height": 0
        },
        "id": "eVjJa432yYHg",
        "outputId": "07a1272f-b613-44f1-c4c6-30e57255b4ec"
      },
      "source": [
        "fig0, pl0 = plt.subplots(1,3,figsize=(16,5))\n",
        "\n",
        "sns.distplot(data['Age'],ax=pl0[0])\n",
        "sns.distplot(data['Vintage'],ax=pl0[1])\n",
        "sns.distplot(data['Avg_Account_Balance'],ax=pl0[2])"
      ],
      "execution_count": 213,
      "outputs": [
        {
          "output_type": "execute_result",
          "data": {
            "text/plain": [
              "<matplotlib.axes._subplots.AxesSubplot at 0x7fdc71f53c50>"
            ]
          },
          "metadata": {
            "tags": []
          },
          "execution_count": 213
        },
        {
          "output_type": "display_data",
          "data": {
            "image/png": "[encoded data removed]",
            "text/plain": [
              "<Figure size 1152x360 with 3 Axes>"
            ]
          },
          "metadata": {
            "tags": [],
            "needs_background": "light"
          }
        }
      ]
    },
    {
      "cell_type": "code",
      "metadata": {
        "colab": {
          "base_uri": "https://localhost:8080/",
          "height": 0
        },
        "id": "GtjNC4Y08TEz",
        "outputId": "117f615e-91ab-41c0-b3f2-f715d05b1f63"
      },
      "source": [
        "fig1, pl1 = plt.subplots(1,2,figsize=(16,5))\n",
        "\n",
        "sns.histplot(data,x='Age',y='Avg_Account_Balance',ax=pl1[0],element='bars')\n",
        "sns.histplot(data,x='Vintage',y='Avg_Account_Balance',ax=pl1[1],element='bars')"
      ],
      "execution_count": 214,
      "outputs": [
        {
          "output_type": "execute_result",
          "data": {
            "text/plain": [
              "<matplotlib.axes._subplots.AxesSubplot at 0x7fdc71d2f710>"
            ]
          },
          "metadata": {
            "tags": []
          },
          "execution_count": 214
        },
        {
          "output_type": "display_data",
          "data": {
            "image/png": "[encoded data removed]",
            "text/plain": [
              "<Figure size 1152x360 with 2 Axes>"
            ]
          },
          "metadata": {
            "tags": [],
            "needs_background": "light"
          }
        }
      ]
    },
    {
      "cell_type": "markdown",
      "metadata": {
        "id": "nwcBPZkoXDBJ"
      },
      "source": [
        "# Univariate Analysis -- \"Gender\"\n",
        "\n",
        "---\n",
        "\n"
      ]
    },
    {
      "cell_type": "code",
      "metadata": {
        "colab": {
          "base_uri": "https://localhost:8080/",
          "height": 0
        },
        "id": "FfngVXoKPYHK",
        "outputId": "fc6d203f-e30d-4379-a646-e56188222e30"
      },
      "source": [
        "F_mean = data[data['Gender']=='Female']['Avg_Account_Balance'].mean()\n",
        "M_mean = data[data['Gender']=='Male']['Avg_Account_Balance'].mean()\n",
        "\n",
        "plt.figure(figsize=(8,7))\n",
        "\n",
        "y3 = [F_mean,M_mean]\n",
        "x3 = ['Female','Male']\n",
        "plt.bar(x=x3,height=y3)\n",
        "plt.xlabel('Gender')\n",
        "plt.ylabel('Average Account Balance')\n",
        "plt.show()"
      ],
      "execution_count": 215,
      "outputs": [
        {
          "output_type": "display_data",
          "data": {
            "image/png": "[encoded data removed]",
            "text/plain": [
              "<Figure size 576x504 with 1 Axes>"
            ]
          },
          "metadata": {
            "tags": [],
            "needs_background": "light"
          }
        }
      ]
    },
    {
      "cell_type": "code",
      "metadata": {
        "colab": {
          "base_uri": "https://localhost:8080/",
          "height": 0
        },
        "id": "WqYq_W5vVEeH",
        "outputId": "4bc66f75-081f-41fe-ae29-90189892a652"
      },
      "source": [
        "z=np.arange(2);w=0.25;r=np.arange(2)\n",
        "\n",
        "F_c = data[data['Gender']=='Female']['Is_Lead'].count()\n",
        "M_c = data[data['Gender']=='Male']['Is_Lead'].count()\n",
        "\n",
        "F_cn =len(data[data['Gender']=='Female']) - data[data['Gender']=='Female']['Is_Lead'].value_counts()[0]\n",
        "M_cn =len(data[data['Gender']=='Male']) - data[data['Gender']=='Male']['Is_Lead'].value_counts()[0]\n",
        "\n",
        "plt.figure(figsize=(8,7))\n",
        "\n",
        "y3_0 = [F_c,M_c]\n",
        "y3_1 = [F_cn,M_cn]\n",
        "x3 = ['Female','Male']\n",
        "plt.bar(x=z,height=y3_0,width=w,label='Lead')\n",
        "plt.bar(x=z+w,height=y3_1,width=w,label='No Lead')\n",
        "plt.xticks(r + w/2,x3)\n",
        "plt.xlabel('Gender')\n",
        "plt.ylabel('Count')\n",
        "plt.legend()\n",
        "plt.show()"
      ],
      "execution_count": 216,
      "outputs": [
        {
          "output_type": "display_data",
          "data": {
            "image/png": "[encoded data removed]",
            "text/plain": [
              "<Figure size 576x504 with 1 Axes>"
            ]
          },
          "metadata": {
            "tags": [],
            "needs_background": "light"
          }
        }
      ]
    },
    {
      "cell_type": "code",
      "metadata": {
        "colab": {
          "base_uri": "https://localhost:8080/",
          "height": 0
        },
        "id": "OXfjHDZIOZCD",
        "outputId": "db2d8722-eff9-4473-b9e5-5a6b2ac35041"
      },
      "source": [
        "print(data['Gender'].value_counts())\n",
        "\n",
        "sns.displot(data, x=\"Avg_Account_Balance\", hue=\"Gender\", kind=\"kde\")"
      ],
      "execution_count": 217,
      "outputs": [
        {
          "output_type": "stream",
          "text": [
            "Male      134197\n",
            "Female    111528\n",
            "Name: Gender, dtype: int64\n"
          ],
          "name": "stdout"
        },
        {
          "output_type": "execute_result",
          "data": {
            "text/plain": [
              "<seaborn.axisgrid.FacetGrid at 0x7fdc71ba4090>"
            ]
          },
          "metadata": {
            "tags": []
          },
          "execution_count": 217
        },
        {
          "output_type": "display_data",
          "data": {
            "image/png": "[encoded data removed]",
            "text/plain": [
              "<Figure size 432.125x360 with 1 Axes>"
            ]
          },
          "metadata": {
            "tags": [],
            "needs_background": "light"
          }
        }
      ]
    },
    {
      "cell_type": "markdown",
      "metadata": {
        "id": "tdla58AuXk1a"
      },
      "source": [
        "# Univariate Analysis -- 'Occupation'"
      ]
    },
    {
      "cell_type": "code",
      "metadata": {
        "id": "8p4wtJ9L3NpS",
        "colab": {
          "base_uri": "https://localhost:8080/",
          "height": 0
        },
        "outputId": "b8de7eec-5fc9-4741-bf5b-e514c245567e"
      },
      "source": [
        "print(data['Occupation'].value_counts())\n",
        "\n",
        "t=len(data)\n",
        "SeE_mean = data[data['Occupation']=='Self_Employed']['Avg_Account_Balance'].mean()\n",
        "Sal_mean = data[data['Occupation']=='Salaried']['Avg_Account_Balance'].mean()\n",
        "Oth_mean = data[data['Occupation']=='Other']['Avg_Account_Balance'].mean()\n",
        "Ent_mean = data[data['Occupation']=='Entrepreneur']['Avg_Account_Balance'].mean()\n",
        "\n",
        "y2 = [SeE_mean,Sal_mean,Oth_mean,Ent_mean]\n",
        "x2 = ['Self_Employed','Salaried','Other','Entrepreneur']\n",
        "plt.figure(figsize=(8,7))\n",
        "plt.bar(x=x2,height=y2)\n",
        "plt.xlabel('Occupation')\n",
        "plt.ylabel('Average Account Balance')\n",
        "plt.show()"
      ],
      "execution_count": 218,
      "outputs": [
        {
          "output_type": "stream",
          "text": [
            "Self_Employed    100886\n",
            "Salaried          71999\n",
            "Other             70173\n",
            "Entrepreneur       2667\n",
            "Name: Occupation, dtype: int64\n"
          ],
          "name": "stdout"
        },
        {
          "output_type": "display_data",
          "data": {
            "image/png": "[encoded data removed]",
            "text/plain": [
              "<Figure size 576x504 with 1 Axes>"
            ]
          },
          "metadata": {
            "tags": [],
            "needs_background": "light"
          }
        }
      ]
    },
    {
      "cell_type": "code",
      "metadata": {
        "colab": {
          "base_uri": "https://localhost:8080/",
          "height": 0
        },
        "id": "r51NDrbDNibN",
        "outputId": "06f88192-b9ee-42b2-bbc9-55123bd1c156"
      },
      "source": [
        "w=0.25\n",
        "r = np.arange(4)\n",
        "\n",
        "SeE_c = data[data['Occupation']=='Self_Employed']['Is_Lead'].count()\n",
        "Sal_c = data[data['Occupation']=='Salaried']['Is_Lead'].count()\n",
        "Oth_c = data[data['Occupation']=='Other']['Is_Lead'].count()\n",
        "Ent_c = data[data['Occupation']=='Entrepreneur']['Is_Lead'].count()\n",
        "\n",
        "SeE_cn = len(data[data['Occupation']=='Self_Employed'])-data[data['Occupation']=='Self_Employed']['Is_Lead'].value_counts()[0]\n",
        "Sal_cn = len(data[data['Occupation']=='Salaried'])-data[data['Occupation']=='Salaried']['Is_Lead'].value_counts()[0]\n",
        "Oth_cn = len(data[data['Occupation']=='Other'])-data[data['Occupation']=='Other']['Is_Lead'].value_counts()[0]\n",
        "Ent_cn = len(data[data['Occupation']=='Entrepreneur'])-data[data['Occupation']=='Entrepreneur']['Is_Lead'].value_counts()[0]\n",
        "\n",
        "y2_0 = [SeE_c,Sal_c,Oth_c,Ent_c]\n",
        "y2_1 = [SeE_cn,Sal_cn,Oth_cn,Ent_cn]\n",
        "x2 = ['Self_Employed','Salaried','Other','Entrepreneur']\n",
        "plt.figure(figsize=(8,7))\n",
        "plt.bar(x=r,height=y2_0,width=w,label = \"Lead\")\n",
        "plt.bar(x=r+w,height=y2_1,width=w,label = \"No Lead\")\n",
        "plt.xticks(r + w/2,x2)\n",
        "plt.xlabel('Occupation')\n",
        "plt.ylabel('Count')\n",
        "plt.legend()\n",
        "plt.show()"
      ],
      "execution_count": 219,
      "outputs": [
        {
          "output_type": "display_data",
          "data": {
            "image/png": "[encoded data removed]",
            "text/plain": [
              "<Figure size 576x504 with 1 Axes>"
            ]
          },
          "metadata": {
            "tags": [],
            "needs_background": "light"
          }
        }
      ]
    },
    {
      "cell_type": "code",
      "metadata": {
        "colab": {
          "base_uri": "https://localhost:8080/",
          "height": 0
        },
        "id": "QfWwjYZo5coW",
        "outputId": "682a919b-a391-4069-8b02-a2b181655be2"
      },
      "source": [
        "sns.displot(data, x=\"Avg_Account_Balance\", hue=\"Occupation\", kind=\"kde\")"
      ],
      "execution_count": 220,
      "outputs": [
        {
          "output_type": "execute_result",
          "data": {
            "text/plain": [
              "<seaborn.axisgrid.FacetGrid at 0x7fdc759da050>"
            ]
          },
          "metadata": {
            "tags": []
          },
          "execution_count": 220
        },
        {
          "output_type": "display_data",
          "data": {
            "image/png": "[encoded data removed]",
            "text/plain": [
              "<Figure size 469.25x360 with 1 Axes>"
            ]
          },
          "metadata": {
            "tags": [],
            "needs_background": "light"
          }
        }
      ]
    },
    {
      "cell_type": "markdown",
      "metadata": {
        "id": "pkqP2eWqXxe-"
      },
      "source": [
        "# Univariate Analysis -- 'Credit_Product'"
      ]
    },
    {
      "cell_type": "code",
      "metadata": {
        "colab": {
          "base_uri": "https://localhost:8080/"
        },
        "id": "EJiDiKR9WNQr",
        "outputId": "ed211327-6ee7-47a4-bff7-2f5d8c28093f"
      },
      "source": [
        "print(data['Credit_Product'].value_counts())"
      ],
      "execution_count": 221,
      "outputs": [
        {
          "output_type": "stream",
          "text": [
            "No         144357\n",
            "Yes         72043\n",
            "Unknown     29325\n",
            "Name: Credit_Product, dtype: int64\n"
          ],
          "name": "stdout"
        }
      ]
    },
    {
      "cell_type": "code",
      "metadata": {
        "colab": {
          "base_uri": "https://localhost:8080/",
          "height": 0
        },
        "id": "nKrfKGvmX7Zc",
        "outputId": "0ace5b1a-ce36-4d8f-ea4a-921f834fd288"
      },
      "source": [
        "Y_mean = data[data['Credit_Product']=='Yes']['Avg_Account_Balance'].mean()\n",
        "N_mean = data[data['Credit_Product']=='No']['Avg_Account_Balance'].mean()\n",
        "U_mean = data[data['Credit_Product']=='Unknown']['Avg_Account_Balance'].mean()\n",
        "\n",
        "y2 = [Y_mean,N_mean,U_mean]\n",
        "x2 = ['Yes','No','Unknown']\n",
        "plt.figure(figsize=(8,7))\n",
        "plt.bar(x=x2,height=y2)\n",
        "plt.xlabel('Credit Product')\n",
        "plt.ylabel('Average Account Balance')\n",
        "plt.show()"
      ],
      "execution_count": 222,
      "outputs": [
        {
          "output_type": "display_data",
          "data": {
            "image/png": "[encoded data removed]",
            "text/plain": [
              "<Figure size 576x504 with 1 Axes>"
            ]
          },
          "metadata": {
            "tags": [],
            "needs_background": "light"
          }
        }
      ]
    },
    {
      "cell_type": "code",
      "metadata": {
        "colab": {
          "base_uri": "https://localhost:8080/",
          "height": 0
        },
        "id": "T47bQ5IwYk5S",
        "outputId": "b117719b-bf3d-423e-d117-8b350410293f"
      },
      "source": [
        "Y_c = data[data['Credit_Product']=='Yes']['Is_Lead'].count()\n",
        "N_c = data[data['Credit_Product']=='No']['Is_Lead'].count()\n",
        "U_c = data[data['Credit_Product']=='Unknown']['Is_Lead'].count()\n",
        "\n",
        "Y_cn = len(data[data['Credit_Product']=='Yes']) - data[data['Credit_Product']=='Yes']['Is_Lead'].value_counts()[0]\n",
        "N_cn = len(data[data['Credit_Product']=='No']) - data[data['Credit_Product']=='No']['Is_Lead'].value_counts()[0]\n",
        "U_cn = len(data[data['Credit_Product']=='Unknown']) - data[data['Credit_Product']=='Unknown']['Is_Lead'].value_counts()[0]\n",
        "\n",
        "y2_0 = [Y_c,N_c,U_c]\n",
        "y2_1 = [Y_cn,N_cn,U_cn]\n",
        "x2 = ['Yes','No','Unknown']\n",
        "plt.figure(figsize=(8,7))\n",
        "r = np.arange(3);w=0.25\n",
        "plt.bar(x=r ,height=y2_0, width=w,label = 'Lead')\n",
        "plt.bar(x=r+w ,height=y2_1, width=w,label = 'No Lead')\n",
        "plt.xticks(r + w/2,x2)\n",
        "plt.xlabel('Credit_Product')\n",
        "plt.ylabel('Count')\n",
        "plt.legend()\n",
        "plt.show()"
      ],
      "execution_count": 223,
      "outputs": [
        {
          "output_type": "display_data",
          "data": {
            "image/png": "[encoded data removed]",
            "text/plain": [
              "<Figure size 576x504 with 1 Axes>"
            ]
          },
          "metadata": {
            "tags": [],
            "needs_background": "light"
          }
        }
      ]
    },
    {
      "cell_type": "code",
      "metadata": {
        "colab": {
          "base_uri": "https://localhost:8080/",
          "height": 0
        },
        "id": "uqzlC1y_6O6b",
        "outputId": "7b724e5a-5164-48c7-9f39-4da5e760e880"
      },
      "source": [
        "sns.displot(data, x=\"Avg_Account_Balance\", hue=\"Credit_Product\", kind=\"kde\")"
      ],
      "execution_count": 224,
      "outputs": [
        {
          "output_type": "execute_result",
          "data": {
            "text/plain": [
              "<seaborn.axisgrid.FacetGrid at 0x7fdc71aabe90>"
            ]
          },
          "metadata": {
            "tags": []
          },
          "execution_count": 224
        },
        {
          "output_type": "display_data",
          "data": {
            "image/png": "[encoded data removed]",
            "text/plain": [
              "<Figure size 442.375x360 with 1 Axes>"
            ]
          },
          "metadata": {
            "tags": [],
            "needs_background": "light"
          }
        }
      ]
    },
    {
      "cell_type": "markdown",
      "metadata": {
        "id": "78W25UcohXwR"
      },
      "source": [
        "# Univariate Analysis -- 'Avg_Account_Balance'"
      ]
    },
    {
      "cell_type": "code",
      "metadata": {
        "colab": {
          "base_uri": "https://localhost:8080/"
        },
        "id": "k70ktnvqgbH8",
        "outputId": "6a747640-bd36-487a-cd97-56bcafa3469b"
      },
      "source": [
        "data['Avg_Account_Balance'].mean()"
      ],
      "execution_count": 225,
      "outputs": [
        {
          "output_type": "execute_result",
          "data": {
            "text/plain": [
              "1128403.1010194323"
            ]
          },
          "metadata": {
            "tags": []
          },
          "execution_count": 225
        }
      ]
    },
    {
      "cell_type": "code",
      "metadata": {
        "colab": {
          "base_uri": "https://localhost:8080/",
          "height": 0
        },
        "id": "qmz9euhah8Lb",
        "outputId": "c2be9e2d-7384-41a5-a9ad-e52f7ff07c56"
      },
      "source": [
        "w = 0.5\n",
        "X_tick = ['Is_Lead','Not_Lead']\n",
        "\n",
        "x = np.arange(2)\n",
        "\n",
        "y_IL = data[data['Is_Lead'] == 1.0]['Avg_Account_Balance'].mean()\n",
        "y_NL = data[data['Is_Lead'] == 0.0]['Avg_Account_Balance'].mean()\n",
        "\n",
        "y = [y_IL,y_NL]\n",
        "\n",
        "plt.figure(figsize=(5,7))\n",
        "plt.bar(x,y,width=w)\n",
        "plt.xticks(r ,X_tick)\n",
        "plt.xlabel('Is Lead')\n",
        "plt.ylabel('Average Account Balance')\n",
        "plt.show()"
      ],
      "execution_count": 226,
      "outputs": [
        {
          "output_type": "display_data",
          "data": {
            "image/png": "[encoded data removed]",
            "text/plain": [
              "<Figure size 360x504 with 1 Axes>"
            ]
          },
          "metadata": {
            "tags": [],
            "needs_background": "light"
          }
        }
      ]
    },
    {
      "cell_type": "markdown",
      "metadata": {
        "id": "84MXqz19Wx1H"
      },
      "source": [
        "**Finding out If there is any relation between 'Age' 'Avg_Account_Balace' and 'Is_Lead'**\n",
        "\n",
        "---\n",
        "\n"
      ]
    },
    {
      "cell_type": "code",
      "metadata": {
        "colab": {
          "base_uri": "https://localhost:8080/",
          "height": 0
        },
        "id": "jGXtzeBWv-70",
        "outputId": "2ffe8597-e699-4ea0-82ea-995af51b12c6"
      },
      "source": [
        "fig, pl = plt.subplots(2,1,figsize=(20,10))\n",
        "\n",
        "\n",
        "x1 = data[data['Is_Lead']==1.0]['Age']\n",
        "y1 = data[data['Is_Lead']==1.0]['Avg_Account_Balance']\n",
        "\n",
        "pl[0].scatter(x1,y1)\n",
        "pl[0].set_title('Lead')\n",
        "\n",
        "x2 = data[data['Is_Lead']==0.0]['Age']\n",
        "y2 = data[data['Is_Lead']==0.0]['Avg_Account_Balance']\n",
        "\n",
        "pl[1].scatter(x2,y2,c='r')\n",
        "pl[1].set_title('No Lead')\n",
        "\n",
        "plt.xlabel('Age')\n",
        "plt.ylabel('Average Account Balance')\n",
        "plt.show()"
      ],
      "execution_count": 227,
      "outputs": [
        {
          "output_type": "display_data",
          "data": {
            "image/png": "[encoded data removed]",
            "text/plain": [
              "<Figure size 1440x720 with 2 Axes>"
            ]
          },
          "metadata": {
            "tags": [],
            "needs_background": "light"
          }
        }
      ]
    },
    {
      "cell_type": "code",
      "metadata": {
        "colab": {
          "base_uri": "https://localhost:8080/",
          "height": 0
        },
        "id": "K_2EZyDk7ns9",
        "outputId": "150ad60e-d90d-43b2-814e-e1d9c30631ff"
      },
      "source": [
        "sns.displot(data, x='Avg_Account_Balance', hue=\"Is_Lead\", kind=\"kde\")"
      ],
      "execution_count": 228,
      "outputs": [
        {
          "output_type": "execute_result",
          "data": {
            "text/plain": [
              "<seaborn.axisgrid.FacetGrid at 0x7fdc719a8b10>"
            ]
          },
          "metadata": {
            "tags": []
          },
          "execution_count": 228
        },
        {
          "output_type": "display_data",
          "data": {
            "image/png": "[encoded data removed]",
            "text/plain": [
              "<Figure size 405.125x360 with 1 Axes>"
            ]
          },
          "metadata": {
            "tags": [],
            "needs_background": "light"
          }
        }
      ]
    },
    {
      "cell_type": "markdown",
      "metadata": {
        "id": "YQK80pqwkvr7"
      },
      "source": [
        "# Univariate Analysis -- 'Region_Code'"
      ]
    },
    {
      "cell_type": "code",
      "metadata": {
        "colab": {
          "base_uri": "https://localhost:8080/"
        },
        "id": "l6xh9Uathiih",
        "outputId": "1289406b-20db-4017-f205-509e2f0005a6"
      },
      "source": [
        "data['Region_Code'].unique()"
      ],
      "execution_count": 229,
      "outputs": [
        {
          "output_type": "execute_result",
          "data": {
            "text/plain": [
              "array(['RG268', 'RG277', 'RG270', 'RG282', 'RG261', 'RG265', 'RG283',\n",
              "       'RG254', 'RG269', 'RG257', 'RG279', 'RG280', 'RG252', 'RG284',\n",
              "       'RG259', 'RG281', 'RG258', 'RG266', 'RG260', 'RG274', 'RG256',\n",
              "       'RG275', 'RG273', 'RG267', 'RG272', 'RG251', 'RG262', 'RG264',\n",
              "       'RG278', 'RG276', 'RG263', 'RG250', 'RG255', 'RG253', 'RG271'],\n",
              "      dtype=object)"
            ]
          },
          "metadata": {
            "tags": []
          },
          "execution_count": 229
        }
      ]
    },
    {
      "cell_type": "code",
      "metadata": {
        "id": "7v9V55ESj_2c"
      },
      "source": [
        "rgn_grp = data.groupby(by='Region_Code')"
      ],
      "execution_count": 230,
      "outputs": []
    },
    {
      "cell_type": "code",
      "metadata": {
        "colab": {
          "base_uri": "https://localhost:8080/",
          "height": 0
        },
        "id": "gvBz_DFfkk6w",
        "outputId": "97f4b0cc-5b89-4492-bea3-cd17b287e1d8"
      },
      "source": [
        "plt.figure(figsize=(25,7))\n",
        "plt.bar(x=rgn_grp['Avg_Account_Balance'].mean().index,height=rgn_grp['Avg_Account_Balance'].mean(),width=w)\n",
        "# plt.xticks(np.arange(35),data['Region_Code'].unique())\n",
        "plt.xlabel('Region_Codes')\n",
        "plt.ylabel('Average Account Balance')\n",
        "plt.show()"
      ],
      "execution_count": 231,
      "outputs": [
        {
          "output_type": "display_data",
          "data": {
            "image/png": "[encoded data removed]",
            "text/plain": [
              "<Figure size 1800x504 with 1 Axes>"
            ]
          },
          "metadata": {
            "tags": [],
            "needs_background": "light"
          }
        }
      ]
    },
    {
      "cell_type": "code",
      "metadata": {
        "id": "9EIVebdJl9ZC"
      },
      "source": [
        "rgn_lead_grp = data.groupby(by=['Region_Code','Is_Lead'])"
      ],
      "execution_count": 232,
      "outputs": []
    },
    {
      "cell_type": "code",
      "metadata": {
        "id": "2ZBDU1V8ntvB"
      },
      "source": [
        "rgn_data = rgn_lead_grp.size().unstack()"
      ],
      "execution_count": 233,
      "outputs": []
    },
    {
      "cell_type": "code",
      "metadata": {
        "colab": {
          "base_uri": "https://localhost:8080/",
          "height": 0
        },
        "id": "yU6BdUaErtQC",
        "outputId": "34ab0f7d-148b-411b-a0bf-c05c2747b77f"
      },
      "source": [
        "wid = 0.3\n",
        "\n",
        "plt.figure(figsize=(25,7))\n",
        "plt.bar(x=np.arange(35),height=rgn_data[1.0],width=wid,label='Lead')\n",
        "plt.bar(x=np.arange(35)+wid,height=rgn_data[0.0],width=wid,label='No Lead')\n",
        "plt.xticks(np.arange(35),rgn_data.index)\n",
        "plt.xlabel('Region_Codes')\n",
        "plt.ylabel('Count')\n",
        "plt.legend()\n",
        "plt.show()"
      ],
      "execution_count": 234,
      "outputs": [
        {
          "output_type": "display_data",
          "data": {
            "image/png": "[encoded data removed]",
            "text/plain": [
              "<Figure size 1800x504 with 1 Axes>"
            ]
          },
          "metadata": {
            "tags": [],
            "needs_background": "light"
          }
        }
      ]
    },
    {
      "cell_type": "markdown",
      "metadata": {
        "id": "Njmj8hMwuME1"
      },
      "source": [
        "# Univariate Analysis -- 'Channel_Code'"
      ]
    },
    {
      "cell_type": "code",
      "metadata": {
        "colab": {
          "base_uri": "https://localhost:8080/"
        },
        "id": "5JFfXsLgtneY",
        "outputId": "1710c8fc-77d3-460e-9e91-f9f8571da1ed"
      },
      "source": [
        "data['Channel_Code'].unique()"
      ],
      "execution_count": 235,
      "outputs": [
        {
          "output_type": "execute_result",
          "data": {
            "text/plain": [
              "array(['X3', 'X1', 'X2', 'X4'], dtype=object)"
            ]
          },
          "metadata": {
            "tags": []
          },
          "execution_count": 235
        }
      ]
    },
    {
      "cell_type": "code",
      "metadata": {
        "id": "KwyPJEvIuXJ-"
      },
      "source": [
        "chn_grp = data.groupby(by='Channel_Code')"
      ],
      "execution_count": 236,
      "outputs": []
    },
    {
      "cell_type": "code",
      "metadata": {
        "colab": {
          "base_uri": "https://localhost:8080/",
          "height": 0
        },
        "id": "Eey7hfccuv6q",
        "outputId": "f34f30ee-9c7e-41ca-8895-ae5264b35e5f"
      },
      "source": [
        "plt.figure(figsize=(10,7))\n",
        "plt.bar(x=chn_grp['Avg_Account_Balance'].mean().index,height=chn_grp['Avg_Account_Balance'].mean(),width=w)\n",
        "# plt.xticks(np.arange(35),data['Region_Code'].unique())\n",
        "plt.xlabel('Channel Codes Encoded')\n",
        "plt.ylabel('Average Account Balance')\n",
        "plt.show()"
      ],
      "execution_count": 237,
      "outputs": [
        {
          "output_type": "display_data",
          "data": {
            "image/png": "[encoded data removed]",
            "text/plain": [
              "<Figure size 720x504 with 1 Axes>"
            ]
          },
          "metadata": {
            "tags": [],
            "needs_background": "light"
          }
        }
      ]
    },
    {
      "cell_type": "code",
      "metadata": {
        "id": "VlqLQNUtu3fj"
      },
      "source": [
        "chn_lead_grp = data.groupby(by=['Channel_Code','Is_Lead'])"
      ],
      "execution_count": 238,
      "outputs": []
    },
    {
      "cell_type": "code",
      "metadata": {
        "id": "BhE8gzwFvDJx"
      },
      "source": [
        "chn_data = chn_lead_grp.size().unstack()"
      ],
      "execution_count": 239,
      "outputs": []
    },
    {
      "cell_type": "code",
      "metadata": {
        "colab": {
          "base_uri": "https://localhost:8080/",
          "height": 0
        },
        "id": "M0S8eV0TvcZ1",
        "outputId": "785591f4-8d70-417f-c5d6-273e4721009e"
      },
      "source": [
        "chn_data"
      ],
      "execution_count": 240,
      "outputs": [
        {
          "output_type": "execute_result",
          "data": {
            "text/html": [
              "<div>\n",
              "<style scoped>\n",
              "    .dataframe tbody tr th:only-of-type {\n",
              "        vertical-align: middle;\n",
              "    }\n",
              "\n",
              "    .dataframe tbody tr th {\n",
              "        vertical-align: top;\n",
              "    }\n",
              "\n",
              "    .dataframe thead th {\n",
              "        text-align: right;\n",
              "    }\n",
              "</style>\n",
              "<table border=\"1\" class=\"dataframe\">\n",
              "  <thead>\n",
              "    <tr style=\"text-align: right;\">\n",
              "      <th>Is_Lead</th>\n",
              "      <th>0</th>\n",
              "      <th>1</th>\n",
              "    </tr>\n",
              "    <tr>\n",
              "      <th>Channel_Code</th>\n",
              "      <th></th>\n",
              "      <th></th>\n",
              "    </tr>\n",
              "  </thead>\n",
              "  <tbody>\n",
              "    <tr>\n",
              "      <th>X1</th>\n",
              "      <td>94236</td>\n",
              "      <td>9482</td>\n",
              "    </tr>\n",
              "    <tr>\n",
              "      <th>X2</th>\n",
              "      <td>45519</td>\n",
              "      <td>22207</td>\n",
              "    </tr>\n",
              "    <tr>\n",
              "      <th>X3</th>\n",
              "      <td>43493</td>\n",
              "      <td>25219</td>\n",
              "    </tr>\n",
              "    <tr>\n",
              "      <th>X4</th>\n",
              "      <td>4189</td>\n",
              "      <td>1380</td>\n",
              "    </tr>\n",
              "  </tbody>\n",
              "</table>\n",
              "</div>"
            ],
            "text/plain": [
              "Is_Lead           0      1\n",
              "Channel_Code              \n",
              "X1            94236   9482\n",
              "X2            45519  22207\n",
              "X3            43493  25219\n",
              "X4             4189   1380"
            ]
          },
          "metadata": {
            "tags": []
          },
          "execution_count": 240
        }
      ]
    },
    {
      "cell_type": "code",
      "metadata": {
        "colab": {
          "base_uri": "https://localhost:8080/",
          "height": 0
        },
        "id": "W6tkcRIXvH3g",
        "outputId": "13cc89eb-7907-491f-afee-b09c57064b6d"
      },
      "source": [
        "wid = 0.3\n",
        "\n",
        "plt.figure(figsize=(10,7))\n",
        "plt.bar(x=np.arange(4),height=chn_data[1.0],width=wid,label = 'Lead')\n",
        "plt.bar(x=np.arange(4)+wid,height=chn_data[0.0],width=wid,label = 'No Lead')\n",
        "plt.xticks(np.arange(4),chn_data.index)\n",
        "plt.xlabel('Channel Codes Encoded')\n",
        "plt.ylabel('Count')\n",
        "plt.legend()\n",
        "plt.show()"
      ],
      "execution_count": 241,
      "outputs": [
        {
          "output_type": "display_data",
          "data": {
            "image/png": "[encoded data removed]",
            "text/plain": [
              "<Figure size 720x504 with 1 Axes>"
            ]
          },
          "metadata": {
            "tags": [],
            "needs_background": "light"
          }
        }
      ]
    },
    {
      "cell_type": "code",
      "metadata": {
        "id": "sLyMvPYpvUEE"
      },
      "source": [
        ""
      ],
      "execution_count": 241,
      "outputs": []
    },
    {
      "cell_type": "markdown",
      "metadata": {
        "id": "O2W3__ezwdTG"
      },
      "source": [
        "# ***Preparing Data***\n",
        "\n",
        "\n",
        "1.   One Hot Encoding\n",
        "2.   Response Coding\n",
        "\n",
        "\n",
        "\n",
        "*   Up Sampling on Response coded data\n",
        "*Up Sampling on One Hot Encoded Data"
      ]
    },
    {
      "cell_type": "code",
      "metadata": {
        "id": "ZELtwaxkwx4l"
      },
      "source": [
        "Xd = data.drop(['Is_Lead'],axis = 1)\n",
        "yd = data['Is_Lead']"
      ],
      "execution_count": 242,
      "outputs": []
    },
    {
      "cell_type": "code",
      "metadata": {
        "id": "6n2f0E4px8F1"
      },
      "source": [
        "def oneHotEncoded(data,col):\n",
        "  colm = data[col]\n",
        "  new = pd.get_dummies(colm,drop_first=True)\n",
        "  data = data.drop([col],axis=1)\n",
        "  data = pd.concat([data, new], axis = 1)\n",
        "  return data\n"
      ],
      "execution_count": 243,
      "outputs": []
    },
    {
      "cell_type": "code",
      "metadata": {
        "id": "5zxIX903wvzL",
        "colab": {
          "base_uri": "https://localhost:8080/",
          "height": 198
        },
        "outputId": "2d3b861e-e27b-437e-b667-0cd1ac1428e1"
      },
      "source": [
        "Xd.drop(['ID'],inplace=True,axis=1)\n",
        "Xd.head()"
      ],
      "execution_count": 244,
      "outputs": [
        {
          "output_type": "execute_result",
          "data": {
            "text/html": [
              "<div>\n",
              "<style scoped>\n",
              "    .dataframe tbody tr th:only-of-type {\n",
              "        vertical-align: middle;\n",
              "    }\n",
              "\n",
              "    .dataframe tbody tr th {\n",
              "        vertical-align: top;\n",
              "    }\n",
              "\n",
              "    .dataframe thead th {\n",
              "        text-align: right;\n",
              "    }\n",
              "</style>\n",
              "<table border=\"1\" class=\"dataframe\">\n",
              "  <thead>\n",
              "    <tr style=\"text-align: right;\">\n",
              "      <th></th>\n",
              "      <th>Gender</th>\n",
              "      <th>Age</th>\n",
              "      <th>Region_Code</th>\n",
              "      <th>Occupation</th>\n",
              "      <th>Channel_Code</th>\n",
              "      <th>Vintage</th>\n",
              "      <th>Credit_Product</th>\n",
              "      <th>Avg_Account_Balance</th>\n",
              "      <th>Is_Active</th>\n",
              "    </tr>\n",
              "  </thead>\n",
              "  <tbody>\n",
              "    <tr>\n",
              "      <th>0</th>\n",
              "      <td>Female</td>\n",
              "      <td>73</td>\n",
              "      <td>RG268</td>\n",
              "      <td>Other</td>\n",
              "      <td>X3</td>\n",
              "      <td>43</td>\n",
              "      <td>No</td>\n",
              "      <td>1045696</td>\n",
              "      <td>No</td>\n",
              "    </tr>\n",
              "    <tr>\n",
              "      <th>1</th>\n",
              "      <td>Female</td>\n",
              "      <td>30</td>\n",
              "      <td>RG277</td>\n",
              "      <td>Salaried</td>\n",
              "      <td>X1</td>\n",
              "      <td>32</td>\n",
              "      <td>No</td>\n",
              "      <td>581988</td>\n",
              "      <td>No</td>\n",
              "    </tr>\n",
              "    <tr>\n",
              "      <th>2</th>\n",
              "      <td>Female</td>\n",
              "      <td>56</td>\n",
              "      <td>RG268</td>\n",
              "      <td>Self_Employed</td>\n",
              "      <td>X3</td>\n",
              "      <td>26</td>\n",
              "      <td>No</td>\n",
              "      <td>1484315</td>\n",
              "      <td>Yes</td>\n",
              "    </tr>\n",
              "    <tr>\n",
              "      <th>3</th>\n",
              "      <td>Male</td>\n",
              "      <td>34</td>\n",
              "      <td>RG270</td>\n",
              "      <td>Salaried</td>\n",
              "      <td>X1</td>\n",
              "      <td>19</td>\n",
              "      <td>No</td>\n",
              "      <td>470454</td>\n",
              "      <td>No</td>\n",
              "    </tr>\n",
              "    <tr>\n",
              "      <th>4</th>\n",
              "      <td>Female</td>\n",
              "      <td>30</td>\n",
              "      <td>RG282</td>\n",
              "      <td>Salaried</td>\n",
              "      <td>X1</td>\n",
              "      <td>33</td>\n",
              "      <td>No</td>\n",
              "      <td>886787</td>\n",
              "      <td>No</td>\n",
              "    </tr>\n",
              "  </tbody>\n",
              "</table>\n",
              "</div>"
            ],
            "text/plain": [
              "   Gender  Age Region_Code  ... Credit_Product Avg_Account_Balance  Is_Active\n",
              "0  Female   73       RG268  ...             No             1045696         No\n",
              "1  Female   30       RG277  ...             No              581988         No\n",
              "2  Female   56       RG268  ...             No             1484315        Yes\n",
              "3    Male   34       RG270  ...             No              470454         No\n",
              "4  Female   30       RG282  ...             No              886787         No\n",
              "\n",
              "[5 rows x 9 columns]"
            ]
          },
          "metadata": {
            "tags": []
          },
          "execution_count": 244
        }
      ]
    },
    {
      "cell_type": "markdown",
      "metadata": {
        "id": "QXe6M1rK6Gq-"
      },
      "source": [
        "# One Hot Encoding"
      ]
    },
    {
      "cell_type": "code",
      "metadata": {
        "id": "woEVAsd38Xi1"
      },
      "source": [
        "Xd = oneHotEncoded(Xd,'Gender')\n",
        "Xd = oneHotEncoded(Xd,'Credit_Product')\n",
        "Xd = oneHotEncoded(Xd,'Region_Code')\n",
        "Xd = oneHotEncoded(Xd,'Channel_Code')\n",
        "Xd = oneHotEncoded(Xd,'Occupation')\n",
        "Xd = oneHotEncoded(Xd,'Is_Active')"
      ],
      "execution_count": 46,
      "outputs": []
    },
    {
      "cell_type": "code",
      "metadata": {
        "colab": {
          "base_uri": "https://localhost:8080/",
          "height": 218
        },
        "id": "wlI4jVlj9IeP",
        "outputId": "baad2f3a-694e-4da9-b4cb-1d16f27ecc1f"
      },
      "source": [
        "Xd.head()"
      ],
      "execution_count": 47,
      "outputs": [
        {
          "output_type": "execute_result",
          "data": {
            "text/html": [
              "<div>\n",
              "<style scoped>\n",
              "    .dataframe tbody tr th:only-of-type {\n",
              "        vertical-align: middle;\n",
              "    }\n",
              "\n",
              "    .dataframe tbody tr th {\n",
              "        vertical-align: top;\n",
              "    }\n",
              "\n",
              "    .dataframe thead th {\n",
              "        text-align: right;\n",
              "    }\n",
              "</style>\n",
              "<table border=\"1\" class=\"dataframe\">\n",
              "  <thead>\n",
              "    <tr style=\"text-align: right;\">\n",
              "      <th></th>\n",
              "      <th>Age</th>\n",
              "      <th>Vintage</th>\n",
              "      <th>Avg_Account_Balance</th>\n",
              "      <th>Male</th>\n",
              "      <th>Unknown</th>\n",
              "      <th>Yes</th>\n",
              "      <th>RG251</th>\n",
              "      <th>RG252</th>\n",
              "      <th>RG253</th>\n",
              "      <th>RG254</th>\n",
              "      <th>RG255</th>\n",
              "      <th>RG256</th>\n",
              "      <th>RG257</th>\n",
              "      <th>RG258</th>\n",
              "      <th>RG259</th>\n",
              "      <th>RG260</th>\n",
              "      <th>RG261</th>\n",
              "      <th>RG262</th>\n",
              "      <th>RG263</th>\n",
              "      <th>RG264</th>\n",
              "      <th>RG265</th>\n",
              "      <th>RG266</th>\n",
              "      <th>RG267</th>\n",
              "      <th>RG268</th>\n",
              "      <th>RG269</th>\n",
              "      <th>RG270</th>\n",
              "      <th>RG271</th>\n",
              "      <th>RG272</th>\n",
              "      <th>RG273</th>\n",
              "      <th>RG274</th>\n",
              "      <th>RG275</th>\n",
              "      <th>RG276</th>\n",
              "      <th>RG277</th>\n",
              "      <th>RG278</th>\n",
              "      <th>RG279</th>\n",
              "      <th>RG280</th>\n",
              "      <th>RG281</th>\n",
              "      <th>RG282</th>\n",
              "      <th>RG283</th>\n",
              "      <th>RG284</th>\n",
              "      <th>X2</th>\n",
              "      <th>X3</th>\n",
              "      <th>X4</th>\n",
              "      <th>Other</th>\n",
              "      <th>Salaried</th>\n",
              "      <th>Self_Employed</th>\n",
              "      <th>Yes</th>\n",
              "    </tr>\n",
              "  </thead>\n",
              "  <tbody>\n",
              "    <tr>\n",
              "      <th>0</th>\n",
              "      <td>73</td>\n",
              "      <td>43</td>\n",
              "      <td>1045696</td>\n",
              "      <td>0</td>\n",
              "      <td>0</td>\n",
              "      <td>0</td>\n",
              "      <td>0</td>\n",
              "      <td>0</td>\n",
              "      <td>0</td>\n",
              "      <td>0</td>\n",
              "      <td>0</td>\n",
              "      <td>0</td>\n",
              "      <td>0</td>\n",
              "      <td>0</td>\n",
              "      <td>0</td>\n",
              "      <td>0</td>\n",
              "      <td>0</td>\n",
              "      <td>0</td>\n",
              "      <td>0</td>\n",
              "      <td>0</td>\n",
              "      <td>0</td>\n",
              "      <td>0</td>\n",
              "      <td>0</td>\n",
              "      <td>1</td>\n",
              "      <td>0</td>\n",
              "      <td>0</td>\n",
              "      <td>0</td>\n",
              "      <td>0</td>\n",
              "      <td>0</td>\n",
              "      <td>0</td>\n",
              "      <td>0</td>\n",
              "      <td>0</td>\n",
              "      <td>0</td>\n",
              "      <td>0</td>\n",
              "      <td>0</td>\n",
              "      <td>0</td>\n",
              "      <td>0</td>\n",
              "      <td>0</td>\n",
              "      <td>0</td>\n",
              "      <td>0</td>\n",
              "      <td>0</td>\n",
              "      <td>1</td>\n",
              "      <td>0</td>\n",
              "      <td>1</td>\n",
              "      <td>0</td>\n",
              "      <td>0</td>\n",
              "      <td>0</td>\n",
              "    </tr>\n",
              "    <tr>\n",
              "      <th>1</th>\n",
              "      <td>30</td>\n",
              "      <td>32</td>\n",
              "      <td>581988</td>\n",
              "      <td>0</td>\n",
              "      <td>0</td>\n",
              "      <td>0</td>\n",
              "      <td>0</td>\n",
              "      <td>0</td>\n",
              "      <td>0</td>\n",
              "      <td>0</td>\n",
              "      <td>0</td>\n",
              "      <td>0</td>\n",
              "      <td>0</td>\n",
              "      <td>0</td>\n",
              "      <td>0</td>\n",
              "      <td>0</td>\n",
              "      <td>0</td>\n",
              "      <td>0</td>\n",
              "      <td>0</td>\n",
              "      <td>0</td>\n",
              "      <td>0</td>\n",
              "      <td>0</td>\n",
              "      <td>0</td>\n",
              "      <td>0</td>\n",
              "      <td>0</td>\n",
              "      <td>0</td>\n",
              "      <td>0</td>\n",
              "      <td>0</td>\n",
              "      <td>0</td>\n",
              "      <td>0</td>\n",
              "      <td>0</td>\n",
              "      <td>0</td>\n",
              "      <td>1</td>\n",
              "      <td>0</td>\n",
              "      <td>0</td>\n",
              "      <td>0</td>\n",
              "      <td>0</td>\n",
              "      <td>0</td>\n",
              "      <td>0</td>\n",
              "      <td>0</td>\n",
              "      <td>0</td>\n",
              "      <td>0</td>\n",
              "      <td>0</td>\n",
              "      <td>0</td>\n",
              "      <td>1</td>\n",
              "      <td>0</td>\n",
              "      <td>0</td>\n",
              "    </tr>\n",
              "    <tr>\n",
              "      <th>2</th>\n",
              "      <td>56</td>\n",
              "      <td>26</td>\n",
              "      <td>1484315</td>\n",
              "      <td>0</td>\n",
              "      <td>0</td>\n",
              "      <td>0</td>\n",
              "      <td>0</td>\n",
              "      <td>0</td>\n",
              "      <td>0</td>\n",
              "      <td>0</td>\n",
              "      <td>0</td>\n",
              "      <td>0</td>\n",
              "      <td>0</td>\n",
              "      <td>0</td>\n",
              "      <td>0</td>\n",
              "      <td>0</td>\n",
              "      <td>0</td>\n",
              "      <td>0</td>\n",
              "      <td>0</td>\n",
              "      <td>0</td>\n",
              "      <td>0</td>\n",
              "      <td>0</td>\n",
              "      <td>0</td>\n",
              "      <td>1</td>\n",
              "      <td>0</td>\n",
              "      <td>0</td>\n",
              "      <td>0</td>\n",
              "      <td>0</td>\n",
              "      <td>0</td>\n",
              "      <td>0</td>\n",
              "      <td>0</td>\n",
              "      <td>0</td>\n",
              "      <td>0</td>\n",
              "      <td>0</td>\n",
              "      <td>0</td>\n",
              "      <td>0</td>\n",
              "      <td>0</td>\n",
              "      <td>0</td>\n",
              "      <td>0</td>\n",
              "      <td>0</td>\n",
              "      <td>0</td>\n",
              "      <td>1</td>\n",
              "      <td>0</td>\n",
              "      <td>0</td>\n",
              "      <td>0</td>\n",
              "      <td>1</td>\n",
              "      <td>1</td>\n",
              "    </tr>\n",
              "    <tr>\n",
              "      <th>3</th>\n",
              "      <td>34</td>\n",
              "      <td>19</td>\n",
              "      <td>470454</td>\n",
              "      <td>1</td>\n",
              "      <td>0</td>\n",
              "      <td>0</td>\n",
              "      <td>0</td>\n",
              "      <td>0</td>\n",
              "      <td>0</td>\n",
              "      <td>0</td>\n",
              "      <td>0</td>\n",
              "      <td>0</td>\n",
              "      <td>0</td>\n",
              "      <td>0</td>\n",
              "      <td>0</td>\n",
              "      <td>0</td>\n",
              "      <td>0</td>\n",
              "      <td>0</td>\n",
              "      <td>0</td>\n",
              "      <td>0</td>\n",
              "      <td>0</td>\n",
              "      <td>0</td>\n",
              "      <td>0</td>\n",
              "      <td>0</td>\n",
              "      <td>0</td>\n",
              "      <td>1</td>\n",
              "      <td>0</td>\n",
              "      <td>0</td>\n",
              "      <td>0</td>\n",
              "      <td>0</td>\n",
              "      <td>0</td>\n",
              "      <td>0</td>\n",
              "      <td>0</td>\n",
              "      <td>0</td>\n",
              "      <td>0</td>\n",
              "      <td>0</td>\n",
              "      <td>0</td>\n",
              "      <td>0</td>\n",
              "      <td>0</td>\n",
              "      <td>0</td>\n",
              "      <td>0</td>\n",
              "      <td>0</td>\n",
              "      <td>0</td>\n",
              "      <td>0</td>\n",
              "      <td>1</td>\n",
              "      <td>0</td>\n",
              "      <td>0</td>\n",
              "    </tr>\n",
              "    <tr>\n",
              "      <th>4</th>\n",
              "      <td>30</td>\n",
              "      <td>33</td>\n",
              "      <td>886787</td>\n",
              "      <td>0</td>\n",
              "      <td>0</td>\n",
              "      <td>0</td>\n",
              "      <td>0</td>\n",
              "      <td>0</td>\n",
              "      <td>0</td>\n",
              "      <td>0</td>\n",
              "      <td>0</td>\n",
              "      <td>0</td>\n",
              "      <td>0</td>\n",
              "      <td>0</td>\n",
              "      <td>0</td>\n",
              "      <td>0</td>\n",
              "      <td>0</td>\n",
              "      <td>0</td>\n",
              "      <td>0</td>\n",
              "      <td>0</td>\n",
              "      <td>0</td>\n",
              "      <td>0</td>\n",
              "      <td>0</td>\n",
              "      <td>0</td>\n",
              "      <td>0</td>\n",
              "      <td>0</td>\n",
              "      <td>0</td>\n",
              "      <td>0</td>\n",
              "      <td>0</td>\n",
              "      <td>0</td>\n",
              "      <td>0</td>\n",
              "      <td>0</td>\n",
              "      <td>0</td>\n",
              "      <td>0</td>\n",
              "      <td>0</td>\n",
              "      <td>0</td>\n",
              "      <td>0</td>\n",
              "      <td>1</td>\n",
              "      <td>0</td>\n",
              "      <td>0</td>\n",
              "      <td>0</td>\n",
              "      <td>0</td>\n",
              "      <td>0</td>\n",
              "      <td>0</td>\n",
              "      <td>1</td>\n",
              "      <td>0</td>\n",
              "      <td>0</td>\n",
              "    </tr>\n",
              "  </tbody>\n",
              "</table>\n",
              "</div>"
            ],
            "text/plain": [
              "   Age  Vintage  Avg_Account_Balance  Male  ...  Other  Salaried  Self_Employed  Yes\n",
              "0   73       43              1045696     0  ...      1         0              0    0\n",
              "1   30       32               581988     0  ...      0         1              0    0\n",
              "2   56       26              1484315     0  ...      0         0              1    1\n",
              "3   34       19               470454     1  ...      0         1              0    0\n",
              "4   30       33               886787     0  ...      0         1              0    0\n",
              "\n",
              "[5 rows x 47 columns]"
            ]
          },
          "metadata": {
            "tags": []
          },
          "execution_count": 47
        }
      ]
    },
    {
      "cell_type": "markdown",
      "metadata": {
        "id": "PYbg5YI66Pxv"
      },
      "source": [
        "# UpSampling And OneHotEncoding"
      ]
    },
    {
      "cell_type": "code",
      "metadata": {
        "colab": {
          "base_uri": "https://localhost:8080/"
        },
        "id": "V6fHYmKFIBHZ",
        "outputId": "88d3d61b-c528-4d4c-e253-4a431ccf1f9d"
      },
      "source": [
        "df_majority = data[data['Is_Lead']==0.0]\n",
        "df_minority = data[data['Is_Lead']==1.0]\n",
        " \n",
        "df_minority_upsampled = resample(df_minority, \n",
        "                                 replace=True,     # sample with replacement\n",
        "                                 n_samples=187437,    # to match majority class\n",
        "                                 random_state=123) # reproducible results\n",
        " \n",
        "\n",
        "df_upsampled = pd.concat([df_majority, df_minority_upsampled])\n",
        " \n",
        "\n",
        "df_upsampled.Is_Lead.value_counts()"
      ],
      "execution_count": 245,
      "outputs": [
        {
          "output_type": "execute_result",
          "data": {
            "text/plain": [
              "1    187437\n",
              "0    187437\n",
              "Name: Is_Lead, dtype: int64"
            ]
          },
          "metadata": {
            "tags": []
          },
          "execution_count": 245
        }
      ]
    },
    {
      "cell_type": "code",
      "metadata": {
        "colab": {
          "base_uri": "https://localhost:8080/",
          "height": 218
        },
        "id": "r1vkFAuAxKXB",
        "outputId": "a949caf1-d16d-4ea3-f598-7c2a3c48555c"
      },
      "source": [
        "Xdb = oneHotEncoded(df_upsampled,'Gender')\n",
        "Xdb = oneHotEncoded(Xdb,'Credit_Product')\n",
        "Xdb = oneHotEncoded(Xdb,'Region_Code')\n",
        "Xdb = oneHotEncoded(Xdb,'Channel_Code')\n",
        "Xdb = oneHotEncoded(Xdb,'Occupation')\n",
        "Xdb = oneHotEncoded(Xdb,'Is_Active')\n",
        "Xdb.head()"
      ],
      "execution_count": 250,
      "outputs": [
        {
          "output_type": "execute_result",
          "data": {
            "text/html": [
              "<div>\n",
              "<style scoped>\n",
              "    .dataframe tbody tr th:only-of-type {\n",
              "        vertical-align: middle;\n",
              "    }\n",
              "\n",
              "    .dataframe tbody tr th {\n",
              "        vertical-align: top;\n",
              "    }\n",
              "\n",
              "    .dataframe thead th {\n",
              "        text-align: right;\n",
              "    }\n",
              "</style>\n",
              "<table border=\"1\" class=\"dataframe\">\n",
              "  <thead>\n",
              "    <tr style=\"text-align: right;\">\n",
              "      <th></th>\n",
              "      <th>ID</th>\n",
              "      <th>Age</th>\n",
              "      <th>Vintage</th>\n",
              "      <th>Avg_Account_Balance</th>\n",
              "      <th>Is_Lead</th>\n",
              "      <th>Male</th>\n",
              "      <th>Unknown</th>\n",
              "      <th>Yes</th>\n",
              "      <th>RG251</th>\n",
              "      <th>RG252</th>\n",
              "      <th>RG253</th>\n",
              "      <th>RG254</th>\n",
              "      <th>RG255</th>\n",
              "      <th>RG256</th>\n",
              "      <th>RG257</th>\n",
              "      <th>RG258</th>\n",
              "      <th>RG259</th>\n",
              "      <th>RG260</th>\n",
              "      <th>RG261</th>\n",
              "      <th>RG262</th>\n",
              "      <th>RG263</th>\n",
              "      <th>RG264</th>\n",
              "      <th>RG265</th>\n",
              "      <th>RG266</th>\n",
              "      <th>RG267</th>\n",
              "      <th>RG268</th>\n",
              "      <th>RG269</th>\n",
              "      <th>RG270</th>\n",
              "      <th>RG271</th>\n",
              "      <th>RG272</th>\n",
              "      <th>RG273</th>\n",
              "      <th>RG274</th>\n",
              "      <th>RG275</th>\n",
              "      <th>RG276</th>\n",
              "      <th>RG277</th>\n",
              "      <th>RG278</th>\n",
              "      <th>RG279</th>\n",
              "      <th>RG280</th>\n",
              "      <th>RG281</th>\n",
              "      <th>RG282</th>\n",
              "      <th>RG283</th>\n",
              "      <th>RG284</th>\n",
              "      <th>X2</th>\n",
              "      <th>X3</th>\n",
              "      <th>X4</th>\n",
              "      <th>Other</th>\n",
              "      <th>Salaried</th>\n",
              "      <th>Self_Employed</th>\n",
              "      <th>Yes</th>\n",
              "    </tr>\n",
              "  </thead>\n",
              "  <tbody>\n",
              "    <tr>\n",
              "      <th>0</th>\n",
              "      <td>NNVBBKZB</td>\n",
              "      <td>73</td>\n",
              "      <td>43</td>\n",
              "      <td>1045696</td>\n",
              "      <td>0</td>\n",
              "      <td>0</td>\n",
              "      <td>0</td>\n",
              "      <td>0</td>\n",
              "      <td>0</td>\n",
              "      <td>0</td>\n",
              "      <td>0</td>\n",
              "      <td>0</td>\n",
              "      <td>0</td>\n",
              "      <td>0</td>\n",
              "      <td>0</td>\n",
              "      <td>0</td>\n",
              "      <td>0</td>\n",
              "      <td>0</td>\n",
              "      <td>0</td>\n",
              "      <td>0</td>\n",
              "      <td>0</td>\n",
              "      <td>0</td>\n",
              "      <td>0</td>\n",
              "      <td>0</td>\n",
              "      <td>0</td>\n",
              "      <td>1</td>\n",
              "      <td>0</td>\n",
              "      <td>0</td>\n",
              "      <td>0</td>\n",
              "      <td>0</td>\n",
              "      <td>0</td>\n",
              "      <td>0</td>\n",
              "      <td>0</td>\n",
              "      <td>0</td>\n",
              "      <td>0</td>\n",
              "      <td>0</td>\n",
              "      <td>0</td>\n",
              "      <td>0</td>\n",
              "      <td>0</td>\n",
              "      <td>0</td>\n",
              "      <td>0</td>\n",
              "      <td>0</td>\n",
              "      <td>0</td>\n",
              "      <td>1</td>\n",
              "      <td>0</td>\n",
              "      <td>1</td>\n",
              "      <td>0</td>\n",
              "      <td>0</td>\n",
              "      <td>0</td>\n",
              "    </tr>\n",
              "    <tr>\n",
              "      <th>1</th>\n",
              "      <td>IDD62UNG</td>\n",
              "      <td>30</td>\n",
              "      <td>32</td>\n",
              "      <td>581988</td>\n",
              "      <td>0</td>\n",
              "      <td>0</td>\n",
              "      <td>0</td>\n",
              "      <td>0</td>\n",
              "      <td>0</td>\n",
              "      <td>0</td>\n",
              "      <td>0</td>\n",
              "      <td>0</td>\n",
              "      <td>0</td>\n",
              "      <td>0</td>\n",
              "      <td>0</td>\n",
              "      <td>0</td>\n",
              "      <td>0</td>\n",
              "      <td>0</td>\n",
              "      <td>0</td>\n",
              "      <td>0</td>\n",
              "      <td>0</td>\n",
              "      <td>0</td>\n",
              "      <td>0</td>\n",
              "      <td>0</td>\n",
              "      <td>0</td>\n",
              "      <td>0</td>\n",
              "      <td>0</td>\n",
              "      <td>0</td>\n",
              "      <td>0</td>\n",
              "      <td>0</td>\n",
              "      <td>0</td>\n",
              "      <td>0</td>\n",
              "      <td>0</td>\n",
              "      <td>0</td>\n",
              "      <td>1</td>\n",
              "      <td>0</td>\n",
              "      <td>0</td>\n",
              "      <td>0</td>\n",
              "      <td>0</td>\n",
              "      <td>0</td>\n",
              "      <td>0</td>\n",
              "      <td>0</td>\n",
              "      <td>0</td>\n",
              "      <td>0</td>\n",
              "      <td>0</td>\n",
              "      <td>0</td>\n",
              "      <td>1</td>\n",
              "      <td>0</td>\n",
              "      <td>0</td>\n",
              "    </tr>\n",
              "    <tr>\n",
              "      <th>2</th>\n",
              "      <td>HD3DSEMC</td>\n",
              "      <td>56</td>\n",
              "      <td>26</td>\n",
              "      <td>1484315</td>\n",
              "      <td>0</td>\n",
              "      <td>0</td>\n",
              "      <td>0</td>\n",
              "      <td>0</td>\n",
              "      <td>0</td>\n",
              "      <td>0</td>\n",
              "      <td>0</td>\n",
              "      <td>0</td>\n",
              "      <td>0</td>\n",
              "      <td>0</td>\n",
              "      <td>0</td>\n",
              "      <td>0</td>\n",
              "      <td>0</td>\n",
              "      <td>0</td>\n",
              "      <td>0</td>\n",
              "      <td>0</td>\n",
              "      <td>0</td>\n",
              "      <td>0</td>\n",
              "      <td>0</td>\n",
              "      <td>0</td>\n",
              "      <td>0</td>\n",
              "      <td>1</td>\n",
              "      <td>0</td>\n",
              "      <td>0</td>\n",
              "      <td>0</td>\n",
              "      <td>0</td>\n",
              "      <td>0</td>\n",
              "      <td>0</td>\n",
              "      <td>0</td>\n",
              "      <td>0</td>\n",
              "      <td>0</td>\n",
              "      <td>0</td>\n",
              "      <td>0</td>\n",
              "      <td>0</td>\n",
              "      <td>0</td>\n",
              "      <td>0</td>\n",
              "      <td>0</td>\n",
              "      <td>0</td>\n",
              "      <td>0</td>\n",
              "      <td>1</td>\n",
              "      <td>0</td>\n",
              "      <td>0</td>\n",
              "      <td>0</td>\n",
              "      <td>1</td>\n",
              "      <td>1</td>\n",
              "    </tr>\n",
              "    <tr>\n",
              "      <th>3</th>\n",
              "      <td>BF3NC7KV</td>\n",
              "      <td>34</td>\n",
              "      <td>19</td>\n",
              "      <td>470454</td>\n",
              "      <td>0</td>\n",
              "      <td>1</td>\n",
              "      <td>0</td>\n",
              "      <td>0</td>\n",
              "      <td>0</td>\n",
              "      <td>0</td>\n",
              "      <td>0</td>\n",
              "      <td>0</td>\n",
              "      <td>0</td>\n",
              "      <td>0</td>\n",
              "      <td>0</td>\n",
              "      <td>0</td>\n",
              "      <td>0</td>\n",
              "      <td>0</td>\n",
              "      <td>0</td>\n",
              "      <td>0</td>\n",
              "      <td>0</td>\n",
              "      <td>0</td>\n",
              "      <td>0</td>\n",
              "      <td>0</td>\n",
              "      <td>0</td>\n",
              "      <td>0</td>\n",
              "      <td>0</td>\n",
              "      <td>1</td>\n",
              "      <td>0</td>\n",
              "      <td>0</td>\n",
              "      <td>0</td>\n",
              "      <td>0</td>\n",
              "      <td>0</td>\n",
              "      <td>0</td>\n",
              "      <td>0</td>\n",
              "      <td>0</td>\n",
              "      <td>0</td>\n",
              "      <td>0</td>\n",
              "      <td>0</td>\n",
              "      <td>0</td>\n",
              "      <td>0</td>\n",
              "      <td>0</td>\n",
              "      <td>0</td>\n",
              "      <td>0</td>\n",
              "      <td>0</td>\n",
              "      <td>0</td>\n",
              "      <td>1</td>\n",
              "      <td>0</td>\n",
              "      <td>0</td>\n",
              "    </tr>\n",
              "    <tr>\n",
              "      <th>4</th>\n",
              "      <td>TEASRWXV</td>\n",
              "      <td>30</td>\n",
              "      <td>33</td>\n",
              "      <td>886787</td>\n",
              "      <td>0</td>\n",
              "      <td>0</td>\n",
              "      <td>0</td>\n",
              "      <td>0</td>\n",
              "      <td>0</td>\n",
              "      <td>0</td>\n",
              "      <td>0</td>\n",
              "      <td>0</td>\n",
              "      <td>0</td>\n",
              "      <td>0</td>\n",
              "      <td>0</td>\n",
              "      <td>0</td>\n",
              "      <td>0</td>\n",
              "      <td>0</td>\n",
              "      <td>0</td>\n",
              "      <td>0</td>\n",
              "      <td>0</td>\n",
              "      <td>0</td>\n",
              "      <td>0</td>\n",
              "      <td>0</td>\n",
              "      <td>0</td>\n",
              "      <td>0</td>\n",
              "      <td>0</td>\n",
              "      <td>0</td>\n",
              "      <td>0</td>\n",
              "      <td>0</td>\n",
              "      <td>0</td>\n",
              "      <td>0</td>\n",
              "      <td>0</td>\n",
              "      <td>0</td>\n",
              "      <td>0</td>\n",
              "      <td>0</td>\n",
              "      <td>0</td>\n",
              "      <td>0</td>\n",
              "      <td>0</td>\n",
              "      <td>1</td>\n",
              "      <td>0</td>\n",
              "      <td>0</td>\n",
              "      <td>0</td>\n",
              "      <td>0</td>\n",
              "      <td>0</td>\n",
              "      <td>0</td>\n",
              "      <td>1</td>\n",
              "      <td>0</td>\n",
              "      <td>0</td>\n",
              "    </tr>\n",
              "  </tbody>\n",
              "</table>\n",
              "</div>"
            ],
            "text/plain": [
              "         ID  Age  Vintage  ...  Salaried  Self_Employed  Yes\n",
              "0  NNVBBKZB   73       43  ...         0              0    0\n",
              "1  IDD62UNG   30       32  ...         1              0    0\n",
              "2  HD3DSEMC   56       26  ...         0              1    1\n",
              "3  BF3NC7KV   34       19  ...         1              0    0\n",
              "4  TEASRWXV   30       33  ...         1              0    0\n",
              "\n",
              "[5 rows x 49 columns]"
            ]
          },
          "metadata": {
            "tags": []
          },
          "execution_count": 250
        }
      ]
    },
    {
      "cell_type": "code",
      "metadata": {
        "colab": {
          "base_uri": "https://localhost:8080/",
          "height": 218
        },
        "id": "ugWyAuf4xcPx",
        "outputId": "d27b7b82-d454-45e5-8537-89d36c0c9ac3"
      },
      "source": [
        "ydb = Xdb['Is_Lead']\n",
        "Xdb = Xdb.drop(['Is_Lead'],axis = 1)\n",
        "\n",
        "Xdb.drop(['ID'],inplace=True,axis=1)\n",
        "Xdb.head()"
      ],
      "execution_count": 251,
      "outputs": [
        {
          "output_type": "execute_result",
          "data": {
            "text/html": [
              "<div>\n",
              "<style scoped>\n",
              "    .dataframe tbody tr th:only-of-type {\n",
              "        vertical-align: middle;\n",
              "    }\n",
              "\n",
              "    .dataframe tbody tr th {\n",
              "        vertical-align: top;\n",
              "    }\n",
              "\n",
              "    .dataframe thead th {\n",
              "        text-align: right;\n",
              "    }\n",
              "</style>\n",
              "<table border=\"1\" class=\"dataframe\">\n",
              "  <thead>\n",
              "    <tr style=\"text-align: right;\">\n",
              "      <th></th>\n",
              "      <th>Age</th>\n",
              "      <th>Vintage</th>\n",
              "      <th>Avg_Account_Balance</th>\n",
              "      <th>Male</th>\n",
              "      <th>Unknown</th>\n",
              "      <th>Yes</th>\n",
              "      <th>RG251</th>\n",
              "      <th>RG252</th>\n",
              "      <th>RG253</th>\n",
              "      <th>RG254</th>\n",
              "      <th>RG255</th>\n",
              "      <th>RG256</th>\n",
              "      <th>RG257</th>\n",
              "      <th>RG258</th>\n",
              "      <th>RG259</th>\n",
              "      <th>RG260</th>\n",
              "      <th>RG261</th>\n",
              "      <th>RG262</th>\n",
              "      <th>RG263</th>\n",
              "      <th>RG264</th>\n",
              "      <th>RG265</th>\n",
              "      <th>RG266</th>\n",
              "      <th>RG267</th>\n",
              "      <th>RG268</th>\n",
              "      <th>RG269</th>\n",
              "      <th>RG270</th>\n",
              "      <th>RG271</th>\n",
              "      <th>RG272</th>\n",
              "      <th>RG273</th>\n",
              "      <th>RG274</th>\n",
              "      <th>RG275</th>\n",
              "      <th>RG276</th>\n",
              "      <th>RG277</th>\n",
              "      <th>RG278</th>\n",
              "      <th>RG279</th>\n",
              "      <th>RG280</th>\n",
              "      <th>RG281</th>\n",
              "      <th>RG282</th>\n",
              "      <th>RG283</th>\n",
              "      <th>RG284</th>\n",
              "      <th>X2</th>\n",
              "      <th>X3</th>\n",
              "      <th>X4</th>\n",
              "      <th>Other</th>\n",
              "      <th>Salaried</th>\n",
              "      <th>Self_Employed</th>\n",
              "      <th>Yes</th>\n",
              "    </tr>\n",
              "  </thead>\n",
              "  <tbody>\n",
              "    <tr>\n",
              "      <th>0</th>\n",
              "      <td>73</td>\n",
              "      <td>43</td>\n",
              "      <td>1045696</td>\n",
              "      <td>0</td>\n",
              "      <td>0</td>\n",
              "      <td>0</td>\n",
              "      <td>0</td>\n",
              "      <td>0</td>\n",
              "      <td>0</td>\n",
              "      <td>0</td>\n",
              "      <td>0</td>\n",
              "      <td>0</td>\n",
              "      <td>0</td>\n",
              "      <td>0</td>\n",
              "      <td>0</td>\n",
              "      <td>0</td>\n",
              "      <td>0</td>\n",
              "      <td>0</td>\n",
              "      <td>0</td>\n",
              "      <td>0</td>\n",
              "      <td>0</td>\n",
              "      <td>0</td>\n",
              "      <td>0</td>\n",
              "      <td>1</td>\n",
              "      <td>0</td>\n",
              "      <td>0</td>\n",
              "      <td>0</td>\n",
              "      <td>0</td>\n",
              "      <td>0</td>\n",
              "      <td>0</td>\n",
              "      <td>0</td>\n",
              "      <td>0</td>\n",
              "      <td>0</td>\n",
              "      <td>0</td>\n",
              "      <td>0</td>\n",
              "      <td>0</td>\n",
              "      <td>0</td>\n",
              "      <td>0</td>\n",
              "      <td>0</td>\n",
              "      <td>0</td>\n",
              "      <td>0</td>\n",
              "      <td>1</td>\n",
              "      <td>0</td>\n",
              "      <td>1</td>\n",
              "      <td>0</td>\n",
              "      <td>0</td>\n",
              "      <td>0</td>\n",
              "    </tr>\n",
              "    <tr>\n",
              "      <th>1</th>\n",
              "      <td>30</td>\n",
              "      <td>32</td>\n",
              "      <td>581988</td>\n",
              "      <td>0</td>\n",
              "      <td>0</td>\n",
              "      <td>0</td>\n",
              "      <td>0</td>\n",
              "      <td>0</td>\n",
              "      <td>0</td>\n",
              "      <td>0</td>\n",
              "      <td>0</td>\n",
              "      <td>0</td>\n",
              "      <td>0</td>\n",
              "      <td>0</td>\n",
              "      <td>0</td>\n",
              "      <td>0</td>\n",
              "      <td>0</td>\n",
              "      <td>0</td>\n",
              "      <td>0</td>\n",
              "      <td>0</td>\n",
              "      <td>0</td>\n",
              "      <td>0</td>\n",
              "      <td>0</td>\n",
              "      <td>0</td>\n",
              "      <td>0</td>\n",
              "      <td>0</td>\n",
              "      <td>0</td>\n",
              "      <td>0</td>\n",
              "      <td>0</td>\n",
              "      <td>0</td>\n",
              "      <td>0</td>\n",
              "      <td>0</td>\n",
              "      <td>1</td>\n",
              "      <td>0</td>\n",
              "      <td>0</td>\n",
              "      <td>0</td>\n",
              "      <td>0</td>\n",
              "      <td>0</td>\n",
              "      <td>0</td>\n",
              "      <td>0</td>\n",
              "      <td>0</td>\n",
              "      <td>0</td>\n",
              "      <td>0</td>\n",
              "      <td>0</td>\n",
              "      <td>1</td>\n",
              "      <td>0</td>\n",
              "      <td>0</td>\n",
              "    </tr>\n",
              "    <tr>\n",
              "      <th>2</th>\n",
              "      <td>56</td>\n",
              "      <td>26</td>\n",
              "      <td>1484315</td>\n",
              "      <td>0</td>\n",
              "      <td>0</td>\n",
              "      <td>0</td>\n",
              "      <td>0</td>\n",
              "      <td>0</td>\n",
              "      <td>0</td>\n",
              "      <td>0</td>\n",
              "      <td>0</td>\n",
              "      <td>0</td>\n",
              "      <td>0</td>\n",
              "      <td>0</td>\n",
              "      <td>0</td>\n",
              "      <td>0</td>\n",
              "      <td>0</td>\n",
              "      <td>0</td>\n",
              "      <td>0</td>\n",
              "      <td>0</td>\n",
              "      <td>0</td>\n",
              "      <td>0</td>\n",
              "      <td>0</td>\n",
              "      <td>1</td>\n",
              "      <td>0</td>\n",
              "      <td>0</td>\n",
              "      <td>0</td>\n",
              "      <td>0</td>\n",
              "      <td>0</td>\n",
              "      <td>0</td>\n",
              "      <td>0</td>\n",
              "      <td>0</td>\n",
              "      <td>0</td>\n",
              "      <td>0</td>\n",
              "      <td>0</td>\n",
              "      <td>0</td>\n",
              "      <td>0</td>\n",
              "      <td>0</td>\n",
              "      <td>0</td>\n",
              "      <td>0</td>\n",
              "      <td>0</td>\n",
              "      <td>1</td>\n",
              "      <td>0</td>\n",
              "      <td>0</td>\n",
              "      <td>0</td>\n",
              "      <td>1</td>\n",
              "      <td>1</td>\n",
              "    </tr>\n",
              "    <tr>\n",
              "      <th>3</th>\n",
              "      <td>34</td>\n",
              "      <td>19</td>\n",
              "      <td>470454</td>\n",
              "      <td>1</td>\n",
              "      <td>0</td>\n",
              "      <td>0</td>\n",
              "      <td>0</td>\n",
              "      <td>0</td>\n",
              "      <td>0</td>\n",
              "      <td>0</td>\n",
              "      <td>0</td>\n",
              "      <td>0</td>\n",
              "      <td>0</td>\n",
              "      <td>0</td>\n",
              "      <td>0</td>\n",
              "      <td>0</td>\n",
              "      <td>0</td>\n",
              "      <td>0</td>\n",
              "      <td>0</td>\n",
              "      <td>0</td>\n",
              "      <td>0</td>\n",
              "      <td>0</td>\n",
              "      <td>0</td>\n",
              "      <td>0</td>\n",
              "      <td>0</td>\n",
              "      <td>1</td>\n",
              "      <td>0</td>\n",
              "      <td>0</td>\n",
              "      <td>0</td>\n",
              "      <td>0</td>\n",
              "      <td>0</td>\n",
              "      <td>0</td>\n",
              "      <td>0</td>\n",
              "      <td>0</td>\n",
              "      <td>0</td>\n",
              "      <td>0</td>\n",
              "      <td>0</td>\n",
              "      <td>0</td>\n",
              "      <td>0</td>\n",
              "      <td>0</td>\n",
              "      <td>0</td>\n",
              "      <td>0</td>\n",
              "      <td>0</td>\n",
              "      <td>0</td>\n",
              "      <td>1</td>\n",
              "      <td>0</td>\n",
              "      <td>0</td>\n",
              "    </tr>\n",
              "    <tr>\n",
              "      <th>4</th>\n",
              "      <td>30</td>\n",
              "      <td>33</td>\n",
              "      <td>886787</td>\n",
              "      <td>0</td>\n",
              "      <td>0</td>\n",
              "      <td>0</td>\n",
              "      <td>0</td>\n",
              "      <td>0</td>\n",
              "      <td>0</td>\n",
              "      <td>0</td>\n",
              "      <td>0</td>\n",
              "      <td>0</td>\n",
              "      <td>0</td>\n",
              "      <td>0</td>\n",
              "      <td>0</td>\n",
              "      <td>0</td>\n",
              "      <td>0</td>\n",
              "      <td>0</td>\n",
              "      <td>0</td>\n",
              "      <td>0</td>\n",
              "      <td>0</td>\n",
              "      <td>0</td>\n",
              "      <td>0</td>\n",
              "      <td>0</td>\n",
              "      <td>0</td>\n",
              "      <td>0</td>\n",
              "      <td>0</td>\n",
              "      <td>0</td>\n",
              "      <td>0</td>\n",
              "      <td>0</td>\n",
              "      <td>0</td>\n",
              "      <td>0</td>\n",
              "      <td>0</td>\n",
              "      <td>0</td>\n",
              "      <td>0</td>\n",
              "      <td>0</td>\n",
              "      <td>0</td>\n",
              "      <td>1</td>\n",
              "      <td>0</td>\n",
              "      <td>0</td>\n",
              "      <td>0</td>\n",
              "      <td>0</td>\n",
              "      <td>0</td>\n",
              "      <td>0</td>\n",
              "      <td>1</td>\n",
              "      <td>0</td>\n",
              "      <td>0</td>\n",
              "    </tr>\n",
              "  </tbody>\n",
              "</table>\n",
              "</div>"
            ],
            "text/plain": [
              "   Age  Vintage  Avg_Account_Balance  Male  ...  Other  Salaried  Self_Employed  Yes\n",
              "0   73       43              1045696     0  ...      1         0              0    0\n",
              "1   30       32               581988     0  ...      0         1              0    0\n",
              "2   56       26              1484315     0  ...      0         0              1    1\n",
              "3   34       19               470454     1  ...      0         1              0    0\n",
              "4   30       33               886787     0  ...      0         1              0    0\n",
              "\n",
              "[5 rows x 47 columns]"
            ]
          },
          "metadata": {
            "tags": []
          },
          "execution_count": 251
        }
      ]
    },
    {
      "cell_type": "code",
      "metadata": {
        "colab": {
          "base_uri": "https://localhost:8080/",
          "height": 218
        },
        "id": "93qrWaMbzlao",
        "outputId": "a481a8e8-29b8-4359-bda7-cd6e2d0c9ec4"
      },
      "source": [
        "Xdb.columns = ['Age', 'Vintage', 'Avg_Account_Balance', 'Male', 'Unknown', 'Yes0',\n",
        "       'RG251', 'RG252', 'RG253', 'RG254', 'RG255', 'RG256', 'RG257', 'RG258',\n",
        "       'RG259', 'RG260', 'RG261', 'RG262', 'RG263', 'RG264', 'RG265', 'RG266',\n",
        "       'RG267', 'RG268', 'RG269', 'RG270', 'RG271', 'RG272', 'RG273', 'RG274',\n",
        "       'RG275', 'RG276', 'RG277', 'RG278', 'RG279', 'RG280', 'RG281', 'RG282',\n",
        "       'RG283', 'RG284', 'X2', 'X3', 'X4', 'Other', 'Salaried',\n",
        "       'Self_Employed', 'Yes']\n",
        "Xdb.head()"
      ],
      "execution_count": 179,
      "outputs": [
        {
          "output_type": "execute_result",
          "data": {
            "text/html": [
              "<div>\n",
              "<style scoped>\n",
              "    .dataframe tbody tr th:only-of-type {\n",
              "        vertical-align: middle;\n",
              "    }\n",
              "\n",
              "    .dataframe tbody tr th {\n",
              "        vertical-align: top;\n",
              "    }\n",
              "\n",
              "    .dataframe thead th {\n",
              "        text-align: right;\n",
              "    }\n",
              "</style>\n",
              "<table border=\"1\" class=\"dataframe\">\n",
              "  <thead>\n",
              "    <tr style=\"text-align: right;\">\n",
              "      <th></th>\n",
              "      <th>Age</th>\n",
              "      <th>Vintage</th>\n",
              "      <th>Avg_Account_Balance</th>\n",
              "      <th>Male</th>\n",
              "      <th>Unknown</th>\n",
              "      <th>Yes0</th>\n",
              "      <th>RG251</th>\n",
              "      <th>RG252</th>\n",
              "      <th>RG253</th>\n",
              "      <th>RG254</th>\n",
              "      <th>RG255</th>\n",
              "      <th>RG256</th>\n",
              "      <th>RG257</th>\n",
              "      <th>RG258</th>\n",
              "      <th>RG259</th>\n",
              "      <th>RG260</th>\n",
              "      <th>RG261</th>\n",
              "      <th>RG262</th>\n",
              "      <th>RG263</th>\n",
              "      <th>RG264</th>\n",
              "      <th>RG265</th>\n",
              "      <th>RG266</th>\n",
              "      <th>RG267</th>\n",
              "      <th>RG268</th>\n",
              "      <th>RG269</th>\n",
              "      <th>RG270</th>\n",
              "      <th>RG271</th>\n",
              "      <th>RG272</th>\n",
              "      <th>RG273</th>\n",
              "      <th>RG274</th>\n",
              "      <th>RG275</th>\n",
              "      <th>RG276</th>\n",
              "      <th>RG277</th>\n",
              "      <th>RG278</th>\n",
              "      <th>RG279</th>\n",
              "      <th>RG280</th>\n",
              "      <th>RG281</th>\n",
              "      <th>RG282</th>\n",
              "      <th>RG283</th>\n",
              "      <th>RG284</th>\n",
              "      <th>X2</th>\n",
              "      <th>X3</th>\n",
              "      <th>X4</th>\n",
              "      <th>Other</th>\n",
              "      <th>Salaried</th>\n",
              "      <th>Self_Employed</th>\n",
              "      <th>Yes</th>\n",
              "    </tr>\n",
              "  </thead>\n",
              "  <tbody>\n",
              "    <tr>\n",
              "      <th>0</th>\n",
              "      <td>73</td>\n",
              "      <td>43</td>\n",
              "      <td>1045696</td>\n",
              "      <td>0</td>\n",
              "      <td>0</td>\n",
              "      <td>0</td>\n",
              "      <td>0</td>\n",
              "      <td>0</td>\n",
              "      <td>0</td>\n",
              "      <td>0</td>\n",
              "      <td>0</td>\n",
              "      <td>0</td>\n",
              "      <td>0</td>\n",
              "      <td>0</td>\n",
              "      <td>0</td>\n",
              "      <td>0</td>\n",
              "      <td>0</td>\n",
              "      <td>0</td>\n",
              "      <td>0</td>\n",
              "      <td>0</td>\n",
              "      <td>0</td>\n",
              "      <td>0</td>\n",
              "      <td>0</td>\n",
              "      <td>1</td>\n",
              "      <td>0</td>\n",
              "      <td>0</td>\n",
              "      <td>0</td>\n",
              "      <td>0</td>\n",
              "      <td>0</td>\n",
              "      <td>0</td>\n",
              "      <td>0</td>\n",
              "      <td>0</td>\n",
              "      <td>0</td>\n",
              "      <td>0</td>\n",
              "      <td>0</td>\n",
              "      <td>0</td>\n",
              "      <td>0</td>\n",
              "      <td>0</td>\n",
              "      <td>0</td>\n",
              "      <td>0</td>\n",
              "      <td>0</td>\n",
              "      <td>1</td>\n",
              "      <td>0</td>\n",
              "      <td>1</td>\n",
              "      <td>0</td>\n",
              "      <td>0</td>\n",
              "      <td>0</td>\n",
              "    </tr>\n",
              "    <tr>\n",
              "      <th>1</th>\n",
              "      <td>30</td>\n",
              "      <td>32</td>\n",
              "      <td>581988</td>\n",
              "      <td>0</td>\n",
              "      <td>0</td>\n",
              "      <td>0</td>\n",
              "      <td>0</td>\n",
              "      <td>0</td>\n",
              "      <td>0</td>\n",
              "      <td>0</td>\n",
              "      <td>0</td>\n",
              "      <td>0</td>\n",
              "      <td>0</td>\n",
              "      <td>0</td>\n",
              "      <td>0</td>\n",
              "      <td>0</td>\n",
              "      <td>0</td>\n",
              "      <td>0</td>\n",
              "      <td>0</td>\n",
              "      <td>0</td>\n",
              "      <td>0</td>\n",
              "      <td>0</td>\n",
              "      <td>0</td>\n",
              "      <td>0</td>\n",
              "      <td>0</td>\n",
              "      <td>0</td>\n",
              "      <td>0</td>\n",
              "      <td>0</td>\n",
              "      <td>0</td>\n",
              "      <td>0</td>\n",
              "      <td>0</td>\n",
              "      <td>0</td>\n",
              "      <td>1</td>\n",
              "      <td>0</td>\n",
              "      <td>0</td>\n",
              "      <td>0</td>\n",
              "      <td>0</td>\n",
              "      <td>0</td>\n",
              "      <td>0</td>\n",
              "      <td>0</td>\n",
              "      <td>0</td>\n",
              "      <td>0</td>\n",
              "      <td>0</td>\n",
              "      <td>0</td>\n",
              "      <td>1</td>\n",
              "      <td>0</td>\n",
              "      <td>0</td>\n",
              "    </tr>\n",
              "    <tr>\n",
              "      <th>2</th>\n",
              "      <td>56</td>\n",
              "      <td>26</td>\n",
              "      <td>1484315</td>\n",
              "      <td>0</td>\n",
              "      <td>0</td>\n",
              "      <td>0</td>\n",
              "      <td>0</td>\n",
              "      <td>0</td>\n",
              "      <td>0</td>\n",
              "      <td>0</td>\n",
              "      <td>0</td>\n",
              "      <td>0</td>\n",
              "      <td>0</td>\n",
              "      <td>0</td>\n",
              "      <td>0</td>\n",
              "      <td>0</td>\n",
              "      <td>0</td>\n",
              "      <td>0</td>\n",
              "      <td>0</td>\n",
              "      <td>0</td>\n",
              "      <td>0</td>\n",
              "      <td>0</td>\n",
              "      <td>0</td>\n",
              "      <td>1</td>\n",
              "      <td>0</td>\n",
              "      <td>0</td>\n",
              "      <td>0</td>\n",
              "      <td>0</td>\n",
              "      <td>0</td>\n",
              "      <td>0</td>\n",
              "      <td>0</td>\n",
              "      <td>0</td>\n",
              "      <td>0</td>\n",
              "      <td>0</td>\n",
              "      <td>0</td>\n",
              "      <td>0</td>\n",
              "      <td>0</td>\n",
              "      <td>0</td>\n",
              "      <td>0</td>\n",
              "      <td>0</td>\n",
              "      <td>0</td>\n",
              "      <td>1</td>\n",
              "      <td>0</td>\n",
              "      <td>0</td>\n",
              "      <td>0</td>\n",
              "      <td>1</td>\n",
              "      <td>1</td>\n",
              "    </tr>\n",
              "    <tr>\n",
              "      <th>3</th>\n",
              "      <td>34</td>\n",
              "      <td>19</td>\n",
              "      <td>470454</td>\n",
              "      <td>1</td>\n",
              "      <td>0</td>\n",
              "      <td>0</td>\n",
              "      <td>0</td>\n",
              "      <td>0</td>\n",
              "      <td>0</td>\n",
              "      <td>0</td>\n",
              "      <td>0</td>\n",
              "      <td>0</td>\n",
              "      <td>0</td>\n",
              "      <td>0</td>\n",
              "      <td>0</td>\n",
              "      <td>0</td>\n",
              "      <td>0</td>\n",
              "      <td>0</td>\n",
              "      <td>0</td>\n",
              "      <td>0</td>\n",
              "      <td>0</td>\n",
              "      <td>0</td>\n",
              "      <td>0</td>\n",
              "      <td>0</td>\n",
              "      <td>0</td>\n",
              "      <td>1</td>\n",
              "      <td>0</td>\n",
              "      <td>0</td>\n",
              "      <td>0</td>\n",
              "      <td>0</td>\n",
              "      <td>0</td>\n",
              "      <td>0</td>\n",
              "      <td>0</td>\n",
              "      <td>0</td>\n",
              "      <td>0</td>\n",
              "      <td>0</td>\n",
              "      <td>0</td>\n",
              "      <td>0</td>\n",
              "      <td>0</td>\n",
              "      <td>0</td>\n",
              "      <td>0</td>\n",
              "      <td>0</td>\n",
              "      <td>0</td>\n",
              "      <td>0</td>\n",
              "      <td>1</td>\n",
              "      <td>0</td>\n",
              "      <td>0</td>\n",
              "    </tr>\n",
              "    <tr>\n",
              "      <th>4</th>\n",
              "      <td>30</td>\n",
              "      <td>33</td>\n",
              "      <td>886787</td>\n",
              "      <td>0</td>\n",
              "      <td>0</td>\n",
              "      <td>0</td>\n",
              "      <td>0</td>\n",
              "      <td>0</td>\n",
              "      <td>0</td>\n",
              "      <td>0</td>\n",
              "      <td>0</td>\n",
              "      <td>0</td>\n",
              "      <td>0</td>\n",
              "      <td>0</td>\n",
              "      <td>0</td>\n",
              "      <td>0</td>\n",
              "      <td>0</td>\n",
              "      <td>0</td>\n",
              "      <td>0</td>\n",
              "      <td>0</td>\n",
              "      <td>0</td>\n",
              "      <td>0</td>\n",
              "      <td>0</td>\n",
              "      <td>0</td>\n",
              "      <td>0</td>\n",
              "      <td>0</td>\n",
              "      <td>0</td>\n",
              "      <td>0</td>\n",
              "      <td>0</td>\n",
              "      <td>0</td>\n",
              "      <td>0</td>\n",
              "      <td>0</td>\n",
              "      <td>0</td>\n",
              "      <td>0</td>\n",
              "      <td>0</td>\n",
              "      <td>0</td>\n",
              "      <td>0</td>\n",
              "      <td>1</td>\n",
              "      <td>0</td>\n",
              "      <td>0</td>\n",
              "      <td>0</td>\n",
              "      <td>0</td>\n",
              "      <td>0</td>\n",
              "      <td>0</td>\n",
              "      <td>1</td>\n",
              "      <td>0</td>\n",
              "      <td>0</td>\n",
              "    </tr>\n",
              "  </tbody>\n",
              "</table>\n",
              "</div>"
            ],
            "text/plain": [
              "   Age  Vintage  Avg_Account_Balance  Male  ...  Other  Salaried  Self_Employed  Yes\n",
              "0   73       43              1045696     0  ...      1         0              0    0\n",
              "1   30       32               581988     0  ...      0         1              0    0\n",
              "2   56       26              1484315     0  ...      0         0              1    1\n",
              "3   34       19               470454     1  ...      0         1              0    0\n",
              "4   30       33               886787     0  ...      0         1              0    0\n",
              "\n",
              "[5 rows x 47 columns]"
            ]
          },
          "metadata": {
            "tags": []
          },
          "execution_count": 179
        }
      ]
    },
    {
      "cell_type": "code",
      "metadata": {
        "colab": {
          "base_uri": "https://localhost:8080/",
          "height": 198
        },
        "id": "6hF9cKQ1eOUy",
        "outputId": "fd5842d7-e451-4c97-9acc-8b1dbfa29e5f"
      },
      "source": [
        "Xr = data.drop(['Is_Lead'],axis = 1)\n",
        "yr = data['Is_Lead']\n",
        "Xr.drop(['ID'],inplace=True,axis=1)\n",
        "Xr.head()"
      ],
      "execution_count": 48,
      "outputs": [
        {
          "output_type": "execute_result",
          "data": {
            "text/html": [
              "<div>\n",
              "<style scoped>\n",
              "    .dataframe tbody tr th:only-of-type {\n",
              "        vertical-align: middle;\n",
              "    }\n",
              "\n",
              "    .dataframe tbody tr th {\n",
              "        vertical-align: top;\n",
              "    }\n",
              "\n",
              "    .dataframe thead th {\n",
              "        text-align: right;\n",
              "    }\n",
              "</style>\n",
              "<table border=\"1\" class=\"dataframe\">\n",
              "  <thead>\n",
              "    <tr style=\"text-align: right;\">\n",
              "      <th></th>\n",
              "      <th>Gender</th>\n",
              "      <th>Age</th>\n",
              "      <th>Region_Code</th>\n",
              "      <th>Occupation</th>\n",
              "      <th>Channel_Code</th>\n",
              "      <th>Vintage</th>\n",
              "      <th>Credit_Product</th>\n",
              "      <th>Avg_Account_Balance</th>\n",
              "      <th>Is_Active</th>\n",
              "    </tr>\n",
              "  </thead>\n",
              "  <tbody>\n",
              "    <tr>\n",
              "      <th>0</th>\n",
              "      <td>Female</td>\n",
              "      <td>73</td>\n",
              "      <td>RG268</td>\n",
              "      <td>Other</td>\n",
              "      <td>X3</td>\n",
              "      <td>43</td>\n",
              "      <td>No</td>\n",
              "      <td>1045696</td>\n",
              "      <td>No</td>\n",
              "    </tr>\n",
              "    <tr>\n",
              "      <th>1</th>\n",
              "      <td>Female</td>\n",
              "      <td>30</td>\n",
              "      <td>RG277</td>\n",
              "      <td>Salaried</td>\n",
              "      <td>X1</td>\n",
              "      <td>32</td>\n",
              "      <td>No</td>\n",
              "      <td>581988</td>\n",
              "      <td>No</td>\n",
              "    </tr>\n",
              "    <tr>\n",
              "      <th>2</th>\n",
              "      <td>Female</td>\n",
              "      <td>56</td>\n",
              "      <td>RG268</td>\n",
              "      <td>Self_Employed</td>\n",
              "      <td>X3</td>\n",
              "      <td>26</td>\n",
              "      <td>No</td>\n",
              "      <td>1484315</td>\n",
              "      <td>Yes</td>\n",
              "    </tr>\n",
              "    <tr>\n",
              "      <th>3</th>\n",
              "      <td>Male</td>\n",
              "      <td>34</td>\n",
              "      <td>RG270</td>\n",
              "      <td>Salaried</td>\n",
              "      <td>X1</td>\n",
              "      <td>19</td>\n",
              "      <td>No</td>\n",
              "      <td>470454</td>\n",
              "      <td>No</td>\n",
              "    </tr>\n",
              "    <tr>\n",
              "      <th>4</th>\n",
              "      <td>Female</td>\n",
              "      <td>30</td>\n",
              "      <td>RG282</td>\n",
              "      <td>Salaried</td>\n",
              "      <td>X1</td>\n",
              "      <td>33</td>\n",
              "      <td>No</td>\n",
              "      <td>886787</td>\n",
              "      <td>No</td>\n",
              "    </tr>\n",
              "  </tbody>\n",
              "</table>\n",
              "</div>"
            ],
            "text/plain": [
              "   Gender  Age Region_Code  ... Credit_Product Avg_Account_Balance  Is_Active\n",
              "0  Female   73       RG268  ...             No             1045696         No\n",
              "1  Female   30       RG277  ...             No              581988         No\n",
              "2  Female   56       RG268  ...             No             1484315        Yes\n",
              "3    Male   34       RG270  ...             No              470454         No\n",
              "4  Female   30       RG282  ...             No              886787         No\n",
              "\n",
              "[5 rows x 9 columns]"
            ]
          },
          "metadata": {
            "tags": []
          },
          "execution_count": 48
        }
      ]
    },
    {
      "cell_type": "markdown",
      "metadata": {
        "id": "oovA2a5d6XPV"
      },
      "source": [
        "# Response Coding"
      ]
    },
    {
      "cell_type": "code",
      "metadata": {
        "id": "H4fpdTskbCkm"
      },
      "source": [
        "def responseEncoded(d,col):\n",
        "  dic={}\n",
        "  for u in d[col].unique():\n",
        "    \n",
        "    dic[u]=len(d[d[col]==u])/len(d)\n",
        "    # d['Channel_Code'].rep\n",
        "  print(dic)\n",
        "  d[col]=d[col].map(dic)\n",
        "  return d"
      ],
      "execution_count": 49,
      "outputs": []
    },
    {
      "cell_type": "code",
      "metadata": {
        "colab": {
          "base_uri": "https://localhost:8080/",
          "height": 322
        },
        "id": "HrtCx5Pybkr9",
        "outputId": "623c407d-5ef2-47d4-c891-1935a88b0565"
      },
      "source": [
        "Xr = responseEncoded(Xr,'Gender')\n",
        "Xr = responseEncoded(Xr,'Credit_Product')\n",
        "Xr = responseEncoded(Xr,'Region_Code')\n",
        "Xr = responseEncoded(Xr,'Channel_Code')\n",
        "Xr = responseEncoded(Xr,'Occupation')\n",
        "Xr = responseEncoded(Xr,'Is_Active')\n",
        "Xr.head()"
      ],
      "execution_count": 50,
      "outputs": [
        {
          "output_type": "stream",
          "text": [
            "{'Female': 0.4538732322718486, 'Male': 0.5461267677281514}\n",
            "{'No': 0.5874738020144471, 'Unknown': 0.11934072642181301, 'Yes': 0.29318547156374}\n",
            "{'RG268': 0.14623664665784922, 'RG277': 0.052196561196459455, 'RG270': 0.0314172347136026, 'RG282': 0.02372164004476549, 'RG261': 0.031063180384576256, 'RG265': 0.006291586122698138, 'RG283': 0.11971105911079459, 'RG254': 0.10922779529962356, 'RG269': 0.03199918608200224, 'RG257': 0.024828568521721436, 'RG279': 0.016180689795503102, 'RG280': 0.05198901210703022, 'RG252': 0.017442262692033778, 'RG284': 0.07862447858378269, 'RG259': 0.01052395971105911, 'RG281': 0.02072642181300234, 'RG258': 0.007939770068165632, 'RG266': 0.006421813002340015, 'RG260': 0.012656424865194832, 'RG274': 0.021511852680842405, 'RG256': 0.011586122698138163, 'RG275': 0.013205819513683997, 'RG273': 0.018300946179672397, 'RG267': 0.006092176213246515, 'RG272': 0.02137348662122291, 'RG251': 0.024214060433411334, 'RG262': 0.007276426899989826, 'RG264': 0.011366364838742496, 'RG278': 0.007414792959609319, 'RG276': 0.011248346729067046, 'RG263': 0.01500457828873741, 'RG250': 0.010157696612066334, 'RG255': 0.00821243259741581, 'RG253': 0.00756129819920643, 'RG271': 0.0062753077627429035}\n",
            "{'X3': 0.2796296673110184, 'X1': 0.42208973445925324, 'X2': 0.27561705158205313, 'X4': 0.022663546647675246}\n",
            "{'Other': 0.2855753382846678, 'Salaried': 0.29300640960423235, 'Self_Employed': 0.4105646556109472, 'Entrepreneur': 0.01085359650015261}\n",
            "{'No': 0.6116186794180486, 'Yes': 0.38838132058195135}\n"
          ],
          "name": "stdout"
        },
        {
          "output_type": "execute_result",
          "data": {
            "text/html": [
              "<div>\n",
              "<style scoped>\n",
              "    .dataframe tbody tr th:only-of-type {\n",
              "        vertical-align: middle;\n",
              "    }\n",
              "\n",
              "    .dataframe tbody tr th {\n",
              "        vertical-align: top;\n",
              "    }\n",
              "\n",
              "    .dataframe thead th {\n",
              "        text-align: right;\n",
              "    }\n",
              "</style>\n",
              "<table border=\"1\" class=\"dataframe\">\n",
              "  <thead>\n",
              "    <tr style=\"text-align: right;\">\n",
              "      <th></th>\n",
              "      <th>Gender</th>\n",
              "      <th>Age</th>\n",
              "      <th>Region_Code</th>\n",
              "      <th>Occupation</th>\n",
              "      <th>Channel_Code</th>\n",
              "      <th>Vintage</th>\n",
              "      <th>Credit_Product</th>\n",
              "      <th>Avg_Account_Balance</th>\n",
              "      <th>Is_Active</th>\n",
              "    </tr>\n",
              "  </thead>\n",
              "  <tbody>\n",
              "    <tr>\n",
              "      <th>0</th>\n",
              "      <td>0.453873</td>\n",
              "      <td>73</td>\n",
              "      <td>0.146237</td>\n",
              "      <td>0.285575</td>\n",
              "      <td>0.27963</td>\n",
              "      <td>43</td>\n",
              "      <td>0.587474</td>\n",
              "      <td>1045696</td>\n",
              "      <td>0.611619</td>\n",
              "    </tr>\n",
              "    <tr>\n",
              "      <th>1</th>\n",
              "      <td>0.453873</td>\n",
              "      <td>30</td>\n",
              "      <td>0.052197</td>\n",
              "      <td>0.293006</td>\n",
              "      <td>0.42209</td>\n",
              "      <td>32</td>\n",
              "      <td>0.587474</td>\n",
              "      <td>581988</td>\n",
              "      <td>0.611619</td>\n",
              "    </tr>\n",
              "    <tr>\n",
              "      <th>2</th>\n",
              "      <td>0.453873</td>\n",
              "      <td>56</td>\n",
              "      <td>0.146237</td>\n",
              "      <td>0.410565</td>\n",
              "      <td>0.27963</td>\n",
              "      <td>26</td>\n",
              "      <td>0.587474</td>\n",
              "      <td>1484315</td>\n",
              "      <td>0.388381</td>\n",
              "    </tr>\n",
              "    <tr>\n",
              "      <th>3</th>\n",
              "      <td>0.546127</td>\n",
              "      <td>34</td>\n",
              "      <td>0.031417</td>\n",
              "      <td>0.293006</td>\n",
              "      <td>0.42209</td>\n",
              "      <td>19</td>\n",
              "      <td>0.587474</td>\n",
              "      <td>470454</td>\n",
              "      <td>0.611619</td>\n",
              "    </tr>\n",
              "    <tr>\n",
              "      <th>4</th>\n",
              "      <td>0.453873</td>\n",
              "      <td>30</td>\n",
              "      <td>0.023722</td>\n",
              "      <td>0.293006</td>\n",
              "      <td>0.42209</td>\n",
              "      <td>33</td>\n",
              "      <td>0.587474</td>\n",
              "      <td>886787</td>\n",
              "      <td>0.611619</td>\n",
              "    </tr>\n",
              "  </tbody>\n",
              "</table>\n",
              "</div>"
            ],
            "text/plain": [
              "     Gender  Age  Region_Code  ...  Credit_Product  Avg_Account_Balance  Is_Active\n",
              "0  0.453873   73     0.146237  ...        0.587474              1045696   0.611619\n",
              "1  0.453873   30     0.052197  ...        0.587474               581988   0.611619\n",
              "2  0.453873   56     0.146237  ...        0.587474              1484315   0.388381\n",
              "3  0.546127   34     0.031417  ...        0.587474               470454   0.611619\n",
              "4  0.453873   30     0.023722  ...        0.587474               886787   0.611619\n",
              "\n",
              "[5 rows x 9 columns]"
            ]
          },
          "metadata": {
            "tags": []
          },
          "execution_count": 50
        }
      ]
    },
    {
      "cell_type": "code",
      "metadata": {
        "id": "6xrwCTU96bmN"
      },
      "source": [
        ""
      ],
      "execution_count": null,
      "outputs": []
    },
    {
      "cell_type": "markdown",
      "metadata": {
        "id": "CJBGhwfW6cZ3"
      },
      "source": [
        "# UpSampling and ResponseCoding"
      ]
    },
    {
      "cell_type": "code",
      "metadata": {
        "colab": {
          "base_uri": "https://localhost:8080/",
          "height": 0
        },
        "id": "pFYTooBZJsYW",
        "outputId": "c28a5593-17b4-4b04-ca96-9673aef9a385"
      },
      "source": [
        "Xrb = responseEncoded(df_upsampled,'Gender')\n",
        "Xrb = responseEncoded(Xrb,'Credit_Product')\n",
        "Xrb = responseEncoded(Xrb,'Region_Code')\n",
        "Xrb = responseEncoded(Xrb,'Channel_Code')\n",
        "Xrb = responseEncoded(Xrb,'Occupation')\n",
        "Xrb = responseEncoded(Xrb,'Is_Active')"
      ],
      "execution_count": 112,
      "outputs": [
        {
          "output_type": "stream",
          "text": [
            "{'Female': 0.4315956828160929, 'Male': 0.5684043171839072}\n",
            "{'No': 0.44689415643656266, 'Yes': 0.326493701883833, 'Unknown': 0.22661214167960433}\n",
            "{'RG268': 0.15965364362425774, 'RG277': 0.05123321436002497, 'RG270': 0.027491903946392653, 'RG282': 0.0220847538106137, 'RG261': 0.027929384273115768, 'RG265': 0.00645550238213373, 'RG283': 0.13074793130491846, 'RG254': 0.10552879100711172, 'RG269': 0.03127450823476688, 'RG257': 0.023597262013369827, 'RG279': 0.016144091081269973, 'RG280': 0.052020145435533, 'RG252': 0.014858325730778875, 'RG284': 0.08500989665861063, 'RG259': 0.009803293906752669, 'RG281': 0.02030548931107519, 'RG258': 0.007589216643458869, 'RG266': 0.005508517528556261, 'RG260': 0.011793295880749266, 'RG274': 0.01946253941324285, 'RG256': 0.010070050203535054, 'RG275': 0.01186532008088051, 'RG273': 0.018310152211142943, 'RG267': 0.0052364261058382286, 'RG272': 0.02092969904554597, 'RG251': 0.02423480956267973, 'RG262': 0.006698250612205701, 'RG264': 0.009744607521460544, 'RG278': 0.0072664415243521826, 'RG276': 0.011924006466172634, 'RG263': 0.014338150952053224, 'RG250': 0.009067046527633285, 'RG255': 0.008234766881672241, 'RG253': 0.007877313443983845, 'RG271': 0.0057112523141108745}\n",
            "{'X3': 0.332263640583236, 'X1': 0.3324690429317584, 'X2': 0.3120275079093242, 'X4': 0.02323980857568143}\n",
            "{'Other': 0.2888543884078384, 'Salaried': 0.26023410532605623, 'Self_Employed': 0.43349232008621563, 'Entrepreneur': 0.017419186179889776}\n",
            "{'No': 0.5856501117708883, 'Yes': 0.4143498882291117}\n"
          ],
          "name": "stdout"
        }
      ]
    },
    {
      "cell_type": "code",
      "metadata": {
        "colab": {
          "base_uri": "https://localhost:8080/",
          "height": 198
        },
        "id": "O9et5mXgKWOG",
        "outputId": "24b001b1-56f3-4d59-a64e-6d4b9e1963c1"
      },
      "source": [
        "yrb = Xrb['Is_Lead']\n",
        "Xrb = Xrb.drop(['Is_Lead'],axis = 1)\n",
        "\n",
        "Xrb.drop(['ID'],inplace=True,axis=1)\n",
        "Xrb.head()"
      ],
      "execution_count": 114,
      "outputs": [
        {
          "output_type": "execute_result",
          "data": {
            "text/html": [
              "<div>\n",
              "<style scoped>\n",
              "    .dataframe tbody tr th:only-of-type {\n",
              "        vertical-align: middle;\n",
              "    }\n",
              "\n",
              "    .dataframe tbody tr th {\n",
              "        vertical-align: top;\n",
              "    }\n",
              "\n",
              "    .dataframe thead th {\n",
              "        text-align: right;\n",
              "    }\n",
              "</style>\n",
              "<table border=\"1\" class=\"dataframe\">\n",
              "  <thead>\n",
              "    <tr style=\"text-align: right;\">\n",
              "      <th></th>\n",
              "      <th>Gender</th>\n",
              "      <th>Age</th>\n",
              "      <th>Region_Code</th>\n",
              "      <th>Occupation</th>\n",
              "      <th>Channel_Code</th>\n",
              "      <th>Vintage</th>\n",
              "      <th>Credit_Product</th>\n",
              "      <th>Avg_Account_Balance</th>\n",
              "      <th>Is_Active</th>\n",
              "    </tr>\n",
              "  </thead>\n",
              "  <tbody>\n",
              "    <tr>\n",
              "      <th>0</th>\n",
              "      <td>0.431596</td>\n",
              "      <td>73</td>\n",
              "      <td>0.159654</td>\n",
              "      <td>0.288854</td>\n",
              "      <td>0.332264</td>\n",
              "      <td>43</td>\n",
              "      <td>0.446894</td>\n",
              "      <td>1045696</td>\n",
              "      <td>0.58565</td>\n",
              "    </tr>\n",
              "    <tr>\n",
              "      <th>1</th>\n",
              "      <td>0.431596</td>\n",
              "      <td>30</td>\n",
              "      <td>0.051233</td>\n",
              "      <td>0.260234</td>\n",
              "      <td>0.332469</td>\n",
              "      <td>32</td>\n",
              "      <td>0.446894</td>\n",
              "      <td>581988</td>\n",
              "      <td>0.58565</td>\n",
              "    </tr>\n",
              "    <tr>\n",
              "      <th>2</th>\n",
              "      <td>0.431596</td>\n",
              "      <td>56</td>\n",
              "      <td>0.159654</td>\n",
              "      <td>0.433492</td>\n",
              "      <td>0.332264</td>\n",
              "      <td>26</td>\n",
              "      <td>0.446894</td>\n",
              "      <td>1484315</td>\n",
              "      <td>0.41435</td>\n",
              "    </tr>\n",
              "    <tr>\n",
              "      <th>3</th>\n",
              "      <td>0.568404</td>\n",
              "      <td>34</td>\n",
              "      <td>0.027492</td>\n",
              "      <td>0.260234</td>\n",
              "      <td>0.332469</td>\n",
              "      <td>19</td>\n",
              "      <td>0.446894</td>\n",
              "      <td>470454</td>\n",
              "      <td>0.58565</td>\n",
              "    </tr>\n",
              "    <tr>\n",
              "      <th>4</th>\n",
              "      <td>0.431596</td>\n",
              "      <td>30</td>\n",
              "      <td>0.022085</td>\n",
              "      <td>0.260234</td>\n",
              "      <td>0.332469</td>\n",
              "      <td>33</td>\n",
              "      <td>0.446894</td>\n",
              "      <td>886787</td>\n",
              "      <td>0.58565</td>\n",
              "    </tr>\n",
              "  </tbody>\n",
              "</table>\n",
              "</div>"
            ],
            "text/plain": [
              "     Gender  Age  Region_Code  ...  Credit_Product  Avg_Account_Balance  Is_Active\n",
              "0  0.431596   73     0.159654  ...        0.446894              1045696    0.58565\n",
              "1  0.431596   30     0.051233  ...        0.446894               581988    0.58565\n",
              "2  0.431596   56     0.159654  ...        0.446894              1484315    0.41435\n",
              "3  0.568404   34     0.027492  ...        0.446894               470454    0.58565\n",
              "4  0.431596   30     0.022085  ...        0.446894               886787    0.58565\n",
              "\n",
              "[5 rows x 9 columns]"
            ]
          },
          "metadata": {
            "tags": []
          },
          "execution_count": 114
        }
      ]
    },
    {
      "cell_type": "markdown",
      "metadata": {
        "id": "2xDImbVcbDBP"
      },
      "source": [
        "# Training"
      ]
    },
    {
      "cell_type": "code",
      "metadata": {
        "id": "gSI06vh49rZV"
      },
      "source": [
        "Xd_train, Xd_test, yd_train, yd_test = train_test_split(Xd, yd, test_size=0.20, random_state=41)"
      ],
      "execution_count": 51,
      "outputs": []
    },
    {
      "cell_type": "code",
      "metadata": {
        "id": "cPyhQiUpfZyN"
      },
      "source": [
        "Xr_train, Xr_test, yr_train, yr_test = train_test_split(Xr, yr, test_size=0.20, random_state=41)"
      ],
      "execution_count": 52,
      "outputs": []
    },
    {
      "cell_type": "code",
      "metadata": {
        "id": "53HYwNCyKGUF"
      },
      "source": [
        "Xrb_train, Xrb_test, yrb_train, yrb_test = train_test_split(Xrb, yrb, test_size=0.20, random_state=41)"
      ],
      "execution_count": 116,
      "outputs": []
    },
    {
      "cell_type": "code",
      "metadata": {
        "id": "zc254Z4z08Lx"
      },
      "source": [
        "Xdb_train, Xdb_test, ydb_train, ydb_test = train_test_split(Xdb, ydb, test_size=0.20, random_state=41)"
      ],
      "execution_count": 182,
      "outputs": []
    },
    {
      "cell_type": "code",
      "metadata": {
        "id": "vmmFVIOK-Gdk"
      },
      "source": [
        "def score(tr,pr):\n",
        "  print('Accuracy      - ',accuracy_score(tr,pr))\n",
        "  print('roc_auc_score - ',roc_auc_score(tr,pr))"
      ],
      "execution_count": 53,
      "outputs": []
    },
    {
      "cell_type": "code",
      "metadata": {
        "id": "SY7VYJEi3b-t"
      },
      "source": [
        "def draw_roc( actual, probs ):\n",
        "    fpr, tpr, thresholds = roc_curve( actual, probs,\n",
        "                                              drop_intermediate = False )\n",
        "    auc_score = roc_auc_score( actual, probs )\n",
        "    plt.figure(figsize=(5, 5))\n",
        "    plt.plot( fpr, tpr, label='ROC curve (area = %0.2f)' % auc_score )\n",
        "    plt.plot([0, 1], [0, 1], 'k--')\n",
        "    plt.xlim([0.0, 1.0])\n",
        "    plt.ylim([0.0, 1.05])\n",
        "    plt.xlabel('False Positive Rate or [1 - True Negative Rate]')\n",
        "    plt.ylabel('True Positive Rate')\n",
        "    plt.title('Receiver operating characteristic example')\n",
        "    plt.legend(loc=\"lower right\")\n",
        "    plt.show()\n",
        "\n",
        "    return None\n"
      ],
      "execution_count": 93,
      "outputs": []
    },
    {
      "cell_type": "code",
      "metadata": {
        "id": "qTNmB-m1-A-N"
      },
      "source": [
        "# demo = DecisionTreeClassifier()\n",
        "# demo.fit(Xd_train,yd_train)"
      ],
      "execution_count": 54,
      "outputs": []
    },
    {
      "cell_type": "code",
      "metadata": {
        "id": "L6xh4szx_jbg"
      },
      "source": [
        "# score(yd_test,demo.predict(Xd_test))\n",
        "# score(yd_train,demo.predict(Xd_train))"
      ],
      "execution_count": 55,
      "outputs": []
    },
    {
      "cell_type": "code",
      "metadata": {
        "id": "u-m_wAgOKQyX"
      },
      "source": [
        "# demo2 = RandomForestClassifier()\n",
        "# demo2.fit(Xd_train,yd_train)"
      ],
      "execution_count": 56,
      "outputs": []
    },
    {
      "cell_type": "code",
      "metadata": {
        "id": "OYjhKsYfKVLj"
      },
      "source": [
        "# score(yd_test,demo2.predict(Xd_test))\n",
        "# score(yd_train,demo2.predict(Xd_train))"
      ],
      "execution_count": 57,
      "outputs": []
    },
    {
      "cell_type": "code",
      "metadata": {
        "id": "utgFHPACEHAw"
      },
      "source": [
        "# param_grid = {'class_weight':[{0: 3.2, 1: 5}],\n",
        "#               'min_samples_split':[20,30],\n",
        "#               'n_estimators':[300,500]\n",
        "#               }\n",
        "\n",
        "# model = RandomForestClassifier()\n",
        "# GridModel = GridSearchCV(model, param_grid=param_grid, scoring='roc_auc', cv=3, verbose=4)"
      ],
      "execution_count": 58,
      "outputs": []
    },
    {
      "cell_type": "code",
      "metadata": {
        "id": "z0wPj-JTDFc9"
      },
      "source": [
        "# GridModel.fit(Xr_train,yr_train)"
      ],
      "execution_count": 59,
      "outputs": []
    },
    {
      "cell_type": "code",
      "metadata": {
        "id": "OfMB00nBERtE"
      },
      "source": [
        "# GridModel.best_params_"
      ],
      "execution_count": 60,
      "outputs": []
    },
    {
      "cell_type": "code",
      "metadata": {
        "colab": {
          "base_uri": "https://localhost:8080/",
          "height": 0
        },
        "id": "pCvUssobQRAQ",
        "outputId": "66b1824b-3ed7-4cf2-91e4-b38c42d89c38"
      },
      "source": [
        "RF = RandomForestClassifier(class_weight={0: 3.2, 1: 5},min_samples_split=50,n_estimators=1000)\n",
        "RF.fit(Xd_train,yd_train)\n",
        "score(yd_test,RF.predict(Xd_test))\n",
        "score(yd_train,RF.predict(Xd_train))"
      ],
      "execution_count": 72,
      "outputs": [
        {
          "output_type": "stream",
          "text": [
            "Accuracy      -  0.8579306134906908\n",
            "roc_auc_score -  0.7762726759651517\n",
            "Accuracy      -  0.8821294129616442\n",
            "roc_auc_score -  0.8126673907461004\n"
          ],
          "name": "stdout"
        }
      ]
    },
    {
      "cell_type": "code",
      "metadata": {
        "colab": {
          "base_uri": "https://localhost:8080/",
          "height": 0
        },
        "id": "PtFIAI46vgp_",
        "outputId": "c7206b09-5e05-40fa-9b9f-56aea9dd0fdd"
      },
      "source": [
        "RF2 = RandomForestClassifier(class_weight={0: 3.2, 1: 5},min_samples_split=50,n_estimators=1000)\n",
        "RF2.fit(Xr_train,yr_train)\n",
        "score(yr_test,RF2.predict(Xr_test))\n",
        "score(yr_train,RF2.predict(Xr_train))"
      ],
      "execution_count": 75,
      "outputs": [
        {
          "output_type": "stream",
          "text": [
            "Accuracy      -  0.8563434733950555\n",
            "roc_auc_score -  0.7822624528334359\n",
            "Accuracy      -  0.8779479092481433\n",
            "roc_auc_score -  0.8134722838785052\n"
          ],
          "name": "stdout"
        }
      ]
    },
    {
      "cell_type": "code",
      "metadata": {
        "id": "0pE3QRbhIf9K"
      },
      "source": [
        "param_grid = {'learning_rate':[0.05,0.2],\n",
        "              'min_samples_split':[20,30],\n",
        "              'n_estimators':[300,500,1000],\n",
        "              'subsample':[0.6,1],\n",
        "              'min_samples_split':[4,8],\n",
        "              'warm_start':[True]\n",
        "              }\n",
        "\n",
        "model = GradientBoostingClassifier()\n",
        "GridModel = GridSearchCV(model, param_grid=param_grid, scoring='roc_auc', cv=3, verbose=4)"
      ],
      "execution_count": 66,
      "outputs": []
    },
    {
      "cell_type": "code",
      "metadata": {
        "colab": {
          "base_uri": "https://localhost:8080/",
          "height": 0
        },
        "id": "dnYjrnd5MEFl",
        "outputId": "0aeb1a9d-e445-4614-be1d-d23f7c27fd9f"
      },
      "source": [
        "GridModel.fit(Xr_train,yr_train)"
      ],
      "execution_count": 67,
      "outputs": [
        {
          "output_type": "stream",
          "text": [
            "Fitting 3 folds for each of 24 candidates, totalling 72 fits\n",
            "[CV] learning_rate=0.05, min_samples_split=4, n_estimators=300, subsample=0.6, warm_start=True \n"
          ],
          "name": "stdout"
        },
        {
          "output_type": "stream",
          "text": [
            "[Parallel(n_jobs=1)]: Using backend SequentialBackend with 1 concurrent workers.\n"
          ],
          "name": "stderr"
        },
        {
          "output_type": "stream",
          "text": [
            "[CV]  learning_rate=0.05, min_samples_split=4, n_estimators=300, subsample=0.6, warm_start=True, score=0.875, total=  38.1s\n",
            "[CV] learning_rate=0.05, min_samples_split=4, n_estimators=300, subsample=0.6, warm_start=True \n"
          ],
          "name": "stdout"
        },
        {
          "output_type": "stream",
          "text": [
            "[Parallel(n_jobs=1)]: Done   1 out of   1 | elapsed:   38.1s remaining:    0.0s\n"
          ],
          "name": "stderr"
        },
        {
          "output_type": "stream",
          "text": [
            "[CV]  learning_rate=0.05, min_samples_split=4, n_estimators=300, subsample=0.6, warm_start=True, score=0.873, total=  38.2s\n",
            "[CV] learning_rate=0.05, min_samples_split=4, n_estimators=300, subsample=0.6, warm_start=True \n"
          ],
          "name": "stdout"
        },
        {
          "output_type": "stream",
          "text": [
            "[Parallel(n_jobs=1)]: Done   2 out of   2 | elapsed:  1.3min remaining:    0.0s\n"
          ],
          "name": "stderr"
        },
        {
          "output_type": "stream",
          "text": [
            "[CV]  learning_rate=0.05, min_samples_split=4, n_estimators=300, subsample=0.6, warm_start=True, score=0.871, total=  38.2s\n",
            "[CV] learning_rate=0.05, min_samples_split=4, n_estimators=300, subsample=1, warm_start=True \n"
          ],
          "name": "stdout"
        },
        {
          "output_type": "stream",
          "text": [
            "[Parallel(n_jobs=1)]: Done   3 out of   3 | elapsed:  1.9min remaining:    0.0s\n"
          ],
          "name": "stderr"
        },
        {
          "output_type": "stream",
          "text": [
            "[CV]  learning_rate=0.05, min_samples_split=4, n_estimators=300, subsample=1, warm_start=True, score=0.875, total=  50.4s\n",
            "[CV] learning_rate=0.05, min_samples_split=4, n_estimators=300, subsample=1, warm_start=True \n",
            "[CV]  learning_rate=0.05, min_samples_split=4, n_estimators=300, subsample=1, warm_start=True, score=0.873, total=  50.7s\n",
            "[CV] learning_rate=0.05, min_samples_split=4, n_estimators=300, subsample=1, warm_start=True \n",
            "[CV]  learning_rate=0.05, min_samples_split=4, n_estimators=300, subsample=1, warm_start=True, score=0.871, total=  50.7s\n",
            "[CV] learning_rate=0.05, min_samples_split=4, n_estimators=500, subsample=0.6, warm_start=True \n",
            "[CV]  learning_rate=0.05, min_samples_split=4, n_estimators=500, subsample=0.6, warm_start=True, score=0.875, total= 1.0min\n",
            "[CV] learning_rate=0.05, min_samples_split=4, n_estimators=500, subsample=0.6, warm_start=True \n",
            "[CV]  learning_rate=0.05, min_samples_split=4, n_estimators=500, subsample=0.6, warm_start=True, score=0.873, total= 1.0min\n",
            "[CV] learning_rate=0.05, min_samples_split=4, n_estimators=500, subsample=0.6, warm_start=True \n",
            "[CV]  learning_rate=0.05, min_samples_split=4, n_estimators=500, subsample=0.6, warm_start=True, score=0.871, total= 1.1min\n",
            "[CV] learning_rate=0.05, min_samples_split=4, n_estimators=500, subsample=1, warm_start=True \n",
            "[CV]  learning_rate=0.05, min_samples_split=4, n_estimators=500, subsample=1, warm_start=True, score=0.875, total= 1.4min\n",
            "[CV] learning_rate=0.05, min_samples_split=4, n_estimators=500, subsample=1, warm_start=True \n",
            "[CV]  learning_rate=0.05, min_samples_split=4, n_estimators=500, subsample=1, warm_start=True, score=0.873, total= 1.4min\n",
            "[CV] learning_rate=0.05, min_samples_split=4, n_estimators=500, subsample=1, warm_start=True \n",
            "[CV]  learning_rate=0.05, min_samples_split=4, n_estimators=500, subsample=1, warm_start=True, score=0.871, total= 1.4min\n",
            "[CV] learning_rate=0.05, min_samples_split=4, n_estimators=1000, subsample=0.6, warm_start=True \n",
            "[CV]  learning_rate=0.05, min_samples_split=4, n_estimators=1000, subsample=0.6, warm_start=True, score=0.875, total= 2.1min\n",
            "[CV] learning_rate=0.05, min_samples_split=4, n_estimators=1000, subsample=0.6, warm_start=True \n",
            "[CV]  learning_rate=0.05, min_samples_split=4, n_estimators=1000, subsample=0.6, warm_start=True, score=0.873, total= 2.1min\n",
            "[CV] learning_rate=0.05, min_samples_split=4, n_estimators=1000, subsample=0.6, warm_start=True \n",
            "[CV]  learning_rate=0.05, min_samples_split=4, n_estimators=1000, subsample=0.6, warm_start=True, score=0.871, total= 2.1min\n",
            "[CV] learning_rate=0.05, min_samples_split=4, n_estimators=1000, subsample=1, warm_start=True \n",
            "[CV]  learning_rate=0.05, min_samples_split=4, n_estimators=1000, subsample=1, warm_start=True, score=0.875, total= 2.8min\n",
            "[CV] learning_rate=0.05, min_samples_split=4, n_estimators=1000, subsample=1, warm_start=True \n",
            "[CV]  learning_rate=0.05, min_samples_split=4, n_estimators=1000, subsample=1, warm_start=True, score=0.873, total= 2.8min\n",
            "[CV] learning_rate=0.05, min_samples_split=4, n_estimators=1000, subsample=1, warm_start=True \n",
            "[CV]  learning_rate=0.05, min_samples_split=4, n_estimators=1000, subsample=1, warm_start=True, score=0.871, total= 2.8min\n",
            "[CV] learning_rate=0.05, min_samples_split=8, n_estimators=300, subsample=0.6, warm_start=True \n",
            "[CV]  learning_rate=0.05, min_samples_split=8, n_estimators=300, subsample=0.6, warm_start=True, score=0.875, total=  37.7s\n",
            "[CV] learning_rate=0.05, min_samples_split=8, n_estimators=300, subsample=0.6, warm_start=True \n",
            "[CV]  learning_rate=0.05, min_samples_split=8, n_estimators=300, subsample=0.6, warm_start=True, score=0.873, total=  38.1s\n",
            "[CV] learning_rate=0.05, min_samples_split=8, n_estimators=300, subsample=0.6, warm_start=True \n",
            "[CV]  learning_rate=0.05, min_samples_split=8, n_estimators=300, subsample=0.6, warm_start=True, score=0.871, total=  37.9s\n",
            "[CV] learning_rate=0.05, min_samples_split=8, n_estimators=300, subsample=1, warm_start=True \n",
            "[CV]  learning_rate=0.05, min_samples_split=8, n_estimators=300, subsample=1, warm_start=True, score=0.875, total=  50.6s\n",
            "[CV] learning_rate=0.05, min_samples_split=8, n_estimators=300, subsample=1, warm_start=True \n",
            "[CV]  learning_rate=0.05, min_samples_split=8, n_estimators=300, subsample=1, warm_start=True, score=0.873, total=  50.4s\n",
            "[CV] learning_rate=0.05, min_samples_split=8, n_estimators=300, subsample=1, warm_start=True \n",
            "[CV]  learning_rate=0.05, min_samples_split=8, n_estimators=300, subsample=1, warm_start=True, score=0.871, total=  50.4s\n",
            "[CV] learning_rate=0.05, min_samples_split=8, n_estimators=500, subsample=0.6, warm_start=True \n",
            "[CV]  learning_rate=0.05, min_samples_split=8, n_estimators=500, subsample=0.6, warm_start=True, score=0.875, total= 1.0min\n",
            "[CV] learning_rate=0.05, min_samples_split=8, n_estimators=500, subsample=0.6, warm_start=True \n",
            "[CV]  learning_rate=0.05, min_samples_split=8, n_estimators=500, subsample=0.6, warm_start=True, score=0.873, total= 1.0min\n",
            "[CV] learning_rate=0.05, min_samples_split=8, n_estimators=500, subsample=0.6, warm_start=True \n",
            "[CV]  learning_rate=0.05, min_samples_split=8, n_estimators=500, subsample=0.6, warm_start=True, score=0.871, total= 1.0min\n",
            "[CV] learning_rate=0.05, min_samples_split=8, n_estimators=500, subsample=1, warm_start=True \n",
            "[CV]  learning_rate=0.05, min_samples_split=8, n_estimators=500, subsample=1, warm_start=True, score=0.875, total= 1.4min\n",
            "[CV] learning_rate=0.05, min_samples_split=8, n_estimators=500, subsample=1, warm_start=True \n",
            "[CV]  learning_rate=0.05, min_samples_split=8, n_estimators=500, subsample=1, warm_start=True, score=0.873, total= 1.4min\n",
            "[CV] learning_rate=0.05, min_samples_split=8, n_estimators=500, subsample=1, warm_start=True \n",
            "[CV]  learning_rate=0.05, min_samples_split=8, n_estimators=500, subsample=1, warm_start=True, score=0.871, total= 1.4min\n",
            "[CV] learning_rate=0.05, min_samples_split=8, n_estimators=1000, subsample=0.6, warm_start=True \n",
            "[CV]  learning_rate=0.05, min_samples_split=8, n_estimators=1000, subsample=0.6, warm_start=True, score=0.875, total= 2.1min\n",
            "[CV] learning_rate=0.05, min_samples_split=8, n_estimators=1000, subsample=0.6, warm_start=True \n",
            "[CV]  learning_rate=0.05, min_samples_split=8, n_estimators=1000, subsample=0.6, warm_start=True, score=0.873, total= 2.1min\n",
            "[CV] learning_rate=0.05, min_samples_split=8, n_estimators=1000, subsample=0.6, warm_start=True \n",
            "[CV]  learning_rate=0.05, min_samples_split=8, n_estimators=1000, subsample=0.6, warm_start=True, score=0.871, total= 2.1min\n",
            "[CV] learning_rate=0.05, min_samples_split=8, n_estimators=1000, subsample=1, warm_start=True \n",
            "[CV]  learning_rate=0.05, min_samples_split=8, n_estimators=1000, subsample=1, warm_start=True, score=0.875, total= 2.8min\n",
            "[CV] learning_rate=0.05, min_samples_split=8, n_estimators=1000, subsample=1, warm_start=True \n",
            "[CV]  learning_rate=0.05, min_samples_split=8, n_estimators=1000, subsample=1, warm_start=True, score=0.873, total= 2.8min\n",
            "[CV] learning_rate=0.05, min_samples_split=8, n_estimators=1000, subsample=1, warm_start=True \n",
            "[CV]  learning_rate=0.05, min_samples_split=8, n_estimators=1000, subsample=1, warm_start=True, score=0.871, total= 2.8min\n",
            "[CV] learning_rate=0.2, min_samples_split=4, n_estimators=300, subsample=0.6, warm_start=True \n",
            "[CV]  learning_rate=0.2, min_samples_split=4, n_estimators=300, subsample=0.6, warm_start=True, score=0.874, total=  37.3s\n",
            "[CV] learning_rate=0.2, min_samples_split=4, n_estimators=300, subsample=0.6, warm_start=True \n",
            "[CV]  learning_rate=0.2, min_samples_split=4, n_estimators=300, subsample=0.6, warm_start=True, score=0.872, total=  37.2s\n",
            "[CV] learning_rate=0.2, min_samples_split=4, n_estimators=300, subsample=0.6, warm_start=True \n",
            "[CV]  learning_rate=0.2, min_samples_split=4, n_estimators=300, subsample=0.6, warm_start=True, score=0.870, total=  37.5s\n",
            "[CV] learning_rate=0.2, min_samples_split=4, n_estimators=300, subsample=1, warm_start=True \n",
            "[CV]  learning_rate=0.2, min_samples_split=4, n_estimators=300, subsample=1, warm_start=True, score=0.875, total=  50.4s\n",
            "[CV] learning_rate=0.2, min_samples_split=4, n_estimators=300, subsample=1, warm_start=True \n",
            "[CV]  learning_rate=0.2, min_samples_split=4, n_estimators=300, subsample=1, warm_start=True, score=0.873, total=  50.6s\n",
            "[CV] learning_rate=0.2, min_samples_split=4, n_estimators=300, subsample=1, warm_start=True \n",
            "[CV]  learning_rate=0.2, min_samples_split=4, n_estimators=300, subsample=1, warm_start=True, score=0.871, total=  50.3s\n",
            "[CV] learning_rate=0.2, min_samples_split=4, n_estimators=500, subsample=0.6, warm_start=True \n",
            "[CV]  learning_rate=0.2, min_samples_split=4, n_estimators=500, subsample=0.6, warm_start=True, score=0.873, total= 1.0min\n",
            "[CV] learning_rate=0.2, min_samples_split=4, n_estimators=500, subsample=0.6, warm_start=True \n",
            "[CV]  learning_rate=0.2, min_samples_split=4, n_estimators=500, subsample=0.6, warm_start=True, score=0.871, total= 1.0min\n",
            "[CV] learning_rate=0.2, min_samples_split=4, n_estimators=500, subsample=0.6, warm_start=True \n",
            "[CV]  learning_rate=0.2, min_samples_split=4, n_estimators=500, subsample=0.6, warm_start=True, score=0.870, total= 1.1min\n",
            "[CV] learning_rate=0.2, min_samples_split=4, n_estimators=500, subsample=1, warm_start=True \n",
            "[CV]  learning_rate=0.2, min_samples_split=4, n_estimators=500, subsample=1, warm_start=True, score=0.874, total= 1.4min\n",
            "[CV] learning_rate=0.2, min_samples_split=4, n_estimators=500, subsample=1, warm_start=True \n",
            "[CV]  learning_rate=0.2, min_samples_split=4, n_estimators=500, subsample=1, warm_start=True, score=0.873, total= 1.4min\n",
            "[CV] learning_rate=0.2, min_samples_split=4, n_estimators=500, subsample=1, warm_start=True \n",
            "[CV]  learning_rate=0.2, min_samples_split=4, n_estimators=500, subsample=1, warm_start=True, score=0.870, total= 1.4min\n",
            "[CV] learning_rate=0.2, min_samples_split=4, n_estimators=1000, subsample=0.6, warm_start=True \n",
            "[CV]  learning_rate=0.2, min_samples_split=4, n_estimators=1000, subsample=0.6, warm_start=True, score=0.871, total= 2.1min\n",
            "[CV] learning_rate=0.2, min_samples_split=4, n_estimators=1000, subsample=0.6, warm_start=True \n",
            "[CV]  learning_rate=0.2, min_samples_split=4, n_estimators=1000, subsample=0.6, warm_start=True, score=0.870, total= 2.1min\n",
            "[CV] learning_rate=0.2, min_samples_split=4, n_estimators=1000, subsample=0.6, warm_start=True \n",
            "[CV]  learning_rate=0.2, min_samples_split=4, n_estimators=1000, subsample=0.6, warm_start=True, score=0.868, total= 2.1min\n",
            "[CV] learning_rate=0.2, min_samples_split=4, n_estimators=1000, subsample=1, warm_start=True \n",
            "[CV]  learning_rate=0.2, min_samples_split=4, n_estimators=1000, subsample=1, warm_start=True, score=0.872, total= 2.8min\n",
            "[CV] learning_rate=0.2, min_samples_split=4, n_estimators=1000, subsample=1, warm_start=True \n",
            "[CV]  learning_rate=0.2, min_samples_split=4, n_estimators=1000, subsample=1, warm_start=True, score=0.871, total= 2.7min\n",
            "[CV] learning_rate=0.2, min_samples_split=4, n_estimators=1000, subsample=1, warm_start=True \n",
            "[CV]  learning_rate=0.2, min_samples_split=4, n_estimators=1000, subsample=1, warm_start=True, score=0.868, total= 2.8min\n",
            "[CV] learning_rate=0.2, min_samples_split=8, n_estimators=300, subsample=0.6, warm_start=True \n",
            "[CV]  learning_rate=0.2, min_samples_split=8, n_estimators=300, subsample=0.6, warm_start=True, score=0.874, total=  37.5s\n",
            "[CV] learning_rate=0.2, min_samples_split=8, n_estimators=300, subsample=0.6, warm_start=True \n",
            "[CV]  learning_rate=0.2, min_samples_split=8, n_estimators=300, subsample=0.6, warm_start=True, score=0.873, total=  37.3s\n",
            "[CV] learning_rate=0.2, min_samples_split=8, n_estimators=300, subsample=0.6, warm_start=True \n",
            "[CV]  learning_rate=0.2, min_samples_split=8, n_estimators=300, subsample=0.6, warm_start=True, score=0.870, total=  37.2s\n",
            "[CV] learning_rate=0.2, min_samples_split=8, n_estimators=300, subsample=1, warm_start=True \n",
            "[CV]  learning_rate=0.2, min_samples_split=8, n_estimators=300, subsample=1, warm_start=True, score=0.875, total=  49.9s\n",
            "[CV] learning_rate=0.2, min_samples_split=8, n_estimators=300, subsample=1, warm_start=True \n",
            "[CV]  learning_rate=0.2, min_samples_split=8, n_estimators=300, subsample=1, warm_start=True, score=0.873, total=  49.9s\n",
            "[CV] learning_rate=0.2, min_samples_split=8, n_estimators=300, subsample=1, warm_start=True \n",
            "[CV]  learning_rate=0.2, min_samples_split=8, n_estimators=300, subsample=1, warm_start=True, score=0.871, total=  50.1s\n",
            "[CV] learning_rate=0.2, min_samples_split=8, n_estimators=500, subsample=0.6, warm_start=True \n",
            "[CV]  learning_rate=0.2, min_samples_split=8, n_estimators=500, subsample=0.6, warm_start=True, score=0.873, total= 1.0min\n",
            "[CV] learning_rate=0.2, min_samples_split=8, n_estimators=500, subsample=0.6, warm_start=True \n",
            "[CV]  learning_rate=0.2, min_samples_split=8, n_estimators=500, subsample=0.6, warm_start=True, score=0.872, total= 1.0min\n",
            "[CV] learning_rate=0.2, min_samples_split=8, n_estimators=500, subsample=0.6, warm_start=True \n",
            "[CV]  learning_rate=0.2, min_samples_split=8, n_estimators=500, subsample=0.6, warm_start=True, score=0.870, total= 1.0min\n",
            "[CV] learning_rate=0.2, min_samples_split=8, n_estimators=500, subsample=1, warm_start=True \n",
            "[CV]  learning_rate=0.2, min_samples_split=8, n_estimators=500, subsample=1, warm_start=True, score=0.874, total= 1.4min\n",
            "[CV] learning_rate=0.2, min_samples_split=8, n_estimators=500, subsample=1, warm_start=True \n",
            "[CV]  learning_rate=0.2, min_samples_split=8, n_estimators=500, subsample=1, warm_start=True, score=0.873, total= 1.4min\n",
            "[CV] learning_rate=0.2, min_samples_split=8, n_estimators=500, subsample=1, warm_start=True \n",
            "[CV]  learning_rate=0.2, min_samples_split=8, n_estimators=500, subsample=1, warm_start=True, score=0.870, total= 1.4min\n",
            "[CV] learning_rate=0.2, min_samples_split=8, n_estimators=1000, subsample=0.6, warm_start=True \n",
            "[CV]  learning_rate=0.2, min_samples_split=8, n_estimators=1000, subsample=0.6, warm_start=True, score=0.871, total= 2.1min\n",
            "[CV] learning_rate=0.2, min_samples_split=8, n_estimators=1000, subsample=0.6, warm_start=True \n",
            "[CV]  learning_rate=0.2, min_samples_split=8, n_estimators=1000, subsample=0.6, warm_start=True, score=0.870, total= 2.1min\n",
            "[CV] learning_rate=0.2, min_samples_split=8, n_estimators=1000, subsample=0.6, warm_start=True \n",
            "[CV]  learning_rate=0.2, min_samples_split=8, n_estimators=1000, subsample=0.6, warm_start=True, score=0.867, total= 2.1min\n",
            "[CV] learning_rate=0.2, min_samples_split=8, n_estimators=1000, subsample=1, warm_start=True \n",
            "[CV]  learning_rate=0.2, min_samples_split=8, n_estimators=1000, subsample=1, warm_start=True, score=0.872, total= 2.8min\n",
            "[CV] learning_rate=0.2, min_samples_split=8, n_estimators=1000, subsample=1, warm_start=True \n",
            "[CV]  learning_rate=0.2, min_samples_split=8, n_estimators=1000, subsample=1, warm_start=True, score=0.871, total= 2.8min\n",
            "[CV] learning_rate=0.2, min_samples_split=8, n_estimators=1000, subsample=1, warm_start=True \n",
            "[CV]  learning_rate=0.2, min_samples_split=8, n_estimators=1000, subsample=1, warm_start=True, score=0.868, total= 2.8min\n"
          ],
          "name": "stdout"
        },
        {
          "output_type": "stream",
          "text": [
            "[Parallel(n_jobs=1)]: Done  72 out of  72 | elapsed: 105.4min finished\n"
          ],
          "name": "stderr"
        },
        {
          "output_type": "execute_result",
          "data": {
            "text/plain": [
              "GridSearchCV(cv=3, error_score=nan,\n",
              "             estimator=GradientBoostingClassifier(ccp_alpha=0.0,\n",
              "                                                  criterion='friedman_mse',\n",
              "                                                  init=None, learning_rate=0.1,\n",
              "                                                  loss='deviance', max_depth=3,\n",
              "                                                  max_features=None,\n",
              "                                                  max_leaf_nodes=None,\n",
              "                                                  min_impurity_decrease=0.0,\n",
              "                                                  min_impurity_split=None,\n",
              "                                                  min_samples_leaf=1,\n",
              "                                                  min_samples_split=2,\n",
              "                                                  min_weight_fraction_leaf=0.0,\n",
              "                                                  n_estimators=100,\n",
              "                                                  n_iter_no_c...\n",
              "                                                  presort='deprecated',\n",
              "                                                  random_state=None,\n",
              "                                                  subsample=1.0, tol=0.0001,\n",
              "                                                  validation_fraction=0.1,\n",
              "                                                  verbose=0, warm_start=False),\n",
              "             iid='deprecated', n_jobs=None,\n",
              "             param_grid={'learning_rate': [0.05, 0.2],\n",
              "                         'min_samples_split': [4, 8],\n",
              "                         'n_estimators': [300, 500, 1000],\n",
              "                         'subsample': [0.6, 1], 'warm_start': [True]},\n",
              "             pre_dispatch='2*n_jobs', refit=True, return_train_score=False,\n",
              "             scoring='roc_auc', verbose=4)"
            ]
          },
          "metadata": {
            "tags": []
          },
          "execution_count": 67
        }
      ]
    },
    {
      "cell_type": "code",
      "metadata": {
        "colab": {
          "base_uri": "https://localhost:8080/",
          "height": 0
        },
        "id": "qgXEqh52lZ37",
        "outputId": "0177188e-cf04-4639-c610-a862ae149289"
      },
      "source": [
        "GridModel.best_params_"
      ],
      "execution_count": 68,
      "outputs": [
        {
          "output_type": "execute_result",
          "data": {
            "text/plain": [
              "{'learning_rate': 0.05,\n",
              " 'min_samples_split': 4,\n",
              " 'n_estimators': 500,\n",
              " 'subsample': 1,\n",
              " 'warm_start': True}"
            ]
          },
          "metadata": {
            "tags": []
          },
          "execution_count": 68
        }
      ]
    },
    {
      "cell_type": "code",
      "metadata": {
        "id": "2ENzR4-vQ9Gm",
        "colab": {
          "base_uri": "https://localhost:8080/",
          "height": 0
        },
        "outputId": "fa5f13ce-859b-459c-dfef-7f797478d042"
      },
      "source": [
        "GBDT = GradientBoostingClassifier(min_samples_split=4, learning_rate=0.05, n_estimators=1000)\n",
        "GBDT.fit(Xr_train,yr_train)\n",
        "score(yr_test,GBDT.predict(Xr_test))\n",
        "score(yr_train,GBDT.predict(Xr_train))"
      ],
      "execution_count": 71,
      "outputs": [
        {
          "output_type": "stream",
          "text": [
            "Accuracy      -  0.8610235018821853\n",
            "roc_auc_score -  0.7508975039496456\n",
            "Accuracy      -  0.8628141214772612\n",
            "roc_auc_score -  0.7546226681703615\n"
          ],
          "name": "stdout"
        }
      ]
    },
    {
      "cell_type": "code",
      "metadata": {
        "colab": {
          "base_uri": "https://localhost:8080/",
          "height": 0
        },
        "id": "UarVBe7NH5Bx",
        "outputId": "0fa813ee-5c3a-4b29-86e8-c55f123a29ad"
      },
      "source": [
        "XGB1 = xgb.XGBClassifier()\n",
        "XGB1.fit(Xd_train.to_numpy(), yd_train)\n",
        "score(yd_test,XGB1.predict(Xd_test.to_numpy()))\n",
        "score(yd_train,XGB1.predict(Xd_train.to_numpy()))"
      ],
      "execution_count": 98,
      "outputs": [
        {
          "output_type": "stream",
          "text": [
            "Accuracy      -  0.8605554990334724\n",
            "roc_auc_score -  0.7462430209520171\n",
            "Accuracy      -  0.8602757147217418\n",
            "roc_auc_score -  0.747361352391047\n"
          ],
          "name": "stdout"
        }
      ]
    },
    {
      "cell_type": "code",
      "metadata": {
        "colab": {
          "base_uri": "https://localhost:8080/",
          "height": 0
        },
        "id": "SwwpfC-24ggK",
        "outputId": "da9412e4-e308-4697-baf5-feacd18c6ff6"
      },
      "source": [
        "XGB2 = xgb.XGBClassifier()\n",
        "XGB2.fit(Xr_train.to_numpy(), yr_train)\n",
        "score(yr_test,XGB2.predict(Xr_test.to_numpy()))\n",
        "score(yr_train,XGB2.predict(Xr_train.to_numpy()))"
      ],
      "execution_count": 99,
      "outputs": [
        {
          "output_type": "stream",
          "text": [
            "Accuracy      -  0.8601281920846475\n",
            "roc_auc_score -  0.7451890164358117\n",
            "Accuracy      -  0.8598433207854309\n",
            "roc_auc_score -  0.7462076958268715\n"
          ],
          "name": "stdout"
        }
      ]
    },
    {
      "cell_type": "code",
      "metadata": {
        "id": "tkruXc1X7NOU"
      },
      "source": [
        "param_grid = {'eta':[0.05,0.1,0.2],\n",
        "              'n_estimators':[100,300,500],\n",
        "              'subsample':[0.6,1],\n",
        "              'max_depth':[4,8,12]\n",
        "              }\n",
        "\n",
        "model = xgb.XGBClassifier()\n",
        "GridModel = GridSearchCV(model, param_grid=param_grid, scoring='roc_auc', cv=3, verbose=4)"
      ],
      "execution_count": 105,
      "outputs": []
    },
    {
      "cell_type": "code",
      "metadata": {
        "colab": {
          "base_uri": "https://localhost:8080/",
          "height": 1000
        },
        "id": "Sr5YhogpDjd3",
        "outputId": "7f4a12ee-5cc4-4e36-ef66-7fd19894e655"
      },
      "source": [
        "GridModel.fit(Xrb_train,yrb_train)"
      ],
      "execution_count": 117,
      "outputs": [
        {
          "output_type": "stream",
          "text": [
            "Fitting 3 folds for each of 54 candidates, totalling 162 fits\n",
            "[CV] eta=0.05, max_depth=4, n_estimators=100, subsample=0.6 ..........\n"
          ],
          "name": "stdout"
        },
        {
          "output_type": "stream",
          "text": [
            "[Parallel(n_jobs=1)]: Using backend SequentialBackend with 1 concurrent workers.\n"
          ],
          "name": "stderr"
        },
        {
          "output_type": "stream",
          "text": [
            "[CV]  eta=0.05, max_depth=4, n_estimators=100, subsample=0.6, score=0.876, total=  16.5s\n",
            "[CV] eta=0.05, max_depth=4, n_estimators=100, subsample=0.6 ..........\n"
          ],
          "name": "stdout"
        },
        {
          "output_type": "stream",
          "text": [
            "[Parallel(n_jobs=1)]: Done   1 out of   1 | elapsed:   16.5s remaining:    0.0s\n"
          ],
          "name": "stderr"
        },
        {
          "output_type": "stream",
          "text": [
            "[CV]  eta=0.05, max_depth=4, n_estimators=100, subsample=0.6, score=0.877, total=  16.2s\n",
            "[CV] eta=0.05, max_depth=4, n_estimators=100, subsample=0.6 ..........\n"
          ],
          "name": "stdout"
        },
        {
          "output_type": "stream",
          "text": [
            "[Parallel(n_jobs=1)]: Done   2 out of   2 | elapsed:   32.7s remaining:    0.0s\n"
          ],
          "name": "stderr"
        },
        {
          "output_type": "stream",
          "text": [
            "[CV]  eta=0.05, max_depth=4, n_estimators=100, subsample=0.6, score=0.876, total=  16.3s\n",
            "[CV] eta=0.05, max_depth=4, n_estimators=100, subsample=1 ............\n"
          ],
          "name": "stdout"
        },
        {
          "output_type": "stream",
          "text": [
            "[Parallel(n_jobs=1)]: Done   3 out of   3 | elapsed:   49.0s remaining:    0.0s\n"
          ],
          "name": "stderr"
        },
        {
          "output_type": "stream",
          "text": [
            "[CV]  eta=0.05, max_depth=4, n_estimators=100, subsample=1, score=0.875, total=  14.0s\n",
            "[CV] eta=0.05, max_depth=4, n_estimators=100, subsample=1 ............\n",
            "[CV]  eta=0.05, max_depth=4, n_estimators=100, subsample=1, score=0.877, total=  13.7s\n",
            "[CV] eta=0.05, max_depth=4, n_estimators=100, subsample=1 ............\n",
            "[CV]  eta=0.05, max_depth=4, n_estimators=100, subsample=1, score=0.876, total=  13.9s\n",
            "[CV] eta=0.05, max_depth=4, n_estimators=300, subsample=0.6 ..........\n",
            "[CV]  eta=0.05, max_depth=4, n_estimators=300, subsample=0.6, score=0.879, total=  46.6s\n",
            "[CV] eta=0.05, max_depth=4, n_estimators=300, subsample=0.6 ..........\n",
            "[CV]  eta=0.05, max_depth=4, n_estimators=300, subsample=0.6, score=0.880, total=  46.8s\n",
            "[CV] eta=0.05, max_depth=4, n_estimators=300, subsample=0.6 ..........\n",
            "[CV]  eta=0.05, max_depth=4, n_estimators=300, subsample=0.6, score=0.880, total=  46.8s\n",
            "[CV] eta=0.05, max_depth=4, n_estimators=300, subsample=1 ............\n",
            "[CV]  eta=0.05, max_depth=4, n_estimators=300, subsample=1, score=0.878, total=  39.8s\n",
            "[CV] eta=0.05, max_depth=4, n_estimators=300, subsample=1 ............\n",
            "[CV]  eta=0.05, max_depth=4, n_estimators=300, subsample=1, score=0.880, total=  39.5s\n",
            "[CV] eta=0.05, max_depth=4, n_estimators=300, subsample=1 ............\n",
            "[CV]  eta=0.05, max_depth=4, n_estimators=300, subsample=1, score=0.879, total=  39.6s\n",
            "[CV] eta=0.05, max_depth=4, n_estimators=500, subsample=0.6 ..........\n",
            "[CV]  eta=0.05, max_depth=4, n_estimators=500, subsample=0.6, score=0.881, total= 1.3min\n",
            "[CV] eta=0.05, max_depth=4, n_estimators=500, subsample=0.6 ..........\n",
            "[CV]  eta=0.05, max_depth=4, n_estimators=500, subsample=0.6, score=0.883, total= 1.3min\n",
            "[CV] eta=0.05, max_depth=4, n_estimators=500, subsample=0.6 ..........\n",
            "[CV]  eta=0.05, max_depth=4, n_estimators=500, subsample=0.6, score=0.882, total= 1.3min\n",
            "[CV] eta=0.05, max_depth=4, n_estimators=500, subsample=1 ............\n",
            "[CV]  eta=0.05, max_depth=4, n_estimators=500, subsample=1, score=0.881, total= 1.1min\n",
            "[CV] eta=0.05, max_depth=4, n_estimators=500, subsample=1 ............\n",
            "[CV]  eta=0.05, max_depth=4, n_estimators=500, subsample=1, score=0.882, total= 1.1min\n",
            "[CV] eta=0.05, max_depth=4, n_estimators=500, subsample=1 ............\n",
            "[CV]  eta=0.05, max_depth=4, n_estimators=500, subsample=1, score=0.882, total= 1.1min\n",
            "[CV] eta=0.05, max_depth=8, n_estimators=100, subsample=0.6 ..........\n",
            "[CV]  eta=0.05, max_depth=8, n_estimators=100, subsample=0.6, score=0.887, total=  33.0s\n",
            "[CV] eta=0.05, max_depth=8, n_estimators=100, subsample=0.6 ..........\n",
            "[CV]  eta=0.05, max_depth=8, n_estimators=100, subsample=0.6, score=0.888, total=  33.5s\n",
            "[CV] eta=0.05, max_depth=8, n_estimators=100, subsample=0.6 ..........\n",
            "[CV]  eta=0.05, max_depth=8, n_estimators=100, subsample=0.6, score=0.888, total=  33.2s\n",
            "[CV] eta=0.05, max_depth=8, n_estimators=100, subsample=1 ............\n",
            "[CV]  eta=0.05, max_depth=8, n_estimators=100, subsample=1, score=0.885, total=  28.1s\n",
            "[CV] eta=0.05, max_depth=8, n_estimators=100, subsample=1 ............\n",
            "[CV]  eta=0.05, max_depth=8, n_estimators=100, subsample=1, score=0.887, total=  28.6s\n",
            "[CV] eta=0.05, max_depth=8, n_estimators=100, subsample=1 ............\n",
            "[CV]  eta=0.05, max_depth=8, n_estimators=100, subsample=1, score=0.887, total=  28.3s\n",
            "[CV] eta=0.05, max_depth=8, n_estimators=300, subsample=0.6 ..........\n",
            "[CV]  eta=0.05, max_depth=8, n_estimators=300, subsample=0.6, score=0.900, total= 1.6min\n",
            "[CV] eta=0.05, max_depth=8, n_estimators=300, subsample=0.6 ..........\n",
            "[CV]  eta=0.05, max_depth=8, n_estimators=300, subsample=0.6, score=0.901, total= 1.6min\n",
            "[CV] eta=0.05, max_depth=8, n_estimators=300, subsample=0.6 ..........\n",
            "[CV]  eta=0.05, max_depth=8, n_estimators=300, subsample=0.6, score=0.900, total= 1.6min\n",
            "[CV] eta=0.05, max_depth=8, n_estimators=300, subsample=1 ............\n",
            "[CV]  eta=0.05, max_depth=8, n_estimators=300, subsample=1, score=0.897, total= 1.3min\n",
            "[CV] eta=0.05, max_depth=8, n_estimators=300, subsample=1 ............\n",
            "[CV]  eta=0.05, max_depth=8, n_estimators=300, subsample=1, score=0.898, total= 1.3min\n",
            "[CV] eta=0.05, max_depth=8, n_estimators=300, subsample=1 ............\n",
            "[CV]  eta=0.05, max_depth=8, n_estimators=300, subsample=1, score=0.899, total= 1.3min\n",
            "[CV] eta=0.05, max_depth=8, n_estimators=500, subsample=0.6 ..........\n",
            "[CV]  eta=0.05, max_depth=8, n_estimators=500, subsample=0.6, score=0.908, total= 2.6min\n",
            "[CV] eta=0.05, max_depth=8, n_estimators=500, subsample=0.6 ..........\n",
            "[CV]  eta=0.05, max_depth=8, n_estimators=500, subsample=0.6, score=0.910, total= 2.6min\n",
            "[CV] eta=0.05, max_depth=8, n_estimators=500, subsample=0.6 ..........\n",
            "[CV]  eta=0.05, max_depth=8, n_estimators=500, subsample=0.6, score=0.908, total= 2.6min\n",
            "[CV] eta=0.05, max_depth=8, n_estimators=500, subsample=1 ............\n",
            "[CV]  eta=0.05, max_depth=8, n_estimators=500, subsample=1, score=0.905, total= 2.2min\n",
            "[CV] eta=0.05, max_depth=8, n_estimators=500, subsample=1 ............\n",
            "[CV]  eta=0.05, max_depth=8, n_estimators=500, subsample=1, score=0.906, total= 2.2min\n",
            "[CV] eta=0.05, max_depth=8, n_estimators=500, subsample=1 ............\n",
            "[CV]  eta=0.05, max_depth=8, n_estimators=500, subsample=1, score=0.905, total= 2.2min\n",
            "[CV] eta=0.05, max_depth=12, n_estimators=100, subsample=0.6 .........\n",
            "[CV]  eta=0.05, max_depth=12, n_estimators=100, subsample=0.6, score=0.910, total=  51.6s\n",
            "[CV] eta=0.05, max_depth=12, n_estimators=100, subsample=0.6 .........\n",
            "[CV]  eta=0.05, max_depth=12, n_estimators=100, subsample=0.6, score=0.912, total=  52.0s\n",
            "[CV] eta=0.05, max_depth=12, n_estimators=100, subsample=0.6 .........\n",
            "[CV]  eta=0.05, max_depth=12, n_estimators=100, subsample=0.6, score=0.910, total=  51.5s\n",
            "[CV] eta=0.05, max_depth=12, n_estimators=100, subsample=1 ...........\n",
            "[CV]  eta=0.05, max_depth=12, n_estimators=100, subsample=1, score=0.909, total=  45.4s\n",
            "[CV] eta=0.05, max_depth=12, n_estimators=100, subsample=1 ...........\n",
            "[CV]  eta=0.05, max_depth=12, n_estimators=100, subsample=1, score=0.910, total=  45.1s\n",
            "[CV] eta=0.05, max_depth=12, n_estimators=100, subsample=1 ...........\n",
            "[CV]  eta=0.05, max_depth=12, n_estimators=100, subsample=1, score=0.910, total=  45.1s\n",
            "[CV] eta=0.05, max_depth=12, n_estimators=300, subsample=0.6 .........\n",
            "[CV]  eta=0.05, max_depth=12, n_estimators=300, subsample=0.6, score=0.931, total= 2.6min\n",
            "[CV] eta=0.05, max_depth=12, n_estimators=300, subsample=0.6 .........\n",
            "[CV]  eta=0.05, max_depth=12, n_estimators=300, subsample=0.6, score=0.931, total= 2.6min\n",
            "[CV] eta=0.05, max_depth=12, n_estimators=300, subsample=0.6 .........\n",
            "[CV]  eta=0.05, max_depth=12, n_estimators=300, subsample=0.6, score=0.930, total= 2.6min\n",
            "[CV] eta=0.05, max_depth=12, n_estimators=300, subsample=1 ...........\n",
            "[CV]  eta=0.05, max_depth=12, n_estimators=300, subsample=1, score=0.925, total= 2.1min\n",
            "[CV] eta=0.05, max_depth=12, n_estimators=300, subsample=1 ...........\n",
            "[CV]  eta=0.05, max_depth=12, n_estimators=300, subsample=1, score=0.927, total= 2.1min\n",
            "[CV] eta=0.05, max_depth=12, n_estimators=300, subsample=1 ...........\n",
            "[CV]  eta=0.05, max_depth=12, n_estimators=300, subsample=1, score=0.926, total= 2.2min\n",
            "[CV] eta=0.05, max_depth=12, n_estimators=500, subsample=0.6 .........\n",
            "[CV]  eta=0.05, max_depth=12, n_estimators=500, subsample=0.6, score=0.940, total= 4.3min\n",
            "[CV] eta=0.05, max_depth=12, n_estimators=500, subsample=0.6 .........\n",
            "[CV]  eta=0.05, max_depth=12, n_estimators=500, subsample=0.6, score=0.941, total= 4.3min\n",
            "[CV] eta=0.05, max_depth=12, n_estimators=500, subsample=0.6 .........\n",
            "[CV]  eta=0.05, max_depth=12, n_estimators=500, subsample=0.6, score=0.939, total= 4.2min\n",
            "[CV] eta=0.05, max_depth=12, n_estimators=500, subsample=1 ...........\n",
            "[CV]  eta=0.05, max_depth=12, n_estimators=500, subsample=1, score=0.934, total= 3.5min\n",
            "[CV] eta=0.05, max_depth=12, n_estimators=500, subsample=1 ...........\n",
            "[CV]  eta=0.05, max_depth=12, n_estimators=500, subsample=1, score=0.935, total= 3.4min\n",
            "[CV] eta=0.05, max_depth=12, n_estimators=500, subsample=1 ...........\n",
            "[CV]  eta=0.05, max_depth=12, n_estimators=500, subsample=1, score=0.935, total= 3.5min\n",
            "[CV] eta=0.1, max_depth=4, n_estimators=100, subsample=0.6 ...........\n",
            "[CV]  eta=0.1, max_depth=4, n_estimators=100, subsample=0.6, score=0.876, total=  16.3s\n",
            "[CV] eta=0.1, max_depth=4, n_estimators=100, subsample=0.6 ...........\n",
            "[CV]  eta=0.1, max_depth=4, n_estimators=100, subsample=0.6, score=0.877, total=  16.3s\n",
            "[CV] eta=0.1, max_depth=4, n_estimators=100, subsample=0.6 ...........\n",
            "[CV]  eta=0.1, max_depth=4, n_estimators=100, subsample=0.6, score=0.876, total=  16.3s\n",
            "[CV] eta=0.1, max_depth=4, n_estimators=100, subsample=1 .............\n",
            "[CV]  eta=0.1, max_depth=4, n_estimators=100, subsample=1, score=0.875, total=  13.8s\n",
            "[CV] eta=0.1, max_depth=4, n_estimators=100, subsample=1 .............\n",
            "[CV]  eta=0.1, max_depth=4, n_estimators=100, subsample=1, score=0.877, total=  13.7s\n",
            "[CV] eta=0.1, max_depth=4, n_estimators=100, subsample=1 .............\n",
            "[CV]  eta=0.1, max_depth=4, n_estimators=100, subsample=1, score=0.876, total=  13.8s\n",
            "[CV] eta=0.1, max_depth=4, n_estimators=300, subsample=0.6 ...........\n",
            "[CV]  eta=0.1, max_depth=4, n_estimators=300, subsample=0.6, score=0.879, total=  46.6s\n",
            "[CV] eta=0.1, max_depth=4, n_estimators=300, subsample=0.6 ...........\n",
            "[CV]  eta=0.1, max_depth=4, n_estimators=300, subsample=0.6, score=0.880, total=  46.8s\n",
            "[CV] eta=0.1, max_depth=4, n_estimators=300, subsample=0.6 ...........\n",
            "[CV]  eta=0.1, max_depth=4, n_estimators=300, subsample=0.6, score=0.880, total=  46.8s\n",
            "[CV] eta=0.1, max_depth=4, n_estimators=300, subsample=1 .............\n",
            "[CV]  eta=0.1, max_depth=4, n_estimators=300, subsample=1, score=0.878, total=  39.2s\n",
            "[CV] eta=0.1, max_depth=4, n_estimators=300, subsample=1 .............\n",
            "[CV]  eta=0.1, max_depth=4, n_estimators=300, subsample=1, score=0.880, total=  39.5s\n",
            "[CV] eta=0.1, max_depth=4, n_estimators=300, subsample=1 .............\n",
            "[CV]  eta=0.1, max_depth=4, n_estimators=300, subsample=1, score=0.879, total=  39.9s\n",
            "[CV] eta=0.1, max_depth=4, n_estimators=500, subsample=0.6 ...........\n",
            "[CV]  eta=0.1, max_depth=4, n_estimators=500, subsample=0.6, score=0.881, total= 1.3min\n",
            "[CV] eta=0.1, max_depth=4, n_estimators=500, subsample=0.6 ...........\n",
            "[CV]  eta=0.1, max_depth=4, n_estimators=500, subsample=0.6, score=0.883, total= 1.3min\n",
            "[CV] eta=0.1, max_depth=4, n_estimators=500, subsample=0.6 ...........\n",
            "[CV]  eta=0.1, max_depth=4, n_estimators=500, subsample=0.6, score=0.882, total= 1.3min\n",
            "[CV] eta=0.1, max_depth=4, n_estimators=500, subsample=1 .............\n",
            "[CV]  eta=0.1, max_depth=4, n_estimators=500, subsample=1, score=0.881, total= 1.1min\n",
            "[CV] eta=0.1, max_depth=4, n_estimators=500, subsample=1 .............\n",
            "[CV]  eta=0.1, max_depth=4, n_estimators=500, subsample=1, score=0.882, total= 1.1min\n",
            "[CV] eta=0.1, max_depth=4, n_estimators=500, subsample=1 .............\n",
            "[CV]  eta=0.1, max_depth=4, n_estimators=500, subsample=1, score=0.882, total= 1.1min\n",
            "[CV] eta=0.1, max_depth=8, n_estimators=100, subsample=0.6 ...........\n",
            "[CV]  eta=0.1, max_depth=8, n_estimators=100, subsample=0.6, score=0.887, total=  33.0s\n",
            "[CV] eta=0.1, max_depth=8, n_estimators=100, subsample=0.6 ...........\n",
            "[CV]  eta=0.1, max_depth=8, n_estimators=100, subsample=0.6, score=0.888, total=  33.1s\n",
            "[CV] eta=0.1, max_depth=8, n_estimators=100, subsample=0.6 ...........\n"
          ],
          "name": "stdout"
        },
        {
          "output_type": "error",
          "ename": "KeyboardInterrupt",
          "evalue": "ignored",
          "traceback": [
            "\u001b[0;31m---------------------------------------------------------------------------\u001b[0m",
            "\u001b[0;31mKeyboardInterrupt\u001b[0m                         Traceback (most recent call last)",
            "\u001b[0;32m<ipython-input-117-2056e88eaef9>\u001b[0m in \u001b[0;36m<module>\u001b[0;34m()\u001b[0m\n\u001b[0;32m----> 1\u001b[0;31m \u001b[0mGridModel\u001b[0m\u001b[0;34m.\u001b[0m\u001b[0mfit\u001b[0m\u001b[0;34m(\u001b[0m\u001b[0mXrb_train\u001b[0m\u001b[0;34m,\u001b[0m\u001b[0myrb_train\u001b[0m\u001b[0;34m)\u001b[0m\u001b[0;34m\u001b[0m\u001b[0;34m\u001b[0m\u001b[0m\n\u001b[0m",
            "\u001b[0;32m/usr/local/lib/python3.7/dist-packages/sklearn/model_selection/_search.py\u001b[0m in \u001b[0;36mfit\u001b[0;34m(self, X, y, groups, **fit_params)\u001b[0m\n\u001b[1;32m    708\u001b[0m                 \u001b[0;32mreturn\u001b[0m \u001b[0mresults\u001b[0m\u001b[0;34m\u001b[0m\u001b[0;34m\u001b[0m\u001b[0m\n\u001b[1;32m    709\u001b[0m \u001b[0;34m\u001b[0m\u001b[0m\n\u001b[0;32m--> 710\u001b[0;31m             \u001b[0mself\u001b[0m\u001b[0;34m.\u001b[0m\u001b[0m_run_search\u001b[0m\u001b[0;34m(\u001b[0m\u001b[0mevaluate_candidates\u001b[0m\u001b[0;34m)\u001b[0m\u001b[0;34m\u001b[0m\u001b[0;34m\u001b[0m\u001b[0m\n\u001b[0m\u001b[1;32m    711\u001b[0m \u001b[0;34m\u001b[0m\u001b[0m\n\u001b[1;32m    712\u001b[0m         \u001b[0;31m# For multi-metric evaluation, store the best_index_, best_params_ and\u001b[0m\u001b[0;34m\u001b[0m\u001b[0;34m\u001b[0m\u001b[0;34m\u001b[0m\u001b[0m\n",
            "\u001b[0;32m/usr/local/lib/python3.7/dist-packages/sklearn/model_selection/_search.py\u001b[0m in \u001b[0;36m_run_search\u001b[0;34m(self, evaluate_candidates)\u001b[0m\n\u001b[1;32m   1149\u001b[0m     \u001b[0;32mdef\u001b[0m \u001b[0m_run_search\u001b[0m\u001b[0;34m(\u001b[0m\u001b[0mself\u001b[0m\u001b[0;34m,\u001b[0m \u001b[0mevaluate_candidates\u001b[0m\u001b[0;34m)\u001b[0m\u001b[0;34m:\u001b[0m\u001b[0;34m\u001b[0m\u001b[0;34m\u001b[0m\u001b[0m\n\u001b[1;32m   1150\u001b[0m         \u001b[0;34m\"\"\"Search all candidates in param_grid\"\"\"\u001b[0m\u001b[0;34m\u001b[0m\u001b[0;34m\u001b[0m\u001b[0m\n\u001b[0;32m-> 1151\u001b[0;31m         \u001b[0mevaluate_candidates\u001b[0m\u001b[0;34m(\u001b[0m\u001b[0mParameterGrid\u001b[0m\u001b[0;34m(\u001b[0m\u001b[0mself\u001b[0m\u001b[0;34m.\u001b[0m\u001b[0mparam_grid\u001b[0m\u001b[0;34m)\u001b[0m\u001b[0;34m)\u001b[0m\u001b[0;34m\u001b[0m\u001b[0;34m\u001b[0m\u001b[0m\n\u001b[0m\u001b[1;32m   1152\u001b[0m \u001b[0;34m\u001b[0m\u001b[0m\n\u001b[1;32m   1153\u001b[0m \u001b[0;34m\u001b[0m\u001b[0m\n",
            "\u001b[0;32m/usr/local/lib/python3.7/dist-packages/sklearn/model_selection/_search.py\u001b[0m in \u001b[0;36mevaluate_candidates\u001b[0;34m(candidate_params)\u001b[0m\n\u001b[1;32m    687\u001b[0m                                \u001b[0;32mfor\u001b[0m \u001b[0mparameters\u001b[0m\u001b[0;34m,\u001b[0m \u001b[0;34m(\u001b[0m\u001b[0mtrain\u001b[0m\u001b[0;34m,\u001b[0m \u001b[0mtest\u001b[0m\u001b[0;34m)\u001b[0m\u001b[0;34m\u001b[0m\u001b[0;34m\u001b[0m\u001b[0m\n\u001b[1;32m    688\u001b[0m                                in product(candidate_params,\n\u001b[0;32m--> 689\u001b[0;31m                                           cv.split(X, y, groups)))\n\u001b[0m\u001b[1;32m    690\u001b[0m \u001b[0;34m\u001b[0m\u001b[0m\n\u001b[1;32m    691\u001b[0m                 \u001b[0;32mif\u001b[0m \u001b[0mlen\u001b[0m\u001b[0;34m(\u001b[0m\u001b[0mout\u001b[0m\u001b[0;34m)\u001b[0m \u001b[0;34m<\u001b[0m \u001b[0;36m1\u001b[0m\u001b[0;34m:\u001b[0m\u001b[0;34m\u001b[0m\u001b[0;34m\u001b[0m\u001b[0m\n",
            "\u001b[0;32m/usr/local/lib/python3.7/dist-packages/joblib/parallel.py\u001b[0m in \u001b[0;36m__call__\u001b[0;34m(self, iterable)\u001b[0m\n\u001b[1;32m   1042\u001b[0m                 \u001b[0mself\u001b[0m\u001b[0;34m.\u001b[0m\u001b[0m_iterating\u001b[0m \u001b[0;34m=\u001b[0m \u001b[0mself\u001b[0m\u001b[0;34m.\u001b[0m\u001b[0m_original_iterator\u001b[0m \u001b[0;32mis\u001b[0m \u001b[0;32mnot\u001b[0m \u001b[0;32mNone\u001b[0m\u001b[0;34m\u001b[0m\u001b[0;34m\u001b[0m\u001b[0m\n\u001b[1;32m   1043\u001b[0m \u001b[0;34m\u001b[0m\u001b[0m\n\u001b[0;32m-> 1044\u001b[0;31m             \u001b[0;32mwhile\u001b[0m \u001b[0mself\u001b[0m\u001b[0;34m.\u001b[0m\u001b[0mdispatch_one_batch\u001b[0m\u001b[0;34m(\u001b[0m\u001b[0miterator\u001b[0m\u001b[0;34m)\u001b[0m\u001b[0;34m:\u001b[0m\u001b[0;34m\u001b[0m\u001b[0;34m\u001b[0m\u001b[0m\n\u001b[0m\u001b[1;32m   1045\u001b[0m                 \u001b[0;32mpass\u001b[0m\u001b[0;34m\u001b[0m\u001b[0;34m\u001b[0m\u001b[0m\n\u001b[1;32m   1046\u001b[0m \u001b[0;34m\u001b[0m\u001b[0m\n",
            "\u001b[0;32m/usr/local/lib/python3.7/dist-packages/joblib/parallel.py\u001b[0m in \u001b[0;36mdispatch_one_batch\u001b[0;34m(self, iterator)\u001b[0m\n\u001b[1;32m    857\u001b[0m                 \u001b[0;32mreturn\u001b[0m \u001b[0;32mFalse\u001b[0m\u001b[0;34m\u001b[0m\u001b[0;34m\u001b[0m\u001b[0m\n\u001b[1;32m    858\u001b[0m             \u001b[0;32melse\u001b[0m\u001b[0;34m:\u001b[0m\u001b[0;34m\u001b[0m\u001b[0;34m\u001b[0m\u001b[0m\n\u001b[0;32m--> 859\u001b[0;31m                 \u001b[0mself\u001b[0m\u001b[0;34m.\u001b[0m\u001b[0m_dispatch\u001b[0m\u001b[0;34m(\u001b[0m\u001b[0mtasks\u001b[0m\u001b[0;34m)\u001b[0m\u001b[0;34m\u001b[0m\u001b[0;34m\u001b[0m\u001b[0m\n\u001b[0m\u001b[1;32m    860\u001b[0m                 \u001b[0;32mreturn\u001b[0m \u001b[0;32mTrue\u001b[0m\u001b[0;34m\u001b[0m\u001b[0;34m\u001b[0m\u001b[0m\n\u001b[1;32m    861\u001b[0m \u001b[0;34m\u001b[0m\u001b[0m\n",
            "\u001b[0;32m/usr/local/lib/python3.7/dist-packages/joblib/parallel.py\u001b[0m in \u001b[0;36m_dispatch\u001b[0;34m(self, batch)\u001b[0m\n\u001b[1;32m    775\u001b[0m         \u001b[0;32mwith\u001b[0m \u001b[0mself\u001b[0m\u001b[0;34m.\u001b[0m\u001b[0m_lock\u001b[0m\u001b[0;34m:\u001b[0m\u001b[0;34m\u001b[0m\u001b[0;34m\u001b[0m\u001b[0m\n\u001b[1;32m    776\u001b[0m             \u001b[0mjob_idx\u001b[0m \u001b[0;34m=\u001b[0m \u001b[0mlen\u001b[0m\u001b[0;34m(\u001b[0m\u001b[0mself\u001b[0m\u001b[0;34m.\u001b[0m\u001b[0m_jobs\u001b[0m\u001b[0;34m)\u001b[0m\u001b[0;34m\u001b[0m\u001b[0;34m\u001b[0m\u001b[0m\n\u001b[0;32m--> 777\u001b[0;31m             \u001b[0mjob\u001b[0m \u001b[0;34m=\u001b[0m \u001b[0mself\u001b[0m\u001b[0;34m.\u001b[0m\u001b[0m_backend\u001b[0m\u001b[0;34m.\u001b[0m\u001b[0mapply_async\u001b[0m\u001b[0;34m(\u001b[0m\u001b[0mbatch\u001b[0m\u001b[0;34m,\u001b[0m \u001b[0mcallback\u001b[0m\u001b[0;34m=\u001b[0m\u001b[0mcb\u001b[0m\u001b[0;34m)\u001b[0m\u001b[0;34m\u001b[0m\u001b[0;34m\u001b[0m\u001b[0m\n\u001b[0m\u001b[1;32m    778\u001b[0m             \u001b[0;31m# A job can complete so quickly than its callback is\u001b[0m\u001b[0;34m\u001b[0m\u001b[0;34m\u001b[0m\u001b[0;34m\u001b[0m\u001b[0m\n\u001b[1;32m    779\u001b[0m             \u001b[0;31m# called before we get here, causing self._jobs to\u001b[0m\u001b[0;34m\u001b[0m\u001b[0;34m\u001b[0m\u001b[0;34m\u001b[0m\u001b[0m\n",
            "\u001b[0;32m/usr/local/lib/python3.7/dist-packages/joblib/_parallel_backends.py\u001b[0m in \u001b[0;36mapply_async\u001b[0;34m(self, func, callback)\u001b[0m\n\u001b[1;32m    206\u001b[0m     \u001b[0;32mdef\u001b[0m \u001b[0mapply_async\u001b[0m\u001b[0;34m(\u001b[0m\u001b[0mself\u001b[0m\u001b[0;34m,\u001b[0m \u001b[0mfunc\u001b[0m\u001b[0;34m,\u001b[0m \u001b[0mcallback\u001b[0m\u001b[0;34m=\u001b[0m\u001b[0;32mNone\u001b[0m\u001b[0;34m)\u001b[0m\u001b[0;34m:\u001b[0m\u001b[0;34m\u001b[0m\u001b[0;34m\u001b[0m\u001b[0m\n\u001b[1;32m    207\u001b[0m         \u001b[0;34m\"\"\"Schedule a func to be run\"\"\"\u001b[0m\u001b[0;34m\u001b[0m\u001b[0;34m\u001b[0m\u001b[0m\n\u001b[0;32m--> 208\u001b[0;31m         \u001b[0mresult\u001b[0m \u001b[0;34m=\u001b[0m \u001b[0mImmediateResult\u001b[0m\u001b[0;34m(\u001b[0m\u001b[0mfunc\u001b[0m\u001b[0;34m)\u001b[0m\u001b[0;34m\u001b[0m\u001b[0;34m\u001b[0m\u001b[0m\n\u001b[0m\u001b[1;32m    209\u001b[0m         \u001b[0;32mif\u001b[0m \u001b[0mcallback\u001b[0m\u001b[0;34m:\u001b[0m\u001b[0;34m\u001b[0m\u001b[0;34m\u001b[0m\u001b[0m\n\u001b[1;32m    210\u001b[0m             \u001b[0mcallback\u001b[0m\u001b[0;34m(\u001b[0m\u001b[0mresult\u001b[0m\u001b[0;34m)\u001b[0m\u001b[0;34m\u001b[0m\u001b[0;34m\u001b[0m\u001b[0m\n",
            "\u001b[0;32m/usr/local/lib/python3.7/dist-packages/joblib/_parallel_backends.py\u001b[0m in \u001b[0;36m__init__\u001b[0;34m(self, batch)\u001b[0m\n\u001b[1;32m    570\u001b[0m         \u001b[0;31m# Don't delay the application, to avoid keeping the input\u001b[0m\u001b[0;34m\u001b[0m\u001b[0;34m\u001b[0m\u001b[0;34m\u001b[0m\u001b[0m\n\u001b[1;32m    571\u001b[0m         \u001b[0;31m# arguments in memory\u001b[0m\u001b[0;34m\u001b[0m\u001b[0;34m\u001b[0m\u001b[0;34m\u001b[0m\u001b[0m\n\u001b[0;32m--> 572\u001b[0;31m         \u001b[0mself\u001b[0m\u001b[0;34m.\u001b[0m\u001b[0mresults\u001b[0m \u001b[0;34m=\u001b[0m \u001b[0mbatch\u001b[0m\u001b[0;34m(\u001b[0m\u001b[0;34m)\u001b[0m\u001b[0;34m\u001b[0m\u001b[0;34m\u001b[0m\u001b[0m\n\u001b[0m\u001b[1;32m    573\u001b[0m \u001b[0;34m\u001b[0m\u001b[0m\n\u001b[1;32m    574\u001b[0m     \u001b[0;32mdef\u001b[0m \u001b[0mget\u001b[0m\u001b[0;34m(\u001b[0m\u001b[0mself\u001b[0m\u001b[0;34m)\u001b[0m\u001b[0;34m:\u001b[0m\u001b[0;34m\u001b[0m\u001b[0;34m\u001b[0m\u001b[0m\n",
            "\u001b[0;32m/usr/local/lib/python3.7/dist-packages/joblib/parallel.py\u001b[0m in \u001b[0;36m__call__\u001b[0;34m(self)\u001b[0m\n\u001b[1;32m    261\u001b[0m         \u001b[0;32mwith\u001b[0m \u001b[0mparallel_backend\u001b[0m\u001b[0;34m(\u001b[0m\u001b[0mself\u001b[0m\u001b[0;34m.\u001b[0m\u001b[0m_backend\u001b[0m\u001b[0;34m,\u001b[0m \u001b[0mn_jobs\u001b[0m\u001b[0;34m=\u001b[0m\u001b[0mself\u001b[0m\u001b[0;34m.\u001b[0m\u001b[0m_n_jobs\u001b[0m\u001b[0;34m)\u001b[0m\u001b[0;34m:\u001b[0m\u001b[0;34m\u001b[0m\u001b[0;34m\u001b[0m\u001b[0m\n\u001b[1;32m    262\u001b[0m             return [func(*args, **kwargs)\n\u001b[0;32m--> 263\u001b[0;31m                     for func, args, kwargs in self.items]\n\u001b[0m\u001b[1;32m    264\u001b[0m \u001b[0;34m\u001b[0m\u001b[0m\n\u001b[1;32m    265\u001b[0m     \u001b[0;32mdef\u001b[0m \u001b[0m__reduce__\u001b[0m\u001b[0;34m(\u001b[0m\u001b[0mself\u001b[0m\u001b[0;34m)\u001b[0m\u001b[0;34m:\u001b[0m\u001b[0;34m\u001b[0m\u001b[0;34m\u001b[0m\u001b[0m\n",
            "\u001b[0;32m/usr/local/lib/python3.7/dist-packages/joblib/parallel.py\u001b[0m in \u001b[0;36m<listcomp>\u001b[0;34m(.0)\u001b[0m\n\u001b[1;32m    261\u001b[0m         \u001b[0;32mwith\u001b[0m \u001b[0mparallel_backend\u001b[0m\u001b[0;34m(\u001b[0m\u001b[0mself\u001b[0m\u001b[0;34m.\u001b[0m\u001b[0m_backend\u001b[0m\u001b[0;34m,\u001b[0m \u001b[0mn_jobs\u001b[0m\u001b[0;34m=\u001b[0m\u001b[0mself\u001b[0m\u001b[0;34m.\u001b[0m\u001b[0m_n_jobs\u001b[0m\u001b[0;34m)\u001b[0m\u001b[0;34m:\u001b[0m\u001b[0;34m\u001b[0m\u001b[0;34m\u001b[0m\u001b[0m\n\u001b[1;32m    262\u001b[0m             return [func(*args, **kwargs)\n\u001b[0;32m--> 263\u001b[0;31m                     for func, args, kwargs in self.items]\n\u001b[0m\u001b[1;32m    264\u001b[0m \u001b[0;34m\u001b[0m\u001b[0m\n\u001b[1;32m    265\u001b[0m     \u001b[0;32mdef\u001b[0m \u001b[0m__reduce__\u001b[0m\u001b[0;34m(\u001b[0m\u001b[0mself\u001b[0m\u001b[0;34m)\u001b[0m\u001b[0;34m:\u001b[0m\u001b[0;34m\u001b[0m\u001b[0;34m\u001b[0m\u001b[0m\n",
            "\u001b[0;32m/usr/local/lib/python3.7/dist-packages/sklearn/model_selection/_validation.py\u001b[0m in \u001b[0;36m_fit_and_score\u001b[0;34m(estimator, X, y, scorer, train, test, verbose, parameters, fit_params, return_train_score, return_parameters, return_n_test_samples, return_times, return_estimator, error_score)\u001b[0m\n\u001b[1;32m    513\u001b[0m             \u001b[0mestimator\u001b[0m\u001b[0;34m.\u001b[0m\u001b[0mfit\u001b[0m\u001b[0;34m(\u001b[0m\u001b[0mX_train\u001b[0m\u001b[0;34m,\u001b[0m \u001b[0;34m**\u001b[0m\u001b[0mfit_params\u001b[0m\u001b[0;34m)\u001b[0m\u001b[0;34m\u001b[0m\u001b[0;34m\u001b[0m\u001b[0m\n\u001b[1;32m    514\u001b[0m         \u001b[0;32melse\u001b[0m\u001b[0;34m:\u001b[0m\u001b[0;34m\u001b[0m\u001b[0;34m\u001b[0m\u001b[0m\n\u001b[0;32m--> 515\u001b[0;31m             \u001b[0mestimator\u001b[0m\u001b[0;34m.\u001b[0m\u001b[0mfit\u001b[0m\u001b[0;34m(\u001b[0m\u001b[0mX_train\u001b[0m\u001b[0;34m,\u001b[0m \u001b[0my_train\u001b[0m\u001b[0;34m,\u001b[0m \u001b[0;34m**\u001b[0m\u001b[0mfit_params\u001b[0m\u001b[0;34m)\u001b[0m\u001b[0;34m\u001b[0m\u001b[0;34m\u001b[0m\u001b[0m\n\u001b[0m\u001b[1;32m    516\u001b[0m \u001b[0;34m\u001b[0m\u001b[0m\n\u001b[1;32m    517\u001b[0m     \u001b[0;32mexcept\u001b[0m \u001b[0mException\u001b[0m \u001b[0;32mas\u001b[0m \u001b[0me\u001b[0m\u001b[0;34m:\u001b[0m\u001b[0;34m\u001b[0m\u001b[0;34m\u001b[0m\u001b[0m\n",
            "\u001b[0;32m/usr/local/lib/python3.7/dist-packages/xgboost/sklearn.py\u001b[0m in \u001b[0;36mfit\u001b[0;34m(self, X, y, sample_weight, eval_set, eval_metric, early_stopping_rounds, verbose, xgb_model, sample_weight_eval_set, callbacks)\u001b[0m\n\u001b[1;32m    730\u001b[0m                               \u001b[0mevals_result\u001b[0m\u001b[0;34m=\u001b[0m\u001b[0mevals_result\u001b[0m\u001b[0;34m,\u001b[0m \u001b[0mobj\u001b[0m\u001b[0;34m=\u001b[0m\u001b[0mobj\u001b[0m\u001b[0;34m,\u001b[0m \u001b[0mfeval\u001b[0m\u001b[0;34m=\u001b[0m\u001b[0mfeval\u001b[0m\u001b[0;34m,\u001b[0m\u001b[0;34m\u001b[0m\u001b[0;34m\u001b[0m\u001b[0m\n\u001b[1;32m    731\u001b[0m                               \u001b[0mverbose_eval\u001b[0m\u001b[0;34m=\u001b[0m\u001b[0mverbose\u001b[0m\u001b[0;34m,\u001b[0m \u001b[0mxgb_model\u001b[0m\u001b[0;34m=\u001b[0m\u001b[0mxgb_model\u001b[0m\u001b[0;34m,\u001b[0m\u001b[0;34m\u001b[0m\u001b[0;34m\u001b[0m\u001b[0m\n\u001b[0;32m--> 732\u001b[0;31m                               callbacks=callbacks)\n\u001b[0m\u001b[1;32m    733\u001b[0m \u001b[0;34m\u001b[0m\u001b[0m\n\u001b[1;32m    734\u001b[0m         \u001b[0mself\u001b[0m\u001b[0;34m.\u001b[0m\u001b[0mobjective\u001b[0m \u001b[0;34m=\u001b[0m \u001b[0mxgb_options\u001b[0m\u001b[0;34m[\u001b[0m\u001b[0;34m\"objective\"\u001b[0m\u001b[0;34m]\u001b[0m\u001b[0;34m\u001b[0m\u001b[0;34m\u001b[0m\u001b[0m\n",
            "\u001b[0;32m/usr/local/lib/python3.7/dist-packages/xgboost/training.py\u001b[0m in \u001b[0;36mtrain\u001b[0;34m(params, dtrain, num_boost_round, evals, obj, feval, maximize, early_stopping_rounds, evals_result, verbose_eval, xgb_model, callbacks, learning_rates)\u001b[0m\n\u001b[1;32m    214\u001b[0m                            \u001b[0mevals\u001b[0m\u001b[0;34m=\u001b[0m\u001b[0mevals\u001b[0m\u001b[0;34m,\u001b[0m\u001b[0;34m\u001b[0m\u001b[0;34m\u001b[0m\u001b[0m\n\u001b[1;32m    215\u001b[0m                            \u001b[0mobj\u001b[0m\u001b[0;34m=\u001b[0m\u001b[0mobj\u001b[0m\u001b[0;34m,\u001b[0m \u001b[0mfeval\u001b[0m\u001b[0;34m=\u001b[0m\u001b[0mfeval\u001b[0m\u001b[0;34m,\u001b[0m\u001b[0;34m\u001b[0m\u001b[0;34m\u001b[0m\u001b[0m\n\u001b[0;32m--> 216\u001b[0;31m                            xgb_model=xgb_model, callbacks=callbacks)\n\u001b[0m\u001b[1;32m    217\u001b[0m \u001b[0;34m\u001b[0m\u001b[0m\n\u001b[1;32m    218\u001b[0m \u001b[0;34m\u001b[0m\u001b[0m\n",
            "\u001b[0;32m/usr/local/lib/python3.7/dist-packages/xgboost/training.py\u001b[0m in \u001b[0;36m_train_internal\u001b[0;34m(params, dtrain, num_boost_round, evals, obj, feval, xgb_model, callbacks)\u001b[0m\n\u001b[1;32m     72\u001b[0m         \u001b[0;31m# Skip the first update if it is a recovery step.\u001b[0m\u001b[0;34m\u001b[0m\u001b[0;34m\u001b[0m\u001b[0;34m\u001b[0m\u001b[0m\n\u001b[1;32m     73\u001b[0m         \u001b[0;32mif\u001b[0m \u001b[0mversion\u001b[0m \u001b[0;34m%\u001b[0m \u001b[0;36m2\u001b[0m \u001b[0;34m==\u001b[0m \u001b[0;36m0\u001b[0m\u001b[0;34m:\u001b[0m\u001b[0;34m\u001b[0m\u001b[0;34m\u001b[0m\u001b[0m\n\u001b[0;32m---> 74\u001b[0;31m             \u001b[0mbst\u001b[0m\u001b[0;34m.\u001b[0m\u001b[0mupdate\u001b[0m\u001b[0;34m(\u001b[0m\u001b[0mdtrain\u001b[0m\u001b[0;34m,\u001b[0m \u001b[0mi\u001b[0m\u001b[0;34m,\u001b[0m \u001b[0mobj\u001b[0m\u001b[0;34m)\u001b[0m\u001b[0;34m\u001b[0m\u001b[0;34m\u001b[0m\u001b[0m\n\u001b[0m\u001b[1;32m     75\u001b[0m             \u001b[0mbst\u001b[0m\u001b[0;34m.\u001b[0m\u001b[0msave_rabit_checkpoint\u001b[0m\u001b[0;34m(\u001b[0m\u001b[0;34m)\u001b[0m\u001b[0;34m\u001b[0m\u001b[0;34m\u001b[0m\u001b[0m\n\u001b[1;32m     76\u001b[0m             \u001b[0mversion\u001b[0m \u001b[0;34m+=\u001b[0m \u001b[0;36m1\u001b[0m\u001b[0;34m\u001b[0m\u001b[0;34m\u001b[0m\u001b[0m\n",
            "\u001b[0;32m/usr/local/lib/python3.7/dist-packages/xgboost/core.py\u001b[0m in \u001b[0;36mupdate\u001b[0;34m(self, dtrain, iteration, fobj)\u001b[0m\n\u001b[1;32m   1107\u001b[0m         \u001b[0;32mif\u001b[0m \u001b[0mfobj\u001b[0m \u001b[0;32mis\u001b[0m \u001b[0;32mNone\u001b[0m\u001b[0;34m:\u001b[0m\u001b[0;34m\u001b[0m\u001b[0;34m\u001b[0m\u001b[0m\n\u001b[1;32m   1108\u001b[0m             _check_call(_LIB.XGBoosterUpdateOneIter(self.handle, ctypes.c_int(iteration),\n\u001b[0;32m-> 1109\u001b[0;31m                                                     dtrain.handle))\n\u001b[0m\u001b[1;32m   1110\u001b[0m         \u001b[0;32melse\u001b[0m\u001b[0;34m:\u001b[0m\u001b[0;34m\u001b[0m\u001b[0;34m\u001b[0m\u001b[0m\n\u001b[1;32m   1111\u001b[0m             \u001b[0mpred\u001b[0m \u001b[0;34m=\u001b[0m \u001b[0mself\u001b[0m\u001b[0;34m.\u001b[0m\u001b[0mpredict\u001b[0m\u001b[0;34m(\u001b[0m\u001b[0mdtrain\u001b[0m\u001b[0;34m)\u001b[0m\u001b[0;34m\u001b[0m\u001b[0;34m\u001b[0m\u001b[0m\n",
            "\u001b[0;31mKeyboardInterrupt\u001b[0m: "
          ]
        }
      ]
    },
    {
      "cell_type": "markdown",
      "metadata": {
        "id": "apcrAIV6tmCr"
      },
      "source": [
        "# ***`Final Model Testing`***"
      ]
    },
    {
      "cell_type": "code",
      "metadata": {
        "colab": {
          "base_uri": "https://localhost:8080/"
        },
        "id": "pgae2yw3hkk5",
        "outputId": "f47b9abe-e86a-4797-9caa-483a15b9d1cd"
      },
      "source": [
        "XGB3 = xgb.XGBClassifier(eta=0.1,n_estimators=500,subsample=0.6,max_depth=15)\n",
        "XGB3.fit(Xdb_train.to_numpy(), ydb_train)\n",
        "score(ydb_test,XGB3.predict(Xdb_test.to_numpy()))\n",
        "score(ydb_train,XGB3.predict(Xdb_train.to_numpy()))"
      ],
      "execution_count": 260,
      "outputs": [
        {
          "output_type": "stream",
          "text": [
            "Accuracy      -  0.9152650883627876\n",
            "roc_auc_score -  0.9153501456130138\n",
            "Accuracy      -  0.9812003374469405\n",
            "roc_auc_score -  0.9812014549748287\n"
          ],
          "name": "stdout"
        }
      ]
    },
    {
      "cell_type": "code",
      "metadata": {
        "colab": {
          "base_uri": "https://localhost:8080/"
        },
        "id": "IHBWwpK7ot0P",
        "outputId": "190f38b3-d87b-4992-9ae4-0b47f0964af3"
      },
      "source": [
        "score(yd_test,XGB3.predict(Xd_test.to_numpy()))\n",
        "score(yd_train,XGB3.predict(Xd_train.to_numpy()))"
      ],
      "execution_count": 261,
      "outputs": [
        {
          "output_type": "stream",
          "text": [
            "Accuracy      -  0.9584087903143759\n",
            "roc_auc_score -  0.9510675098032376\n",
            "Accuracy      -  0.9574422626920338\n",
            "roc_auc_score -  0.9496767506665019\n"
          ],
          "name": "stdout"
        }
      ]
    },
    {
      "cell_type": "markdown",
      "metadata": {
        "id": "0-KLgrFkEVOP"
      },
      "source": [
        "# ***`Final Model`***"
      ]
    },
    {
      "cell_type": "markdown",
      "metadata": {
        "id": "76TSjxGcIlZ_"
      },
      "source": [
        "**Training Final Model**"
      ]
    },
    {
      "cell_type": "code",
      "metadata": {
        "colab": {
          "base_uri": "https://localhost:8080/"
        },
        "id": "25scLJNcH6Ze",
        "outputId": "561b8a1a-31ac-4448-ff94-bacbda2cd98b"
      },
      "source": [
        "XGB3 = xgb.XGBClassifier(eta=0.1,n_estimators=500,subsample=0.6,max_depth=15)\n",
        "XGB3.fit(Xdb.to_numpy(), ydb)"
      ],
      "execution_count": 287,
      "outputs": [
        {
          "output_type": "execute_result",
          "data": {
            "text/plain": [
              "XGBClassifier(base_score=0.5, booster='gbtree', colsample_bylevel=1,\n",
              "              colsample_bynode=1, colsample_bytree=1, eta=0.1, gamma=0,\n",
              "              learning_rate=0.1, max_delta_step=0, max_depth=15,\n",
              "              min_child_weight=1, missing=None, n_estimators=500, n_jobs=1,\n",
              "              nthread=None, objective='binary:logistic', random_state=0,\n",
              "              reg_alpha=0, reg_lambda=1, scale_pos_weight=1, seed=None,\n",
              "              silent=None, subsample=0.6, verbosity=1)"
            ]
          },
          "metadata": {
            "tags": []
          },
          "execution_count": 287
        }
      ]
    },
    {
      "cell_type": "code",
      "metadata": {
        "colab": {
          "base_uri": "https://localhost:8080/"
        },
        "id": "VEvittSDIDxD",
        "outputId": "586333cf-d2fd-484f-f115-9fd618a9f46b"
      },
      "source": [
        "print(score(ydb,XGB3.predict(Xdb.to_numpy())))\n",
        "print(score(ydb_train,XGB3.predict(Xdb_train.to_numpy())))\n",
        "print(score(ydb_test,XGB3.predict(Xdb_test.to_numpy())))"
      ],
      "execution_count": 288,
      "outputs": [
        {
          "output_type": "stream",
          "text": [
            "Accuracy      -  0.9811883459509062\n",
            "roc_auc_score -  0.9811883459509061\n",
            "None\n",
            "Accuracy      -  0.98119033407914\n",
            "roc_auc_score -  0.9811893216612143\n",
            "None\n",
            "Accuracy      -  0.9811803934644882\n",
            "roc_auc_score -  0.9811850118938105\n",
            "None\n"
          ],
          "name": "stdout"
        }
      ]
    },
    {
      "cell_type": "markdown",
      "metadata": {
        "id": "1PtFg-UdEdNv"
      },
      "source": [
        "**Creating final data**"
      ]
    },
    {
      "cell_type": "code",
      "metadata": {
        "colab": {
          "base_uri": "https://localhost:8080/",
          "height": 198
        },
        "id": "f95pHUN5tyoM",
        "outputId": "a36ef128-f914-4139-8013-7f03facd3ede"
      },
      "source": [
        "test = pd.read_csv('test.csv')\n",
        "IDs = test['ID']\n",
        "test.drop(['ID'],axis=1,inplace=True)\n",
        "test.head()"
      ],
      "execution_count": 293,
      "outputs": [
        {
          "output_type": "execute_result",
          "data": {
            "text/html": [
              "<div>\n",
              "<style scoped>\n",
              "    .dataframe tbody tr th:only-of-type {\n",
              "        vertical-align: middle;\n",
              "    }\n",
              "\n",
              "    .dataframe tbody tr th {\n",
              "        vertical-align: top;\n",
              "    }\n",
              "\n",
              "    .dataframe thead th {\n",
              "        text-align: right;\n",
              "    }\n",
              "</style>\n",
              "<table border=\"1\" class=\"dataframe\">\n",
              "  <thead>\n",
              "    <tr style=\"text-align: right;\">\n",
              "      <th></th>\n",
              "      <th>Gender</th>\n",
              "      <th>Age</th>\n",
              "      <th>Region_Code</th>\n",
              "      <th>Occupation</th>\n",
              "      <th>Channel_Code</th>\n",
              "      <th>Vintage</th>\n",
              "      <th>Credit_Product</th>\n",
              "      <th>Avg_Account_Balance</th>\n",
              "      <th>Is_Active</th>\n",
              "    </tr>\n",
              "  </thead>\n",
              "  <tbody>\n",
              "    <tr>\n",
              "      <th>0</th>\n",
              "      <td>Male</td>\n",
              "      <td>29</td>\n",
              "      <td>RG254</td>\n",
              "      <td>Other</td>\n",
              "      <td>X1</td>\n",
              "      <td>25</td>\n",
              "      <td>Yes</td>\n",
              "      <td>742366</td>\n",
              "      <td>No</td>\n",
              "    </tr>\n",
              "    <tr>\n",
              "      <th>1</th>\n",
              "      <td>Male</td>\n",
              "      <td>43</td>\n",
              "      <td>RG268</td>\n",
              "      <td>Other</td>\n",
              "      <td>X2</td>\n",
              "      <td>49</td>\n",
              "      <td>NaN</td>\n",
              "      <td>925537</td>\n",
              "      <td>No</td>\n",
              "    </tr>\n",
              "    <tr>\n",
              "      <th>2</th>\n",
              "      <td>Male</td>\n",
              "      <td>31</td>\n",
              "      <td>RG270</td>\n",
              "      <td>Salaried</td>\n",
              "      <td>X1</td>\n",
              "      <td>14</td>\n",
              "      <td>No</td>\n",
              "      <td>215949</td>\n",
              "      <td>No</td>\n",
              "    </tr>\n",
              "    <tr>\n",
              "      <th>3</th>\n",
              "      <td>Male</td>\n",
              "      <td>29</td>\n",
              "      <td>RG272</td>\n",
              "      <td>Other</td>\n",
              "      <td>X1</td>\n",
              "      <td>33</td>\n",
              "      <td>No</td>\n",
              "      <td>868070</td>\n",
              "      <td>No</td>\n",
              "    </tr>\n",
              "    <tr>\n",
              "      <th>4</th>\n",
              "      <td>Female</td>\n",
              "      <td>29</td>\n",
              "      <td>RG270</td>\n",
              "      <td>Other</td>\n",
              "      <td>X1</td>\n",
              "      <td>19</td>\n",
              "      <td>No</td>\n",
              "      <td>657087</td>\n",
              "      <td>No</td>\n",
              "    </tr>\n",
              "  </tbody>\n",
              "</table>\n",
              "</div>"
            ],
            "text/plain": [
              "   Gender  Age Region_Code  ... Credit_Product Avg_Account_Balance  Is_Active\n",
              "0    Male   29       RG254  ...            Yes              742366         No\n",
              "1    Male   43       RG268  ...            NaN              925537         No\n",
              "2    Male   31       RG270  ...             No              215949         No\n",
              "3    Male   29       RG272  ...             No              868070         No\n",
              "4  Female   29       RG270  ...             No              657087         No\n",
              "\n",
              "[5 rows x 9 columns]"
            ]
          },
          "metadata": {
            "tags": []
          },
          "execution_count": 293
        }
      ]
    },
    {
      "cell_type": "code",
      "metadata": {
        "colab": {
          "base_uri": "https://localhost:8080/"
        },
        "id": "Tb8wVQSN8ReM",
        "outputId": "251d4686-fd63-497f-bb88-f6150deae508"
      },
      "source": [
        "test['Credit_Product'].fillna('Unknown',inplace = True)\n",
        "test['Credit_Product'].value_counts()"
      ],
      "execution_count": 294,
      "outputs": [
        {
          "output_type": "execute_result",
          "data": {
            "text/plain": [
              "No         61608\n",
              "Yes        31182\n",
              "Unknown    12522\n",
              "Name: Credit_Product, dtype: int64"
            ]
          },
          "metadata": {
            "tags": []
          },
          "execution_count": 294
        }
      ]
    },
    {
      "cell_type": "code",
      "metadata": {
        "colab": {
          "base_uri": "https://localhost:8080/",
          "height": 218
        },
        "id": "EBID_3__uALI",
        "outputId": "7d6aa5d3-522d-465b-da28-030ed1d3bc56"
      },
      "source": [
        "test_final = oneHotEncoded(test,'Gender')\n",
        "test_final = oneHotEncoded(test_final,'Credit_Product')\n",
        "test_final = oneHotEncoded(test_final,'Region_Code')\n",
        "test_final = oneHotEncoded(test_final,'Channel_Code')\n",
        "test_final = oneHotEncoded(test_final,'Occupation')\n",
        "test_final = oneHotEncoded(test_final,'Is_Active')\n",
        "test_final.head()"
      ],
      "execution_count": 295,
      "outputs": [
        {
          "output_type": "execute_result",
          "data": {
            "text/html": [
              "<div>\n",
              "<style scoped>\n",
              "    .dataframe tbody tr th:only-of-type {\n",
              "        vertical-align: middle;\n",
              "    }\n",
              "\n",
              "    .dataframe tbody tr th {\n",
              "        vertical-align: top;\n",
              "    }\n",
              "\n",
              "    .dataframe thead th {\n",
              "        text-align: right;\n",
              "    }\n",
              "</style>\n",
              "<table border=\"1\" class=\"dataframe\">\n",
              "  <thead>\n",
              "    <tr style=\"text-align: right;\">\n",
              "      <th></th>\n",
              "      <th>Age</th>\n",
              "      <th>Vintage</th>\n",
              "      <th>Avg_Account_Balance</th>\n",
              "      <th>Male</th>\n",
              "      <th>Unknown</th>\n",
              "      <th>Yes</th>\n",
              "      <th>RG251</th>\n",
              "      <th>RG252</th>\n",
              "      <th>RG253</th>\n",
              "      <th>RG254</th>\n",
              "      <th>RG255</th>\n",
              "      <th>RG256</th>\n",
              "      <th>RG257</th>\n",
              "      <th>RG258</th>\n",
              "      <th>RG259</th>\n",
              "      <th>RG260</th>\n",
              "      <th>RG261</th>\n",
              "      <th>RG262</th>\n",
              "      <th>RG263</th>\n",
              "      <th>RG264</th>\n",
              "      <th>RG265</th>\n",
              "      <th>RG266</th>\n",
              "      <th>RG267</th>\n",
              "      <th>RG268</th>\n",
              "      <th>RG269</th>\n",
              "      <th>RG270</th>\n",
              "      <th>RG271</th>\n",
              "      <th>RG272</th>\n",
              "      <th>RG273</th>\n",
              "      <th>RG274</th>\n",
              "      <th>RG275</th>\n",
              "      <th>RG276</th>\n",
              "      <th>RG277</th>\n",
              "      <th>RG278</th>\n",
              "      <th>RG279</th>\n",
              "      <th>RG280</th>\n",
              "      <th>RG281</th>\n",
              "      <th>RG282</th>\n",
              "      <th>RG283</th>\n",
              "      <th>RG284</th>\n",
              "      <th>X2</th>\n",
              "      <th>X3</th>\n",
              "      <th>X4</th>\n",
              "      <th>Other</th>\n",
              "      <th>Salaried</th>\n",
              "      <th>Self_Employed</th>\n",
              "      <th>Yes</th>\n",
              "    </tr>\n",
              "  </thead>\n",
              "  <tbody>\n",
              "    <tr>\n",
              "      <th>0</th>\n",
              "      <td>29</td>\n",
              "      <td>25</td>\n",
              "      <td>742366</td>\n",
              "      <td>1</td>\n",
              "      <td>0</td>\n",
              "      <td>1</td>\n",
              "      <td>0</td>\n",
              "      <td>0</td>\n",
              "      <td>0</td>\n",
              "      <td>1</td>\n",
              "      <td>0</td>\n",
              "      <td>0</td>\n",
              "      <td>0</td>\n",
              "      <td>0</td>\n",
              "      <td>0</td>\n",
              "      <td>0</td>\n",
              "      <td>0</td>\n",
              "      <td>0</td>\n",
              "      <td>0</td>\n",
              "      <td>0</td>\n",
              "      <td>0</td>\n",
              "      <td>0</td>\n",
              "      <td>0</td>\n",
              "      <td>0</td>\n",
              "      <td>0</td>\n",
              "      <td>0</td>\n",
              "      <td>0</td>\n",
              "      <td>0</td>\n",
              "      <td>0</td>\n",
              "      <td>0</td>\n",
              "      <td>0</td>\n",
              "      <td>0</td>\n",
              "      <td>0</td>\n",
              "      <td>0</td>\n",
              "      <td>0</td>\n",
              "      <td>0</td>\n",
              "      <td>0</td>\n",
              "      <td>0</td>\n",
              "      <td>0</td>\n",
              "      <td>0</td>\n",
              "      <td>0</td>\n",
              "      <td>0</td>\n",
              "      <td>0</td>\n",
              "      <td>1</td>\n",
              "      <td>0</td>\n",
              "      <td>0</td>\n",
              "      <td>0</td>\n",
              "    </tr>\n",
              "    <tr>\n",
              "      <th>1</th>\n",
              "      <td>43</td>\n",
              "      <td>49</td>\n",
              "      <td>925537</td>\n",
              "      <td>1</td>\n",
              "      <td>1</td>\n",
              "      <td>0</td>\n",
              "      <td>0</td>\n",
              "      <td>0</td>\n",
              "      <td>0</td>\n",
              "      <td>0</td>\n",
              "      <td>0</td>\n",
              "      <td>0</td>\n",
              "      <td>0</td>\n",
              "      <td>0</td>\n",
              "      <td>0</td>\n",
              "      <td>0</td>\n",
              "      <td>0</td>\n",
              "      <td>0</td>\n",
              "      <td>0</td>\n",
              "      <td>0</td>\n",
              "      <td>0</td>\n",
              "      <td>0</td>\n",
              "      <td>0</td>\n",
              "      <td>1</td>\n",
              "      <td>0</td>\n",
              "      <td>0</td>\n",
              "      <td>0</td>\n",
              "      <td>0</td>\n",
              "      <td>0</td>\n",
              "      <td>0</td>\n",
              "      <td>0</td>\n",
              "      <td>0</td>\n",
              "      <td>0</td>\n",
              "      <td>0</td>\n",
              "      <td>0</td>\n",
              "      <td>0</td>\n",
              "      <td>0</td>\n",
              "      <td>0</td>\n",
              "      <td>0</td>\n",
              "      <td>0</td>\n",
              "      <td>1</td>\n",
              "      <td>0</td>\n",
              "      <td>0</td>\n",
              "      <td>1</td>\n",
              "      <td>0</td>\n",
              "      <td>0</td>\n",
              "      <td>0</td>\n",
              "    </tr>\n",
              "    <tr>\n",
              "      <th>2</th>\n",
              "      <td>31</td>\n",
              "      <td>14</td>\n",
              "      <td>215949</td>\n",
              "      <td>1</td>\n",
              "      <td>0</td>\n",
              "      <td>0</td>\n",
              "      <td>0</td>\n",
              "      <td>0</td>\n",
              "      <td>0</td>\n",
              "      <td>0</td>\n",
              "      <td>0</td>\n",
              "      <td>0</td>\n",
              "      <td>0</td>\n",
              "      <td>0</td>\n",
              "      <td>0</td>\n",
              "      <td>0</td>\n",
              "      <td>0</td>\n",
              "      <td>0</td>\n",
              "      <td>0</td>\n",
              "      <td>0</td>\n",
              "      <td>0</td>\n",
              "      <td>0</td>\n",
              "      <td>0</td>\n",
              "      <td>0</td>\n",
              "      <td>0</td>\n",
              "      <td>1</td>\n",
              "      <td>0</td>\n",
              "      <td>0</td>\n",
              "      <td>0</td>\n",
              "      <td>0</td>\n",
              "      <td>0</td>\n",
              "      <td>0</td>\n",
              "      <td>0</td>\n",
              "      <td>0</td>\n",
              "      <td>0</td>\n",
              "      <td>0</td>\n",
              "      <td>0</td>\n",
              "      <td>0</td>\n",
              "      <td>0</td>\n",
              "      <td>0</td>\n",
              "      <td>0</td>\n",
              "      <td>0</td>\n",
              "      <td>0</td>\n",
              "      <td>0</td>\n",
              "      <td>1</td>\n",
              "      <td>0</td>\n",
              "      <td>0</td>\n",
              "    </tr>\n",
              "    <tr>\n",
              "      <th>3</th>\n",
              "      <td>29</td>\n",
              "      <td>33</td>\n",
              "      <td>868070</td>\n",
              "      <td>1</td>\n",
              "      <td>0</td>\n",
              "      <td>0</td>\n",
              "      <td>0</td>\n",
              "      <td>0</td>\n",
              "      <td>0</td>\n",
              "      <td>0</td>\n",
              "      <td>0</td>\n",
              "      <td>0</td>\n",
              "      <td>0</td>\n",
              "      <td>0</td>\n",
              "      <td>0</td>\n",
              "      <td>0</td>\n",
              "      <td>0</td>\n",
              "      <td>0</td>\n",
              "      <td>0</td>\n",
              "      <td>0</td>\n",
              "      <td>0</td>\n",
              "      <td>0</td>\n",
              "      <td>0</td>\n",
              "      <td>0</td>\n",
              "      <td>0</td>\n",
              "      <td>0</td>\n",
              "      <td>0</td>\n",
              "      <td>1</td>\n",
              "      <td>0</td>\n",
              "      <td>0</td>\n",
              "      <td>0</td>\n",
              "      <td>0</td>\n",
              "      <td>0</td>\n",
              "      <td>0</td>\n",
              "      <td>0</td>\n",
              "      <td>0</td>\n",
              "      <td>0</td>\n",
              "      <td>0</td>\n",
              "      <td>0</td>\n",
              "      <td>0</td>\n",
              "      <td>0</td>\n",
              "      <td>0</td>\n",
              "      <td>0</td>\n",
              "      <td>1</td>\n",
              "      <td>0</td>\n",
              "      <td>0</td>\n",
              "      <td>0</td>\n",
              "    </tr>\n",
              "    <tr>\n",
              "      <th>4</th>\n",
              "      <td>29</td>\n",
              "      <td>19</td>\n",
              "      <td>657087</td>\n",
              "      <td>0</td>\n",
              "      <td>0</td>\n",
              "      <td>0</td>\n",
              "      <td>0</td>\n",
              "      <td>0</td>\n",
              "      <td>0</td>\n",
              "      <td>0</td>\n",
              "      <td>0</td>\n",
              "      <td>0</td>\n",
              "      <td>0</td>\n",
              "      <td>0</td>\n",
              "      <td>0</td>\n",
              "      <td>0</td>\n",
              "      <td>0</td>\n",
              "      <td>0</td>\n",
              "      <td>0</td>\n",
              "      <td>0</td>\n",
              "      <td>0</td>\n",
              "      <td>0</td>\n",
              "      <td>0</td>\n",
              "      <td>0</td>\n",
              "      <td>0</td>\n",
              "      <td>1</td>\n",
              "      <td>0</td>\n",
              "      <td>0</td>\n",
              "      <td>0</td>\n",
              "      <td>0</td>\n",
              "      <td>0</td>\n",
              "      <td>0</td>\n",
              "      <td>0</td>\n",
              "      <td>0</td>\n",
              "      <td>0</td>\n",
              "      <td>0</td>\n",
              "      <td>0</td>\n",
              "      <td>0</td>\n",
              "      <td>0</td>\n",
              "      <td>0</td>\n",
              "      <td>0</td>\n",
              "      <td>0</td>\n",
              "      <td>0</td>\n",
              "      <td>1</td>\n",
              "      <td>0</td>\n",
              "      <td>0</td>\n",
              "      <td>0</td>\n",
              "    </tr>\n",
              "  </tbody>\n",
              "</table>\n",
              "</div>"
            ],
            "text/plain": [
              "   Age  Vintage  Avg_Account_Balance  Male  ...  Other  Salaried  Self_Employed  Yes\n",
              "0   29       25               742366     1  ...      1         0              0    0\n",
              "1   43       49               925537     1  ...      1         0              0    0\n",
              "2   31       14               215949     1  ...      0         1              0    0\n",
              "3   29       33               868070     1  ...      1         0              0    0\n",
              "4   29       19               657087     0  ...      1         0              0    0\n",
              "\n",
              "[5 rows x 47 columns]"
            ]
          },
          "metadata": {
            "tags": []
          },
          "execution_count": 295
        }
      ]
    },
    {
      "cell_type": "code",
      "metadata": {
        "colab": {
          "base_uri": "https://localhost:8080/",
          "height": 218
        },
        "id": "ERnGSkil771g",
        "outputId": "d6b1d035-7c38-49f8-d7ee-ef33a0bfe63f"
      },
      "source": [
        "test_final.columns = ['Age', 'Vintage', 'Avg_Account_Balance', 'Male', 'Unknown', 'Yes0',\n",
        "       'RG251', 'RG252', 'RG253', 'RG254', 'RG255', 'RG256', 'RG257', 'RG258',\n",
        "       'RG259', 'RG260', 'RG261', 'RG262', 'RG263', 'RG264', 'RG265', 'RG266',\n",
        "       'RG267', 'RG268', 'RG269', 'RG270', 'RG271', 'RG272', 'RG273', 'RG274',\n",
        "       'RG275', 'RG276', 'RG277', 'RG278', 'RG279', 'RG280', 'RG281', 'RG282',\n",
        "       'RG283', 'RG284', 'X2', 'X3', 'X4', 'Other', 'Salaried',\n",
        "       'Self_Employed', 'Yes']\n",
        "test_final.head()"
      ],
      "execution_count": 296,
      "outputs": [
        {
          "output_type": "execute_result",
          "data": {
            "text/html": [
              "<div>\n",
              "<style scoped>\n",
              "    .dataframe tbody tr th:only-of-type {\n",
              "        vertical-align: middle;\n",
              "    }\n",
              "\n",
              "    .dataframe tbody tr th {\n",
              "        vertical-align: top;\n",
              "    }\n",
              "\n",
              "    .dataframe thead th {\n",
              "        text-align: right;\n",
              "    }\n",
              "</style>\n",
              "<table border=\"1\" class=\"dataframe\">\n",
              "  <thead>\n",
              "    <tr style=\"text-align: right;\">\n",
              "      <th></th>\n",
              "      <th>Age</th>\n",
              "      <th>Vintage</th>\n",
              "      <th>Avg_Account_Balance</th>\n",
              "      <th>Male</th>\n",
              "      <th>Unknown</th>\n",
              "      <th>Yes0</th>\n",
              "      <th>RG251</th>\n",
              "      <th>RG252</th>\n",
              "      <th>RG253</th>\n",
              "      <th>RG254</th>\n",
              "      <th>RG255</th>\n",
              "      <th>RG256</th>\n",
              "      <th>RG257</th>\n",
              "      <th>RG258</th>\n",
              "      <th>RG259</th>\n",
              "      <th>RG260</th>\n",
              "      <th>RG261</th>\n",
              "      <th>RG262</th>\n",
              "      <th>RG263</th>\n",
              "      <th>RG264</th>\n",
              "      <th>RG265</th>\n",
              "      <th>RG266</th>\n",
              "      <th>RG267</th>\n",
              "      <th>RG268</th>\n",
              "      <th>RG269</th>\n",
              "      <th>RG270</th>\n",
              "      <th>RG271</th>\n",
              "      <th>RG272</th>\n",
              "      <th>RG273</th>\n",
              "      <th>RG274</th>\n",
              "      <th>RG275</th>\n",
              "      <th>RG276</th>\n",
              "      <th>RG277</th>\n",
              "      <th>RG278</th>\n",
              "      <th>RG279</th>\n",
              "      <th>RG280</th>\n",
              "      <th>RG281</th>\n",
              "      <th>RG282</th>\n",
              "      <th>RG283</th>\n",
              "      <th>RG284</th>\n",
              "      <th>X2</th>\n",
              "      <th>X3</th>\n",
              "      <th>X4</th>\n",
              "      <th>Other</th>\n",
              "      <th>Salaried</th>\n",
              "      <th>Self_Employed</th>\n",
              "      <th>Yes</th>\n",
              "    </tr>\n",
              "  </thead>\n",
              "  <tbody>\n",
              "    <tr>\n",
              "      <th>0</th>\n",
              "      <td>29</td>\n",
              "      <td>25</td>\n",
              "      <td>742366</td>\n",
              "      <td>1</td>\n",
              "      <td>0</td>\n",
              "      <td>1</td>\n",
              "      <td>0</td>\n",
              "      <td>0</td>\n",
              "      <td>0</td>\n",
              "      <td>1</td>\n",
              "      <td>0</td>\n",
              "      <td>0</td>\n",
              "      <td>0</td>\n",
              "      <td>0</td>\n",
              "      <td>0</td>\n",
              "      <td>0</td>\n",
              "      <td>0</td>\n",
              "      <td>0</td>\n",
              "      <td>0</td>\n",
              "      <td>0</td>\n",
              "      <td>0</td>\n",
              "      <td>0</td>\n",
              "      <td>0</td>\n",
              "      <td>0</td>\n",
              "      <td>0</td>\n",
              "      <td>0</td>\n",
              "      <td>0</td>\n",
              "      <td>0</td>\n",
              "      <td>0</td>\n",
              "      <td>0</td>\n",
              "      <td>0</td>\n",
              "      <td>0</td>\n",
              "      <td>0</td>\n",
              "      <td>0</td>\n",
              "      <td>0</td>\n",
              "      <td>0</td>\n",
              "      <td>0</td>\n",
              "      <td>0</td>\n",
              "      <td>0</td>\n",
              "      <td>0</td>\n",
              "      <td>0</td>\n",
              "      <td>0</td>\n",
              "      <td>0</td>\n",
              "      <td>1</td>\n",
              "      <td>0</td>\n",
              "      <td>0</td>\n",
              "      <td>0</td>\n",
              "    </tr>\n",
              "    <tr>\n",
              "      <th>1</th>\n",
              "      <td>43</td>\n",
              "      <td>49</td>\n",
              "      <td>925537</td>\n",
              "      <td>1</td>\n",
              "      <td>1</td>\n",
              "      <td>0</td>\n",
              "      <td>0</td>\n",
              "      <td>0</td>\n",
              "      <td>0</td>\n",
              "      <td>0</td>\n",
              "      <td>0</td>\n",
              "      <td>0</td>\n",
              "      <td>0</td>\n",
              "      <td>0</td>\n",
              "      <td>0</td>\n",
              "      <td>0</td>\n",
              "      <td>0</td>\n",
              "      <td>0</td>\n",
              "      <td>0</td>\n",
              "      <td>0</td>\n",
              "      <td>0</td>\n",
              "      <td>0</td>\n",
              "      <td>0</td>\n",
              "      <td>1</td>\n",
              "      <td>0</td>\n",
              "      <td>0</td>\n",
              "      <td>0</td>\n",
              "      <td>0</td>\n",
              "      <td>0</td>\n",
              "      <td>0</td>\n",
              "      <td>0</td>\n",
              "      <td>0</td>\n",
              "      <td>0</td>\n",
              "      <td>0</td>\n",
              "      <td>0</td>\n",
              "      <td>0</td>\n",
              "      <td>0</td>\n",
              "      <td>0</td>\n",
              "      <td>0</td>\n",
              "      <td>0</td>\n",
              "      <td>1</td>\n",
              "      <td>0</td>\n",
              "      <td>0</td>\n",
              "      <td>1</td>\n",
              "      <td>0</td>\n",
              "      <td>0</td>\n",
              "      <td>0</td>\n",
              "    </tr>\n",
              "    <tr>\n",
              "      <th>2</th>\n",
              "      <td>31</td>\n",
              "      <td>14</td>\n",
              "      <td>215949</td>\n",
              "      <td>1</td>\n",
              "      <td>0</td>\n",
              "      <td>0</td>\n",
              "      <td>0</td>\n",
              "      <td>0</td>\n",
              "      <td>0</td>\n",
              "      <td>0</td>\n",
              "      <td>0</td>\n",
              "      <td>0</td>\n",
              "      <td>0</td>\n",
              "      <td>0</td>\n",
              "      <td>0</td>\n",
              "      <td>0</td>\n",
              "      <td>0</td>\n",
              "      <td>0</td>\n",
              "      <td>0</td>\n",
              "      <td>0</td>\n",
              "      <td>0</td>\n",
              "      <td>0</td>\n",
              "      <td>0</td>\n",
              "      <td>0</td>\n",
              "      <td>0</td>\n",
              "      <td>1</td>\n",
              "      <td>0</td>\n",
              "      <td>0</td>\n",
              "      <td>0</td>\n",
              "      <td>0</td>\n",
              "      <td>0</td>\n",
              "      <td>0</td>\n",
              "      <td>0</td>\n",
              "      <td>0</td>\n",
              "      <td>0</td>\n",
              "      <td>0</td>\n",
              "      <td>0</td>\n",
              "      <td>0</td>\n",
              "      <td>0</td>\n",
              "      <td>0</td>\n",
              "      <td>0</td>\n",
              "      <td>0</td>\n",
              "      <td>0</td>\n",
              "      <td>0</td>\n",
              "      <td>1</td>\n",
              "      <td>0</td>\n",
              "      <td>0</td>\n",
              "    </tr>\n",
              "    <tr>\n",
              "      <th>3</th>\n",
              "      <td>29</td>\n",
              "      <td>33</td>\n",
              "      <td>868070</td>\n",
              "      <td>1</td>\n",
              "      <td>0</td>\n",
              "      <td>0</td>\n",
              "      <td>0</td>\n",
              "      <td>0</td>\n",
              "      <td>0</td>\n",
              "      <td>0</td>\n",
              "      <td>0</td>\n",
              "      <td>0</td>\n",
              "      <td>0</td>\n",
              "      <td>0</td>\n",
              "      <td>0</td>\n",
              "      <td>0</td>\n",
              "      <td>0</td>\n",
              "      <td>0</td>\n",
              "      <td>0</td>\n",
              "      <td>0</td>\n",
              "      <td>0</td>\n",
              "      <td>0</td>\n",
              "      <td>0</td>\n",
              "      <td>0</td>\n",
              "      <td>0</td>\n",
              "      <td>0</td>\n",
              "      <td>0</td>\n",
              "      <td>1</td>\n",
              "      <td>0</td>\n",
              "      <td>0</td>\n",
              "      <td>0</td>\n",
              "      <td>0</td>\n",
              "      <td>0</td>\n",
              "      <td>0</td>\n",
              "      <td>0</td>\n",
              "      <td>0</td>\n",
              "      <td>0</td>\n",
              "      <td>0</td>\n",
              "      <td>0</td>\n",
              "      <td>0</td>\n",
              "      <td>0</td>\n",
              "      <td>0</td>\n",
              "      <td>0</td>\n",
              "      <td>1</td>\n",
              "      <td>0</td>\n",
              "      <td>0</td>\n",
              "      <td>0</td>\n",
              "    </tr>\n",
              "    <tr>\n",
              "      <th>4</th>\n",
              "      <td>29</td>\n",
              "      <td>19</td>\n",
              "      <td>657087</td>\n",
              "      <td>0</td>\n",
              "      <td>0</td>\n",
              "      <td>0</td>\n",
              "      <td>0</td>\n",
              "      <td>0</td>\n",
              "      <td>0</td>\n",
              "      <td>0</td>\n",
              "      <td>0</td>\n",
              "      <td>0</td>\n",
              "      <td>0</td>\n",
              "      <td>0</td>\n",
              "      <td>0</td>\n",
              "      <td>0</td>\n",
              "      <td>0</td>\n",
              "      <td>0</td>\n",
              "      <td>0</td>\n",
              "      <td>0</td>\n",
              "      <td>0</td>\n",
              "      <td>0</td>\n",
              "      <td>0</td>\n",
              "      <td>0</td>\n",
              "      <td>0</td>\n",
              "      <td>1</td>\n",
              "      <td>0</td>\n",
              "      <td>0</td>\n",
              "      <td>0</td>\n",
              "      <td>0</td>\n",
              "      <td>0</td>\n",
              "      <td>0</td>\n",
              "      <td>0</td>\n",
              "      <td>0</td>\n",
              "      <td>0</td>\n",
              "      <td>0</td>\n",
              "      <td>0</td>\n",
              "      <td>0</td>\n",
              "      <td>0</td>\n",
              "      <td>0</td>\n",
              "      <td>0</td>\n",
              "      <td>0</td>\n",
              "      <td>0</td>\n",
              "      <td>1</td>\n",
              "      <td>0</td>\n",
              "      <td>0</td>\n",
              "      <td>0</td>\n",
              "    </tr>\n",
              "  </tbody>\n",
              "</table>\n",
              "</div>"
            ],
            "text/plain": [
              "   Age  Vintage  Avg_Account_Balance  Male  ...  Other  Salaried  Self_Employed  Yes\n",
              "0   29       25               742366     1  ...      1         0              0    0\n",
              "1   43       49               925537     1  ...      1         0              0    0\n",
              "2   31       14               215949     1  ...      0         1              0    0\n",
              "3   29       33               868070     1  ...      1         0              0    0\n",
              "4   29       19               657087     0  ...      1         0              0    0\n",
              "\n",
              "[5 rows x 47 columns]"
            ]
          },
          "metadata": {
            "tags": []
          },
          "execution_count": 296
        }
      ]
    },
    {
      "cell_type": "code",
      "metadata": {
        "id": "p9cFIXzFuo6n"
      },
      "source": [
        "pred = XGB3.predict(test_final.to_numpy())"
      ],
      "execution_count": 297,
      "outputs": []
    },
    {
      "cell_type": "code",
      "metadata": {
        "colab": {
          "base_uri": "https://localhost:8080/"
        },
        "id": "HW3UWlEtuvs3",
        "outputId": "7d4f5740-7b30-4766-cd48-1d048c47443e"
      },
      "source": [
        "print(len(IDs))\n",
        "len(pred)"
      ],
      "execution_count": 298,
      "outputs": [
        {
          "output_type": "stream",
          "text": [
            "105312\n"
          ],
          "name": "stdout"
        },
        {
          "output_type": "execute_result",
          "data": {
            "text/plain": [
              "105312"
            ]
          },
          "metadata": {
            "tags": []
          },
          "execution_count": 298
        }
      ]
    },
    {
      "cell_type": "code",
      "metadata": {
        "id": "1HIDidZQuwwd"
      },
      "source": [
        "result = pd.DataFrame(pd.np.column_stack([IDs,pred]),columns=['ID','Is_Lead'])"
      ],
      "execution_count": 300,
      "outputs": []
    },
    {
      "cell_type": "code",
      "metadata": {
        "id": "jXLrm9-0v8V8"
      },
      "source": [
        "result.to_csv('final_sub.csv', index=False)"
      ],
      "execution_count": 299,
      "outputs": []
    },
    {
      "cell_type": "code",
      "metadata": {
        "id": "yjQN1A4WwVxh"
      },
      "source": [
        ""
      ],
      "execution_count": null,
      "outputs": []
    },
    {
      "cell_type": "markdown",
      "metadata": {
        "id": "SbA_ha_0tsx7"
      },
      "source": [
        "# ***`Summarizing Results`***"
      ]
    },
    {
      "cell_type": "code",
      "metadata": {
        "id": "hZeZkFlVtXww"
      },
      "source": [
        ""
      ],
      "execution_count": null,
      "outputs": []
    }
  ]
}