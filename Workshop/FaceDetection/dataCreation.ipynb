{
 "metadata": {
  "language_info": {
   "codemirror_mode": {
    "name": "ipython",
    "version": 3
   },
   "file_extension": ".py",
   "mimetype": "text/x-python",
   "name": "python",
   "nbconvert_exporter": "python",
   "pygments_lexer": "ipython3",
   "version": "3.8.5-final"
  },
  "orig_nbformat": 2,
  "kernelspec": {
   "name": "Python 3.8.5 64-bit",
   "display_name": "Python 3.8.5 64-bit",
   "metadata": {
    "interpreter": {
     "hash": "4cd7ab41f5fca4b9b44701077e38c5ffd31fe66a6cab21e0214b68d958d0e462"
    }
   }
  }
 },
 "nbformat": 4,
 "nbformat_minor": 2,
 "cells": [
  {
   "cell_type": "code",
   "execution_count": 1,
   "metadata": {},
   "outputs": [
    {
     "output_type": "stream",
     "name": "stdout",
     "text": [
      "Labels: ['George W Bush', 'Barack Obama', 'Donald Trump']\nCatagories: [0 1 2]\nCatagories Dict: {}\n"
     ]
    }
   ],
   "source": [
    "import os,numpy as np\n",
    "data_path=\"/Users/mac/Desktop/Simple DSP/Workshop/FaceDetection/train_data_2\"\n",
    "labels=os.listdir(data_path)\n",
    "catagories=np.arange(len(labels))\n",
    "catagory_dict=dict(zip())\n",
    "\n",
    "print(\"Labels:\",labels)\n",
    "print(\"Catagories:\",catagories)\n",
    "print(\"Catagories Dict:\",catagory_dict)"
   ]
  },
  {
   "cell_type": "code",
   "execution_count": 2,
   "metadata": {},
   "outputs": [],
   "source": [
    "import cv2\n",
    "\n",
    "face_classifier=cv2.CascadeClassifier(\"/Users/mac/Desktop/Simple DSP/Workshop/FaceDetection/haarcascade_frontalface_default.xml\")\n",
    "\n",
    "data=[]\n",
    "targe=[]\n",
    "\n",
    "for label in labels:\n",
    "    imgs_path=os.path.join(data_path,label)\n",
    "    #Loaded all classified images in form of list img_names\n",
    "    img_names=os.listdir(imgs_path)     \n",
    "    \n",
    "    #Getting Every single image\n",
    "    for img_name in img_names:\n",
    "        img_path=os.path.join(imgs_path,img_name)\n",
    "        #Reading specific image\n",
    "        img=cv2.imread(img_path)\n",
    "        #Converting image to Gray\n",
    "        gray=cv2.cvtColor(img,cv2.COLOR_BGR2GRAY)\n",
    "        #Using HaarCascade classifier for face detection\n",
    "        faces=face_classifier.detectMultiScale(gray)\n",
    "\n",
    "        #face_classifier returns all the faces and face like objects in image\n",
    "        for (x,y,w,h) in faces:\n",
    "            cropped_face=gray[y:y+h,x:x+h]\n",
    "        \n",
    "            cv2.imshow(\"LIVE\",cropped_face)\n",
    "            key2=cv2.waitKey(0)\n",
    "\n",
    "            #Accepting the data manually if the face_classifier has given \n",
    "            #proper face or not\n",
    "            #pressing y(121 ASCII) if face except pass\n",
    "            if key==121:\n",
    "                cropped_face=cv2.resize(cropped_face,(50,50))\n",
    "                data.append(cropped_face)\n",
    "                target.append(catagory_dict[label])\n",
    "                print(\"This Image is accepted! OP!\")\n",
    "            else:\n",
    "                pass\n",
    "cv2.destroyAllWindows()\n",
    "\n"
   ]
  },
  {
   "cell_type": "code",
   "execution_count": null,
   "metadata": {},
   "outputs": [],
   "source": [
    "data=np.array(data)\n",
    "target=np.array(target)\n",
    "\n",
    "noImages,height,width=data.shape\n",
    "\n",
    "#Flattening the images (For 50 * 50 ==> 2500)\n",
    "data=data.reshape(noImages,height*width)\n",
    "\n",
    "np.save(\"data\",data)\n",
    "np.save(\"target\",target)"
   ]
  }
 ]
}