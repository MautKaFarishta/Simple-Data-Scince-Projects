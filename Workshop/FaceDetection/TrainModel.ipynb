{
 "metadata": {
  "language_info": {
   "codemirror_mode": {
    "name": "ipython",
    "version": 3
   },
   "file_extension": ".py",
   "mimetype": "text/x-python",
   "name": "python",
   "nbconvert_exporter": "python",
   "pygments_lexer": "ipython3",
   "version": "3.8.5-final"
  },
  "orig_nbformat": 2,
  "kernelspec": {
   "name": "Python 3.8.5 64-bit",
   "display_name": "Python 3.8.5 64-bit",
   "metadata": {
    "interpreter": {
     "hash": "4cd7ab41f5fca4b9b44701077e38c5ffd31fe66a6cab21e0214b68d958d0e462"
    }
   }
  }
 },
 "nbformat": 4,
 "nbformat_minor": 2,
 "cells": [
  {
   "cell_type": "code",
   "execution_count": 1,
   "metadata": {},
   "outputs": [
    {
     "output_type": "stream",
     "name": "stdout",
     "text": [
      "(285, 2500) (285,)\n"
     ]
    }
   ],
   "source": [
    "import numpy as np\n",
    "\n",
    "data=np.load('/Users/mac/Desktop/Simple DSP/Workshop/FaceDetection/data.npy')\n",
    "target=np.load(\"/Users/mac/Desktop/Simple DSP/Workshop/FaceDetection/target.npy\")\n",
    "\n",
    "print(data.shape,target.shape)"
   ]
  },
  {
   "cell_type": "code",
   "execution_count": 2,
   "metadata": {},
   "outputs": [
    {
     "output_type": "stream",
     "name": "stdout",
     "text": [
      "Counter({1: 113, 2: 91, 0: 81})\n"
     ]
    }
   ],
   "source": [
    "import collections\n",
    "print(collections.Counter(target))"
   ]
  },
  {
   "cell_type": "code",
   "execution_count": 4,
   "metadata": {},
   "outputs": [],
   "source": [
    "from sklearn.model_selection import train_test_split\n",
    "\n",
    "train_data,test_data,train_target,test_target=train_test_split(data,target,test_size=0.2)"
   ]
  },
  {
   "cell_type": "markdown",
   "metadata": {},
   "source": [
    "#2500 features are too much and can fail the ML algorithm\n",
    "#Using Principle Component analysis\n",
    "#It reduces features with minimum lost in the value\n",
    "\n"
   ]
  },
  {
   "cell_type": "code",
   "execution_count": 20,
   "metadata": {},
   "outputs": [],
   "source": [
    "from sklearn.svm import SVC\n",
    "from sklearn.decomposition import PCA\n",
    "from sklearn.pipeline import make_pipeline\n",
    "\n",
    "pca=PCA(n_components=150,whiten=True,random_state=42)\n",
    "svc=SVC()\n",
    "\n",
    "model=make_pipeline(pca,svc)"
   ]
  },
  {
   "cell_type": "code",
   "execution_count": 21,
   "metadata": {},
   "outputs": [
    {
     "output_type": "execute_result",
     "data": {
      "text/plain": [
       "Pipeline(steps=[('pca', PCA(n_components=150, random_state=42, whiten=True)),\n",
       "                ('svc', SVC())])"
      ]
     },
     "metadata": {},
     "execution_count": 21
    }
   ],
   "source": [
    "model.fit(train_data,train_target)"
   ]
  },
  {
   "cell_type": "code",
   "execution_count": 22,
   "metadata": {},
   "outputs": [
    {
     "output_type": "stream",
     "name": "stdout",
     "text": [
      "0.9473684210526315\n"
     ]
    }
   ],
   "source": [
    "predicted=model.predict(test_data)\n",
    "\n",
    "from sklearn.metrics import accuracy_score\n",
    "\n",
    "acc=accuracy_score(test_target,predicted)\n",
    "\n",
    "print(acc)"
   ]
  },
  {
   "cell_type": "code",
   "execution_count": 24,
   "metadata": {},
   "outputs": [
    {
     "output_type": "stream",
     "name": "stdout",
     "text": [
      "               precision    recall  f1-score   support\n\nGeorge W Bush       1.00      0.77      0.87        13\n Barack Obama       1.00      1.00      1.00        27\n Donald Trump       0.85      1.00      0.92        17\n\n     accuracy                           0.95        57\n    macro avg       0.95      0.92      0.93        57\n weighted avg       0.96      0.95      0.95        57\n\n"
     ]
    }
   ],
   "source": [
    "from sklearn.metrics import classification_report\n",
    "\n",
    "print(classification_report(test_target,predicted,target_names=['George W Bush', 'Barack Obama', 'Donald Trump']))"
   ]
  },
  {
   "cell_type": "code",
   "execution_count": 25,
   "metadata": {},
   "outputs": [
    {
     "output_type": "execute_result",
     "data": {
      "text/plain": [
       "['SVM-face']"
      ]
     },
     "metadata": {},
     "execution_count": 25
    }
   ],
   "source": [
    "import joblib\n",
    "\n",
    "joblib.dump(model,\"SVM-face\") "
   ]
  },
  {
   "cell_type": "code",
   "execution_count": null,
   "metadata": {},
   "outputs": [],
   "source": []
  }
 ]
}