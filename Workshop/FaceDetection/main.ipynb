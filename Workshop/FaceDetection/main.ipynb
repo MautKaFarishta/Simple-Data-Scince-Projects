{
 "metadata": {
  "language_info": {
   "codemirror_mode": {
    "name": "ipython",
    "version": 3
   },
   "file_extension": ".py",
   "mimetype": "text/x-python",
   "name": "python",
   "nbconvert_exporter": "python",
   "pygments_lexer": "ipython3",
   "version": "3.8.5-final"
  },
  "orig_nbformat": 2,
  "kernelspec": {
   "name": "Python 3.8.5 64-bit",
   "display_name": "Python 3.8.5 64-bit",
   "metadata": {
    "interpreter": {
     "hash": "4cd7ab41f5fca4b9b44701077e38c5ffd31fe66a6cab21e0214b68d958d0e462"
    }
   }
  }
 },
 "nbformat": 4,
 "nbformat_minor": 2,
 "cells": [
  {
   "cell_type": "code",
   "execution_count": 3,
   "metadata": {},
   "outputs": [
    {
     "output_type": "stream",
     "name": "stdout",
     "text": [
      "Labels: ['George W Bush', 'Barack Obama', 'Donald Trump']\nCatagories: [0 1 2]\nCatagories Dict: {}\n"
     ]
    }
   ],
   "source": [
    "import os,numpy as np\n",
    "data_path=\"/Users/mac/Desktop/Simple DSP/Workshop/FaceDetection/train_data_2\"\n",
    "labels=os.listdir(data_path)\n",
    "catagories=np.arange(len(labels))\n",
    "catagory_dict=dict(zip())\n",
    "\n",
    "print(\"Labels:\",labels)\n",
    "print(\"Catagories:\",catagories)\n",
    "print(\"Catagories Dict:\",catagory_dict)"
   ]
  },
  {
   "cell_type": "code",
   "execution_count": null,
   "metadata": {},
   "outputs": [],
   "source": []
  }
 ]
}